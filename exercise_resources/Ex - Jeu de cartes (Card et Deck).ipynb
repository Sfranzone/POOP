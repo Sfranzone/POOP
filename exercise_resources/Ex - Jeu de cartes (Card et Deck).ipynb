{
 "cells": [
  {
   "cell_type": "markdown",
   "id": "8d7e95b3",
   "metadata": {},
   "source": [
    "## Jeu de cartes - création des classes Card et Deck"
   ]
  },
  {
   "cell_type": "markdown",
   "id": "00e6603c",
   "metadata": {},
   "source": [
    "Nous allons à présent construire les classes Card et Deck évoquées la semaine dernière. Nous avons besoin pour cela de la notion de \"dunder methods\" (voir par exemple [ici](https://www.section.io/engineering-education/dunder-methods-python/) pour réécrire certains comportements par défaut de nos classes."
   ]
  },
  {
   "cell_type": "markdown",
   "id": "e56c2616",
   "metadata": {},
   "source": [
    "### La classe \"Card\""
   ]
  },
  {
   "cell_type": "markdown",
   "id": "c92dbe5e",
   "metadata": {},
   "source": [
    "La classe \"Card\" contiendra la liste des couleurs et des valeurs possibles des cartes, ainsi que notre définition de leur hiérarchie."
   ]
  },
  {
   "cell_type": "markdown",
   "id": "a2f56cb2",
   "metadata": {},
   "source": [
    "Pour construire cette classe, il vous faut :\n",
    "* Compléter les listes \"suits\" et \"ranks\" avec les couleurs et valeurs autorisées (indice : vous pouvez vous servir des symboles unicode des quatre couleurs standard, ex. ♠ (\"\\u2660\"), pour améliorer la lisibilité)\n",
    "* initialiser ces attributs dans la fonction \\_\\_init\\_\\_()\n",
    "* Réécrire la fonction \\_\\_str\\_\\_() pour que l'affichage des cartes soit comme suit : 4♠\n",
    "* Réécrire la fonction \\_\\_lt\\_\\_() pour donner la hiérarchie des cartes : si le rang est différent, on fait un test logique pour voir lequel est le plus grand, si le rang est le même, on fait le test logique sur les couleurs. Par ex, si notre liste des couleurs cite ♥ avant ♠, 4♥ sera plus petit que 4♠"
   ]
  },
  {
   "cell_type": "code",
   "execution_count": null,
   "id": "2fdff0bd",
   "metadata": {},
   "outputs": [],
   "source": [
    "class Card:\n",
    "    suits = []\n",
    "    ranks = []\n",
    "    \n",
    "    def __init__():\n",
    "        \n",
    "    def __str__():\n",
    "\n",
    "    def __lt__():\n",
    "\n"
   ]
  },
  {
   "cell_type": "markdown",
   "id": "7a189571",
   "metadata": {},
   "source": [
    "### La classe \"Deck\""
   ]
  },
  {
   "cell_type": "markdown",
   "id": "7a8be7fd",
   "metadata": {},
   "source": [
    "La classe \"Deck\" contiendra les 52 cartes possibles dans un ordre aléatoire, ainsi que des fonctions pour ajouter, enlever ou mélanger les cartes."
   ]
  },
  {
   "cell_type": "markdown",
   "id": "cde4b295",
   "metadata": {},
   "source": [
    "Pour construire la carte \"Deck\", il vous faut :\n",
    "* Créer une liste self.deck avec des instances des 52 possibilités de Card()\n",
    "* Créer la fonction \"add\" qui rajoute une carte au deck\n",
    "* Créer la fonction \"remove\" qui enlève une carte du deck (pour l'instant, on décide qu'elle enlèvera toujours la dernière)\n",
    "* Créer la fonction \"shuffle\" qui mélange le deck (indice : utilisez le package \"random\")\n",
    "* Réécrire la fonction \\_\\_getitem\\_\\_() pour pouvoir appeler une carte du deck avec la syntaxe deck\\[index\\] (pour faciliter la manipulation du deck) (par exexemple : deck\\[3\\] ira chercher l'élément d'index 3 dans le deck)\n",
    "* Ajouter un shuffle dans le \\_\\_init\\_\\_() pour que le paquet soit mélangé à chaque nouvelle instance de Deck"
   ]
  },
  {
   "cell_type": "code",
   "execution_count": null,
   "id": "9f9be7e9",
   "metadata": {},
   "outputs": [],
   "source": [
    "import random\n",
    "\n",
    "class Deck:\n",
    "    def __init__():\n",
    "\n",
    "        \n",
    "    def __len__():\n",
    "\n",
    "    \n",
    "    def __getitem__():\n",
    "\n",
    "    \n",
    "    def add():\n",
    "\n",
    "        \n",
    "    def remove():\n",
    "\n",
    "    \n",
    "    def shuffle():\n"
   ]
  }
 ],
 "metadata": {
  "kernelspec": {
   "display_name": "Python 3",
   "language": "python",
   "name": "python3"
  },
  "language_info": {
   "codemirror_mode": {
    "name": "ipython",
    "version": 3
   },
   "file_extension": ".py",
   "mimetype": "text/x-python",
   "name": "python",
   "nbconvert_exporter": "python",
   "pygments_lexer": "ipython3",
   "version": "3.7.10"
  }
 },
 "nbformat": 4,
 "nbformat_minor": 5
}