{
 "cells": [
  {
   "cell_type": "markdown",
   "id": "89f0e320",
   "metadata": {},
   "source": [
    "## Semaine 2 : Pandas (exercices)"
   ]
  },
  {
   "cell_type": "markdown",
   "id": "98bdaf1a",
   "metadata": {},
   "source": [
    "N'hésitez pas à utiliser cette ressource https://pandas.pydata.org/docs/user_guide/basics.html pour trouver des fonctions utiles dans Pandas."
   ]
  },
  {
   "cell_type": "markdown",
   "id": "4c0d3b34",
   "metadata": {},
   "source": [
    "### Chargement des données\n",
    "* À l'aide de la fonction ``pandas.read_json``, chargez votre base de données de la semaine dernière, ainsi que les deux fichiers .json fournis pour ce cours : \"gameslist1.json\" et \"gameslist2.json\". \n",
    "\n",
    "* Créez ensuite trois DataFrames pour contenir ces trois bibliothèques de jeux.\n",
    "\n",
    "* On aimerait unifier ces trois bases pour en faire une seule : utilisez la fonction ``merge`` de pandas pour réunir les 3 DataFrames (vous pouvez le faire en deux étapes)."
   ]
  },
  {
   "cell_type": "markdown",
   "id": "48bc0cd2",
   "metadata": {},
   "source": [
    "### Exploration \n",
    "Répondez aux questions suivantes à l'aide des fonctionnalités de Pandas :\n",
    "   * Combien y a-t-il de jeux sur PC ?\n",
    "   * Quel est le jeu le plus vieux ?\n",
    "   * Quel jeu est le premier dans l'ordre alphabétique ?\n",
    "   * Combien de consoles différentes sont listées ?\n",
    "   * Y a-t-il un jeu sorti sur PS4 en 2015 ?\n",
    "   * Créez un dataframe comprenant uniquement les jeux sortis entre 2014 et 2017."
   ]
  }
 ],
 "metadata": {
  "kernelspec": {
   "display_name": "Python 3",
   "language": "python",
   "name": "python3"
  },
  "language_info": {
   "codemirror_mode": {
    "name": "ipython",
    "version": 3
   },
   "file_extension": ".py",
   "mimetype": "text/x-python",
   "name": "python",
   "nbconvert_exporter": "python",
   "pygments_lexer": "ipython3",
   "version": "3.7.10"
  }
 },
 "nbformat": 4,
 "nbformat_minor": 5
}
