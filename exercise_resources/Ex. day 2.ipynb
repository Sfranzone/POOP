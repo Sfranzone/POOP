{
 "cells": [
  {
   "cell_type": "markdown",
   "id": "89f0e320",
   "metadata": {},
   "source": [
    "## Exercices sur pandas"
   ]
  },
  {
   "cell_type": "markdown",
   "id": "567859b5",
   "metadata": {},
   "source": [
    "Voir quelles données on veut utiliser pour ces exercices (réf. au cours ou à l'exercice précédent, ou autre)"
   ]
  },
  {
   "cell_type": "markdown",
   "id": "61237eb8",
   "metadata": {},
   "source": [
    "Idées :\n",
    "\n",
    "* opérateurs basiques (sum(), max(), mean(), etc.)\n",
    "* Filtrer par rapport à un critère (df\\[df['column1'] > 2\\]) \n",
    "* joindre des dataframes -> écho avec le cours de base de données ? genre outer join, etc.\n",
    "* fillna, peut-être ?\n",
    "* groupby ? ou plus tard ?"
   ]
  },
  {
   "cell_type": "markdown",
   "id": "98bdaf1a",
   "metadata": {},
   "source": [
    "https://pandas.pydata.org/docs/user_guide/basics.html"
   ]
  },
  {
   "cell_type": "code",
   "execution_count": null,
   "id": "6da42fd5",
   "metadata": {},
   "outputs": [],
   "source": []
  }
 ],
 "metadata": {
  "kernelspec": {
   "display_name": "Python 3 (ipykernel)",
   "language": "python",
   "name": "python3"
  },
  "language_info": {
   "codemirror_mode": {
    "name": "ipython",
    "version": 3
   },
   "file_extension": ".py",
   "mimetype": "text/x-python",
   "name": "python",
   "nbconvert_exporter": "python",
   "pygments_lexer": "ipython3",
   "version": "3.9.7"
  }
 },
 "nbformat": 4,
 "nbformat_minor": 5
}
