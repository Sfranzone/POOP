{
 "cells": [
  {
   "cell_type": "markdown",
   "id": "fa75961c",
   "metadata": {},
   "source": [
    "## Implémenter les trois classes esquissées la semaine dernière : \n",
    "* Card\n",
    "* Deck\n",
    "* Hand"
   ]
  },
  {
   "cell_type": "code",
   "execution_count": 1,
   "id": "1d39b343",
   "metadata": {},
   "outputs": [],
   "source": [
    "class Card:\n",
    "    suits = ['\\u2666', '\\u2665', '\\u2663', '\\u2660']\n",
    "    ranks = [\"2\", \"3\", \"4\", \"5\", \"6\", \"7\", \"8\", \"9\", \"10\", \"J\", \"Q\", \"K\", \"A\"]\n",
    "    \n",
    "    def __init__(self, suit, rank):\n",
    "        self.suit = suit\n",
    "        self.rank = rank\n",
    "        \n",
    "    def __str__(self):\n",
    "        return f\"{Card.ranks[self.rank]}{Card.suits[self.suit]}\"\n",
    "    \n",
    "    def __lt__(self, other):\n",
    "        if self.rank == other.rank:\n",
    "            return self.suit < other.suit\n",
    "        else:\n",
    "            return self.rank < other.rank\n",
    "\n",
    "\n",
    "class Deck:\n",
    "    def __init__(self):\n",
    "        self.deck = []\n",
    "        for suit in range(4):\n",
    "            for rank in range(13):\n",
    "                self.deck.append(Card(suit, rank))\n",
    "        self.shuffle()\n",
    "        \n",
    "    def __len__(self):\n",
    "        return len(self.deck)\n",
    "    \n",
    "    def __getitem__(self, index):\n",
    "        return self.deck[index]\n",
    "    \n",
    "    def add(self, card):\n",
    "        self.deck.append(card)\n",
    "        \n",
    "    def remove(self):\n",
    "        return self.deck.pop()\n",
    "    \n",
    "    def shuffle(self):\n",
    "        random.shuffle(self.deck)\n",
    "        \n",
    "    @property\n",
    "    def is_empty(self):\n",
    "        return len(self.deck)>0\n",
    "\n",
    "\n",
    "class Hand(Deck):\n",
    "    def __init__(self, label):\n",
    "        self.deck = []\n",
    "        self.label = label\n",
    "        self.win_count = 0\n",
    "        \n",
    "    def __str__(self):\n",
    "        return self.label + ': ' + ' '.join([str(card) for card in self.deck])\n",
    "    \n",
    "    def round_winner(self):\n",
    "        self.win_count += 1"
   ]
  },
  {
   "cell_type": "markdown",
   "id": "4e92248d",
   "metadata": {},
   "source": [
    "## Implémenter la logique du jeu"
   ]
  },
  {
   "cell_type": "code",
   "execution_count": 5,
   "id": "e845ae73",
   "metadata": {
    "scrolled": false
   },
   "outputs": [
    {
     "name": "stdout",
     "output_type": "stream",
     "text": [
      "P1: 7♠ A♣ 4♠ 2♣ 3♥ 8♥ 10♦ K♣ 4♥ K♥ 5♠ K♠ 9♦\n",
      "R0: 9♦ 2♠ 4♦ 9♥ Winner: P4 9♥\n",
      "R1: K♠ J♠ 6♦ 10♥ Winner: P1 K♠\n",
      "R2: 5♠ 7♥ 10♠ 10♣ Winner: P3 10♠\n",
      "R3: K♥ Q♣ 6♥ 3♦ Winner: P1 K♥\n",
      "R4: 4♥ Q♦ 3♣ 8♦ Winner: P2 Q♦\n",
      "R5: K♣ 4♣ J♥ 8♠ Winner: P1 K♣\n",
      "R6: 10♦ 6♠ 2♦ J♦ Winner: P4 J♦\n",
      "R7: 8♥ A♠ A♥ J♣ Winner: P2 A♠\n",
      "R8: 3♥ 9♣ K♦ 5♥ Winner: P3 K♦\n",
      "R9: 2♣ 7♣ 5♣ 8♣ Winner: P4 8♣\n",
      "R10: 4♠ A♦ 6♣ 5♦ Winner: P2 A♦\n",
      "R11: A♣ Q♥ 7♦ 2♥ Winner: P1 A♣\n",
      "R12: 7♠ Q♠ 9♠ 3♠ Winner: P2 Q♠\n",
      "Score for P1: 4\n",
      "Score for P2: 4\n",
      "Score for P3: 2\n",
      "Score for P4: 3\n"
     ]
    }
   ],
   "source": [
    "import random\n",
    "deck = Deck()\n",
    "\n",
    "hands = []\n",
    "for i in range(1, 5):\n",
    "    hands.append(Hand(f'P{i}'))\n",
    "    \n",
    "while len(deck) > 0:\n",
    "    for hand in hands:\n",
    "        hand.add(deck.remove())\n",
    "        \n",
    "print(hands[0])\n",
    "\n",
    "for i in range(13):\n",
    "    #input()\n",
    "    played_cards = []\n",
    "    for hand in hands:\n",
    "        played_cards.append(hand.remove())\n",
    "    \n",
    "    winner_card = max(played_cards)\n",
    "    winner_hand = hands[played_cards.index(winner_card)]\n",
    "    winner_hand.round_winner()\n",
    "    \n",
    "    print(f\"R{i}: \" + ' '.join([str(card) for card in played_cards]) + f' Winner: {winner_hand.get_label()} {str(winner_card)}')\n",
    "    \n",
    "for hand in hands:\n",
    "    print(f\"Score for {hand.get_label()}: {hand.get_win_count()}\")"
   ]
  },
  {
   "cell_type": "markdown",
   "id": "d0f4f974",
   "metadata": {},
   "source": [
    "### Stratégies"
   ]
  },
  {
   "cell_type": "markdown",
   "id": "1cd54d07",
   "metadata": {},
   "source": [
    "Faire une classe pure \"Stratégie\" avec une fonction play/choose\n",
    "puis créer différentes stratégies (qui héritent de Stratégie) qui ont juste accès au coup actuel et aux cartes qui restent en jeu, et comparer les stats de ces stratégies avec pandas (ça peut être un genre de tournoi, avec un leaderboard des IA à la fin)"
   ]
  },
  {
   "cell_type": "markdown",
   "id": "20f26ea3",
   "metadata": {},
   "source": [
    "# Découpage du cours : \n",
    "* Day 4 : classes -> implémenter les 3 classes \n",
    "* Day 5 : sucres syntaxiques -> faire la logique du jeu, rajouter des méthodes @property par exemple\n",
    "* Day 6 : Héritage -> faire les IA (Stratégies) et repartir dans pandas pour faire des ranking des différentes stratégies\n",
    "* Day 7 : DHTK -> suite de day 6 ? ou exercices sur dhtk ?"
   ]
  },
  {
   "cell_type": "code",
   "execution_count": null,
   "id": "a532da98",
   "metadata": {},
   "outputs": [],
   "source": []
  }
 ],
 "metadata": {
  "kernelspec": {
   "display_name": "Python 3 (ipykernel)",
   "language": "python",
   "name": "python3"
  },
  "language_info": {
   "codemirror_mode": {
    "name": "ipython",
    "version": 3
   },
   "file_extension": ".py",
   "mimetype": "text/x-python",
   "name": "python",
   "nbconvert_exporter": "python",
   "pygments_lexer": "ipython3",
   "version": "3.9.7"
  }
 },
 "nbformat": 4,
 "nbformat_minor": 5
}
