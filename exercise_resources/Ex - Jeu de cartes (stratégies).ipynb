{
 "cells": [
  {
   "cell_type": "markdown",
   "id": "31d93ab8",
   "metadata": {},
   "source": [
    "## Stratégies"
   ]
  },
  {
   "cell_type": "markdown",
   "id": "f173db43",
   "metadata": {},
   "source": [
    "Maintenant que notre jeu fonctionne dans sa forme la plus basique, il est temps de trouver de nouvelles manières de faire jouer les différents joueurs ! "
   ]
  },
  {
   "cell_type": "markdown",
   "id": "ae907257",
   "metadata": {},
   "source": [
    "Nous allons donc implémenter une nouvelle classe \"Strategy\", qui va servir de base pour toutes les stratégies qu'on cherchera à construire. Chacune de ces stratégies **héritera** de la classe Strategy, afin de s'assurer que le code fonctionne de la même manière peu importe celle qu'on choisit."
   ]
  },
  {
   "cell_type": "markdown",
   "id": "d96770a9",
   "metadata": {},
   "source": [
    "### La classe Strategy"
   ]
  },
  {
   "cell_type": "markdown",
   "id": "a8c2058e",
   "metadata": {},
   "source": [
    "Cette classe abstraite doit donc contenir uniquement une méthode \"choose_card()\" qui décrit la manière dont le joueur choisit la prochaine carte à jouer. Il ne faut rien implémenter dans cette méthode, simplement fixer son nom, les paramètres qu'elle prend, et le type d'objet qu'elle retourne (ici, l'idéal est de retourner **l'index de la carte à jouer, dans la liste des cartes de Hand**)."
   ]
  },
  {
   "cell_type": "code",
   "execution_count": null,
   "id": "bf1b4006",
   "metadata": {},
   "outputs": [],
   "source": [
    "class Strategy:\n",
    "    \n",
    "    def choose_card():"
   ]
  },
  {
   "cell_type": "markdown",
   "id": "5693d5f8",
   "metadata": {},
   "source": [
    "### La sous-classe LastStrategy"
   ]
  },
  {
   "cell_type": "markdown",
   "id": "b1d2bc6c",
   "metadata": {},
   "source": [
    "Dans notre première version du code, on demande à chaque joueur de jouer la dernière carte de sa main à chaque tour. Modifiez votre code pour ramener tout ça dans une sous-classe LastStrategy(Strategy) qui suit la convention de Strategy (avec donc la fonction choose_card())."
   ]
  },
  {
   "cell_type": "code",
   "execution_count": null,
   "id": "490a345f",
   "metadata": {},
   "outputs": [],
   "source": [
    "class LastStrategy(Strategy):\n",
    "    \n",
    "    def choose_card():\n",
    "    "
   ]
  },
  {
   "cell_type": "markdown",
   "id": "6689efea",
   "metadata": {},
   "source": [
    "### Changer la logique du jeu"
   ]
  },
  {
   "cell_type": "markdown",
   "id": "79b6a4cb",
   "metadata": {},
   "source": [
    "Si on reprend le code de base, dans la logique du jeu, il faut modifier notre code pour prendre en compte ces stratégies.\n",
    "\n",
    "Par exemple, au lieu de faire à chaque round \n",
    "\n",
    "`for hand in hands:\n",
    "        played_cards.append(hand.pop_card())`\n",
    "        \n",
    "on va utiliser cette fonction choose_card() pour déterminer la carte à jouer pour chaque main. En initialisant un objet de notre nouvelle sous-classe LastStrategy(Strategy), on peut par exemple faire :\n",
    "\n",
    "`strat = LastStrategy()\n",
    "for hand in hands:\n",
    "    played_cards.append(hand.pop_card(strat.choose_card(hand)))`\n",
    "\n"
   ]
  },
  {
   "cell_type": "code",
   "execution_count": null,
   "id": "e5034d35",
   "metadata": {},
   "outputs": [],
   "source": []
  },
  {
   "cell_type": "markdown",
   "id": "52f69935",
   "metadata": {},
   "source": [
    "### Stratégie alternative : MaxStrategy"
   ]
  },
  {
   "cell_type": "markdown",
   "id": "87d47fdd",
   "metadata": {},
   "source": [
    "Grâce à l'héritage, on peut construire différentes stratégies sans changer le code de la logique du jeu. \n",
    "\n",
    "Essayez de construire une sous-classe MaxStrategy(Strategy) qui joue à chaque tour **la carte la plus haute** de la main, et lancez une partie où tous les joueurs utilisent cette stratégie au lieu de LastStrategy."
   ]
  },
  {
   "cell_type": "code",
   "execution_count": null,
   "id": "cfa0a35a",
   "metadata": {},
   "outputs": [],
   "source": [
    "class MaxStrategy(Strategy):\n",
    "    \n",
    "    def choose_card():"
   ]
  },
  {
   "cell_type": "markdown",
   "id": "fac78568",
   "metadata": {},
   "source": [
    "### Implémente ta propre stratégie !"
   ]
  },
  {
   "cell_type": "markdown",
   "id": "dc8bb99f",
   "metadata": {},
   "source": [
    "A ton tour d'être créatif ! Construis ta propre stratégie de jeu et teste-la dans une partie."
   ]
  },
  {
   "cell_type": "code",
   "execution_count": null,
   "id": "ff5c8913",
   "metadata": {},
   "outputs": [],
   "source": []
  }
 ],
 "metadata": {
  "kernelspec": {
   "display_name": "Python 3 (ipykernel)",
   "language": "python",
   "name": "python3"
  },
  "language_info": {
   "codemirror_mode": {
    "name": "ipython",
    "version": 3
   },
   "file_extension": ".py",
   "mimetype": "text/x-python",
   "name": "python",
   "nbconvert_exporter": "python",
   "pygments_lexer": "ipython3",
   "version": "3.9.7"
  }
 },
 "nbformat": 4,
 "nbformat_minor": 5
}
