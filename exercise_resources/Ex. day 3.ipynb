{
 "cells": [
  {
   "cell_type": "markdown",
   "id": "ee90e5e6",
   "metadata": {},
   "source": [
    "## Jeu de cartes"
   ]
  },
  {
   "cell_type": "markdown",
   "id": "6fd3b573",
   "metadata": {},
   "source": [
    "https://www.learnpythonwithrune.org/master-object-oriented-programming-by-creating-a-card-game/"
   ]
  },
  {
   "cell_type": "markdown",
   "source": [
    "## Github du tutoriel\n",
    "https://github.com/dpicca/POOP/blob/d9fc8c10fe08a4a83bc0bf170aeb9ab1144c8799/Object%20Oriented%20Programming%20-%20Create%20a%20Card%20Game.ipynb"
   ],
   "metadata": {
    "collapsed": false
   }
  },
  {
   "cell_type": "markdown",
   "id": "b8b070b1",
   "metadata": {},
   "source": [
    "Le but des prochaines semaines sera d'implémenter un jeu de cartes, en orienté objet. Avant de passer au code, il faut avoir les idées claires : essayez de faire l'UML du jeu de cartes suivant, et nous le coderons dans les semaines qui viennent.\n",
    "* 4 joueurs\n",
    "* 52 cartes, 13 cartes par personne\n",
    "* 13 rounds\n",
    "* Les valeurs de cartes vont de 2 à 10, puis J, Q, K, A (de la moins puissante à la plus puissante)\n",
    "* Il y a 4 couleurs : ♦ ♣ ♥ ♠ (de la moins puissante à la plus puissante)\n",
    "\n",
    "Fonctionnement du jeu : à chaque round, tous les joueurs posent une carte, et la carte la plus haute (en valeur et en couleur) gagne. Le gagnant est celui qui a remporté le plus de rounds.\n",
    "\n",
    "Remarque : il nous faut considérer différents objets : \n",
    "* la carte\n",
    "* le deck (ensemble de cartes)\n",
    "* et la main (un deck particulier avec lequel on peut jouer). \n"
   ]
  },
  {
   "cell_type": "code",
   "execution_count": null,
   "id": "42ccb1cd",
   "metadata": {},
   "outputs": [],
   "source": []
  }
 ],
 "metadata": {
  "kernelspec": {
   "display_name": "Python 3",
   "language": "python",
   "name": "python3"
  },
  "language_info": {
   "codemirror_mode": {
    "name": "ipython",
    "version": 3
   },
   "file_extension": ".py",
   "mimetype": "text/x-python",
   "name": "python",
   "nbconvert_exporter": "python",
   "pygments_lexer": "ipython3",
   "version": "3.7.10"
  }
 },
 "nbformat": 4,
 "nbformat_minor": 5
}
