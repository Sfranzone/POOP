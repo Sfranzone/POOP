{
 "cells": [
  {
   "cell_type": "markdown",
   "id": "ee90e5e6",
   "metadata": {},
   "source": [
    "## Jeu de cartes"
   ]
  },
  {
   "cell_type": "markdown",
   "id": "6fd3b573",
   "metadata": {},
   "source": [
    "https://www.learnpythonwithrune.org/master-object-oriented-programming-by-creating-a-card-game/"
   ]
  },
  {
   "cell_type": "markdown",
   "id": "dfec7095",
   "metadata": {},
   "source": [
    "On veut modéliser un jeu de cartes. Il nous faut considérer différents objets : la carte, le deck (ensemble de cartes), et la main (un deck particulier avec lequel on peut jouer). "
   ]
  },
  {
   "cell_type": "markdown",
   "id": "b8b070b1",
   "metadata": {},
   "source": [
    "Faire l'UML d'un jeu de cartes de notre choix : commencer à penser aux règles (pas trop compliquées) et donc aux méthodes & attributs dont on a besoin dans notre différentes classes pour construire ce jeu.\n",
    "\n",
    "Exemple de jeu simple : 4 joueurs, 13 cartes chacun, 13 rounds. Valeurs des cartes de 2 à 10, puis J, Q, K, A. 4 couleurs.\n",
    "A chaque round, tous les joueurs posent une carte et la plus haute gagne (on hiérarchise les 4 couleurs)."
   ]
  },
  {
   "cell_type": "code",
   "execution_count": null,
   "id": "42ccb1cd",
   "metadata": {},
   "outputs": [],
   "source": []
  }
 ],
 "metadata": {
  "kernelspec": {
   "display_name": "Python 3 (ipykernel)",
   "language": "python",
   "name": "python3"
  },
  "language_info": {
   "codemirror_mode": {
    "name": "ipython",
    "version": 3
   },
   "file_extension": ".py",
   "mimetype": "text/x-python",
   "name": "python",
   "nbconvert_exporter": "python",
   "pygments_lexer": "ipython3",
   "version": "3.9.7"
  }
 },
 "nbformat": 4,
 "nbformat_minor": 5
}
