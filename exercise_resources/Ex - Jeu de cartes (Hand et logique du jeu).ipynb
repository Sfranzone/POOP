{
 "cells": [
  {
   "cell_type": "markdown",
   "id": "e3a12906",
   "metadata": {},
   "source": [
    "## Jeu de cartes - création de la classe Hand et de la logique du jeu"
   ]
  },
  {
   "cell_type": "markdown",
   "id": "f5ee55af",
   "metadata": {},
   "source": [
    "Nous pouvons passer à la dernière étape de ce premier prototype de jeu, grâce à la notion d'[héritage](https://www.w3schools.com/python/python_inheritance.asp) qui va nous servir pour construire la classe Hand. Une fois les trois classes en place, nous pourrons donc coder la logique du jeu, et faire tourner des parties ! "
   ]
  },
  {
   "cell_type": "markdown",
   "id": "4ddc8ee5",
   "metadata": {},
   "source": [
    "Note : pensez bien à réunir vos bouts de code dans un même fichier (de votre choix) pour que tout se connecte."
   ]
  },
  {
   "cell_type": "markdown",
   "id": "351de2a4",
   "metadata": {},
   "source": [
    "### La classe \"Hand\""
   ]
  },
  {
   "cell_type": "markdown",
   "id": "788c54dd",
   "metadata": {},
   "source": [
    "La classe \"Hand\" est une sous-classe de \"Deck\" : on veut pouvoir utiliser les méthodes précédemment définies dans \"Deck\" (comme le fait de pouvoir ajouter ou enlever une carte). Par contre, on veut pouvoir initaliser un objet de la classe \"Hand\" sans qu'il contienne déjà des cartes : il nous faut donc réécrire le \\_\\_init\\_\\_(), car celui de \"Deck\" se charge déjà de générer les cartes et de les mélanger. La classe \"Hand\" a aussi besoin d'un label pour nommer les différentes mains du jeu, et d'un compteur de points pour déterminer la victoire à chaque round.\n",
    "\n",
    "Pour construire cette classe, il vous faut donc :\n",
    "* La déclarer comme sous-classe de Deck\n",
    "* Créer un nouvel \\_\\_init\\_\\_() avec les attributs deck, label et win_count\n",
    "* Créer une fonction get_label() qui retourne le label de la main\n",
    "* Réécrire la fonction \\_\\_str\\_\\_() pour qu'elle affiche le label de la main, suivi de la liste des cartes encore présentes dans la main\n",
    "* Créer la fonction round_winner() qui augmente le compteur de victoires de 1\n",
    "* Créer la fonction get_win_count() qui retourne le compteur de victoires pour cette main\n"
   ]
  },
  {
   "cell_type": "code",
   "execution_count": 3,
   "id": "9575544a",
   "metadata": {},
   "outputs": [],
   "source": [
    "class Hand():\n",
    "    def __init__():\n",
    "        \n",
    "        \n",
    "    def __str__():\n",
    "\n",
    "    \n",
    "    def get_label():\n",
    "        \n",
    "    \n",
    "    def get_win_count():\n",
    " \n",
    "\n",
    "    def round_winner():\n"
   ]
  },
  {
   "cell_type": "markdown",
   "id": "984e95b9",
   "metadata": {},
   "source": [
    "### Construire la logique du jeu"
   ]
  },
  {
   "cell_type": "markdown",
   "id": "94da7a46",
   "metadata": {},
   "source": [
    "A vous de jouer ! Créez maintenant un code qui appelle des objets des différentes classes et qui s'occupe de :\n",
    "* Créer un deck\n",
    "* Créer quatre mains, de label P1, P2, P3, P4\n",
    "* Distribuer les cartes du deck dans les différentes mains\n",
    "* A chaque round, jouer la dernière carte de chaque main, garder une liste des cartes jouées et déterminer la gagnante, puis augmenter le compteur de victoire de la main correspondante\n",
    "* Afficher le round, les cartes jouées et le gagnant\n",
    "* A la fin de la partie, afficher les scores finaux des différents joueurs\n"
   ]
  },
  {
   "cell_type": "markdown",
   "id": "809dbdb2",
   "metadata": {},
   "source": [
    "On veut ce type d'output :\n",
    "\n",
    "P1: J♠ Q♣ 7♦ Q♠ J♣ 6♠ 9♦ 3♠ Q♥ 10♠ 8♣ 6♦ 7♠\n",
    "\n",
    "R0: 7♠ 10♥ K♠ K♣ Winner: P3 K♠\n",
    "\n",
    "R1: 6♦ 8♥ J♥ 6♥ Winner: P3 J♥\n",
    "\n",
    "R2: 8♣ A♠ 3♣ 3♦ Winner: P2 A♠\n",
    "\n",
    "R3: 10♠ 7♣ K♥ K♦ Winner: P3 K♥\n",
    "\n",
    "R4: Q♥ 4♠ 5♣ 10♣ Winner: P1 Q♥\n",
    "\n",
    "R5: 3♠ 3♥ 8♦ 5♠ Winner: P3 8♦\n",
    "\n",
    "R6: 9♦ 4♦ 4♣ 2♥ Winner: P1 9♦\n",
    "\n",
    "R7: 6♠ 8♠ Q♦ 4♥ Winner: P3 Q♦\n",
    "\n",
    "R8: J♣ A♥ 5♥ J♦ Winner: P2 A♥\n",
    "\n",
    "R9: Q♠ A♣ 9♣ 7♥ Winner: P2 A♣\n",
    "\n",
    "R10: 7♦ 5♦ 9♠ 9♥ Winner: P3 9♠\n",
    "\n",
    "R11: Q♣ 2♠ 2♣ 2♦ Winner: P1 Q♣\n",
    "\n",
    "R12: J♠ A♦ 6♣ 10♦ Winner: P2 A♦\n",
    "Score for P1: 3\n",
    "Score for P2: 4\n",
    "Score for P3: 6\n",
    "Score for P4: 0"
   ]
  },
  {
   "cell_type": "code",
   "execution_count": null,
   "id": "356ed437",
   "metadata": {},
   "outputs": [],
   "source": []
  }
 ],
 "metadata": {
  "kernelspec": {
   "display_name": "Python 3 (ipykernel)",
   "language": "python",
   "name": "python3"
  },
  "language_info": {
   "codemirror_mode": {
    "name": "ipython",
    "version": 3
   },
   "file_extension": ".py",
   "mimetype": "text/x-python",
   "name": "python",
   "nbconvert_exporter": "python",
   "pygments_lexer": "ipython3",
   "version": "3.9.7"
  }
 },
 "nbformat": 4,
 "nbformat_minor": 5
}
