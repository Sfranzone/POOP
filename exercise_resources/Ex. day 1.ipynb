{
 "cells": [
  {
   "cell_type": "markdown",
   "id": "ea31b4f4",
   "metadata": {},
   "source": [
    "## Rappel des notions du semestre précédent"
   ]
  },
  {
   "cell_type": "markdown",
   "id": "15b65221",
   "metadata": {},
   "source": [
    "Gestion de bibliothèque de jeux vidéo"
   ]
  },
  {
   "cell_type": "markdown",
   "id": "56b1d2a2",
   "metadata": {},
   "source": [
    "Le programme reconnaît les commandes suivantes :\n",
    "* add : ajouter une entrée à la bibliothèque\n",
    "* search : chercher un titre déjà présent dans la bibliothèque\n",
    "* list : fournir la liste des titres existants dans la bibliothèque\n",
    "* save : enregistrer la liste des jeux existants dans un fichier .json\n",
    "* exit : quitter le programme\n",
    "\n"
   ]
  },
  {
   "cell_type": "markdown",
   "id": "e2c2ca63",
   "metadata": {},
   "source": [
    "Les champs autorisés dans la bibliothèque sont :\n",
    "* title : le titre du jeu vidéo\n",
    "* year : l'année de parution du jeu\n",
    "* console : la console qui supporte le jeu"
   ]
  },
  {
   "cell_type": "code",
   "execution_count": null,
   "id": "e461c05d",
   "metadata": {},
   "outputs": [],
   "source": [
    "\"\"\"Ex1:\n",
    "Gestion de bibliothèque de jeux vidéo\n",
    "Le logiciel reconnait les commandes suivantes:\n",
    "* add:    saisie du titre, de l'année et de la console d'un nouveau jeu\n",
    "* search: recherche de jeux par titre, année ou console\n",
    "* list:   affichage de tous les jeux avec leur propriétés\n",
    "* save : enregistre la liste des jeux existants dans un fichier json\n",
    "* exit:   fin du programme\n",
    "\"\"\"\n",
    "\n",
    "import json\n",
    "\n",
    "# Initialiser la variable globale contenant les champs des jeux...\n",
    "FIELDS = [\"title\", \"year\", \"console\"]\n",
    "\n",
    "# Initialise la variable globale contenant la liste des jeux...\n",
    "LIBRARY = list()\n",
    "\n",
    "def main():\n",
    "    \"\"\"Programme principal\"\"\"\n",
    "\n",
    "    # Tant que l'utilisateur ne tape pas \"exit\", traiter les commandes...\n",
    "    while True:\n",
    "        user_input = input(\"Select an option [add, search, list, save, exit]: \")\n",
    "        if user_input == \"add\":\n",
    "            add_game()\n",
    "        elif user_input == \"search\":\n",
    "            search_games()\n",
    "        elif user_input == \"list\":\n",
    "            indices = range(len(LIBRARY))\n",
    "            list_games(indices)\n",
    "        elif user_input == \"save\":\n",
    "            save_games()\n",
    "        elif user_input == \"exit\":\n",
    "            print(\"Program terminated.\")\n",
    "            break\n",
    "        else:\n",
    "            print(\"Invalid option!\")\n",
    "\n",
    "\n",
    "def add_game():\n",
    "    \"\"\"Demande successivement le titre, l'année et la console d'un nouveau jeu\n",
    "    et l'ajoute à la bibliothèque si au moins l'une de ces propriétés a été\n",
    "    renseignée (sinon, affiche un message d'erreur).\"\"\"\n",
    "\n",
    "\n",
    "\n",
    "\n",
    "def search_games():\n",
    "    \"\"\"Recherche les jeux correspondant a un titre, année ou console et,\n",
    "    s'il y en a, transmet les indices de ces jeux a la fonction list()\n",
    "    (sinon, affiche un message d'erreur).\"\"\"\n",
    "\n",
    "\n",
    "\n",
    "\n",
    "def list_games(selected_indices):\n",
    "    \"\"\"Affiche une liste numerotée avec les données des jeux correspondants\n",
    "    aux indices de la liste transmise en argument (les données non renseignées\n",
    "    sont ignorées).\"\"\"\n",
    "\n",
    "\n",
    "\n",
    "            \n",
    "def save_games():\n",
    "    \"\"\"Sauvegarde la liste des jeux dans un fichier .json, dans le même dossier que\n",
    "    le script et avec le nom choisi par l'utilisateur.\"\"\"\n",
    "\n",
    "\n",
    "if __name__ == \"__main__\":\n",
    "    main()\n"
   ]
  },
  {
   "cell_type": "code",
   "execution_count": null,
   "id": "bee50050",
   "metadata": {},
   "outputs": [],
   "source": []
  }
 ],
 "metadata": {
  "kernelspec": {
   "display_name": "Python 3",
   "language": "python",
   "name": "python3"
  },
  "language_info": {
   "codemirror_mode": {
    "name": "ipython",
    "version": 3
   },
   "file_extension": ".py",
   "mimetype": "text/x-python",
   "name": "python",
   "nbconvert_exporter": "python",
   "pygments_lexer": "ipython3",
   "version": "3.7.10"
  }
 },
 "nbformat": 4,
 "nbformat_minor": 5
}