{
 "cells": [
  {
   "cell_type": "markdown",
   "metadata": {
    "collapsed": true,
    "pycharm": {
     "name": "#%% md\n"
    }
   },
   "source": [
    "# Pandas\n",
    "Pandas est une librairie Python qui permet de manipuler et de gérer les données. Cette bibliothèque est donc utilisée dans le domaine de l'exploration des données. On cherche ici donc de modéliser et exploiter le domaine  du traitement  des données.\n",
    "Pour faire cela donc nous sommes obligés de définir des entités principales qui sont le fondement du domaine.\n"
   ]
  },
  {
   "cell_type": "markdown",
   "source": [
    "## Pandas: les  concepts principaux\n",
    "Dans le monde de donneés nous avons au moins deux concepts qui sont fondamentaux : les matrices et les vecteurs.\n",
    "Ces deux concepts modélisent une façon d'organiser les données. Nous verrons comment ces 2 concepts sont rendus dans la librairie pandas\n",
    "### Dataframe (ou matrices)\n",
    "\n",
    "Vous connaissez déjà les arrays en Python."
   ],
   "metadata": {
    "collapsed": false,
    "pycharm": {
     "name": "#%% md\n"
    }
   }
  },
  {
   "cell_type": "markdown",
   "source": [
    "# Contexte\n",
    "Essayons d'imaginer un contexte dans lequel vous devez acquérir une famille de chiens, où nous avons une maman, un papa et un chiot."
   ],
   "metadata": {
    "collapsed": false
   }
  },
  {
   "cell_type": "markdown",
   "source": [
    "![Famille](/Users/dpicca/PycharmProjects/POOP/img/famille_chiens.png)"
   ],
   "metadata": {
    "collapsed": false
   }
  },
  {
   "cell_type": "markdown",
   "source": [
    "Maintenant, les chiens peuvent également être décrits en fonction de leurs caractéristiques (vous vous souvenez du cours sur les bases de données ?). Dans ce cas, nous acceptons comme caractéristiques la taille des pattes, la longueur du poil et la taille du ventre."
   ],
   "metadata": {
    "collapsed": false
   }
  },
  {
   "cell_type": "code",
   "execution_count": 1,
   "outputs": [],
   "source": [
    "famille_chiens = [\n",
    "    [100, 5  , 80],\n",
    "    [50 , 2.5, 40],\n",
    "    [110, 6  , 80],\n",
    "]"
   ],
   "metadata": {
    "collapsed": false,
    "pycharm": {
     "name": "#%%\n"
    }
   }
  },
  {
   "cell_type": "markdown",
   "source": [
    "Comme vous voyez, il n’y a pas de modélisation. Et pourtant cela ressemble à un tableau Excel,\n",
    "n'est ce-pas?\n",
    "\n",
    "![Tableau](/Users/dpicca/PycharmProjects/POOP/img/tableau.png)\n",
    "\n",
    "Mais un tableau est déjà un \"modèle\" qui permet de \"modéliser\" des données d'une certaine façon.\n",
    "Par example pensez à devoir modéliser une famille de chiens et de représenter cela dans un tableau.\n",
    "Vous avez donc besoin d'une librairie qui vous permet de faire cela. Cette librairie s'appelle [pandas](https://pandas.pydata.org/)"
   ],
   "metadata": {
    "collapsed": false,
    "pycharm": {
     "name": "#%% md\n"
    }
   }
  },
  {
   "cell_type": "code",
   "execution_count": 2,
   "outputs": [
    {
     "data": {
      "text/plain": "     0    1   2\n0  100  5.0  80\n1   50  2.5  40\n2  110  6.0  80",
      "text/html": "<div>\n<style scoped>\n    .dataframe tbody tr th:only-of-type {\n        vertical-align: middle;\n    }\n\n    .dataframe tbody tr th {\n        vertical-align: top;\n    }\n\n    .dataframe thead th {\n        text-align: right;\n    }\n</style>\n<table border=\"1\" class=\"dataframe\">\n  <thead>\n    <tr style=\"text-align: right;\">\n      <th></th>\n      <th>0</th>\n      <th>1</th>\n      <th>2</th>\n    </tr>\n  </thead>\n  <tbody>\n    <tr>\n      <th>0</th>\n      <td>100</td>\n      <td>5.0</td>\n      <td>80</td>\n    </tr>\n    <tr>\n      <th>1</th>\n      <td>50</td>\n      <td>2.5</td>\n      <td>40</td>\n    </tr>\n    <tr>\n      <th>2</th>\n      <td>110</td>\n      <td>6.0</td>\n      <td>80</td>\n    </tr>\n  </tbody>\n</table>\n</div>"
     },
     "execution_count": 2,
     "metadata": {},
     "output_type": "execute_result"
    }
   ],
   "source": [
    "import pandas as pd\n",
    "famille_chiens_df = pd.DataFrame(famille_chiens)\n",
    "famille_chiens_df"
   ],
   "metadata": {
    "collapsed": false,
    "pycharm": {
     "name": "#%%\n"
    }
   }
  },
  {
   "cell_type": "code",
   "execution_count": 3,
   "outputs": [
    {
     "data": {
      "text/plain": "       pattes  poil  ventre\nmaman     100   5.0      80\nbebe       50   2.5      40\npapa      110   6.0      80",
      "text/html": "<div>\n<style scoped>\n    .dataframe tbody tr th:only-of-type {\n        vertical-align: middle;\n    }\n\n    .dataframe tbody tr th {\n        vertical-align: top;\n    }\n\n    .dataframe thead th {\n        text-align: right;\n    }\n</style>\n<table border=\"1\" class=\"dataframe\">\n  <thead>\n    <tr style=\"text-align: right;\">\n      <th></th>\n      <th>pattes</th>\n      <th>poil</th>\n      <th>ventre</th>\n    </tr>\n  </thead>\n  <tbody>\n    <tr>\n      <th>maman</th>\n      <td>100</td>\n      <td>5.0</td>\n      <td>80</td>\n    </tr>\n    <tr>\n      <th>bebe</th>\n      <td>50</td>\n      <td>2.5</td>\n      <td>40</td>\n    </tr>\n    <tr>\n      <th>papa</th>\n      <td>110</td>\n      <td>6.0</td>\n      <td>80</td>\n    </tr>\n  </tbody>\n</table>\n</div>"
     },
     "execution_count": 3,
     "metadata": {},
     "output_type": "execute_result"
    }
   ],
   "source": [
    "famille_chiens_df = pd.DataFrame(famille_chiens,\n",
    "                                index = ['maman', 'bebe', 'papa'],\n",
    "                                columns = ['pattes', 'poil', 'ventre'])\n",
    "famille_chiens_df"
   ],
   "metadata": {
    "collapsed": false,
    "pycharm": {
     "name": "#%%\n"
    }
   }
  },
  {
   "cell_type": "markdown",
   "source": [
    "## La notion d'objet\n",
    "Comme vous l'aurez remarqué, vous avez modélisé et construit un objet que nous avons appelé la famille des chiens, qui se compose de trois caractéristiques fondamentales : les pattes, la fourrure et le ventre. La programmation permet donc de reconstruire tout type d'objet (concret ou abstrait) à l'aide de modèles afin de reconstruire un certain univers discursif."
   ],
   "metadata": {
    "collapsed": false
   }
  },
  {
   "cell_type": "markdown",
   "source": [
    "Une matrice n'est donc rien d'autre qu'un modèle permettant de représenter un autre modèle, qui dans ce cas est un chien, à travers ses caractéristiques. N'oubliez pas qu'une matrice est donc elle-même un objet et que ce que vous venez d'utiliser est un objet python."
   ],
   "metadata": {
    "collapsed": false
   }
  },
  {
   "cell_type": "markdown",
   "source": [
    "### Series (ou vecteur)\n",
    "\n",
    "Vous connaissez déjà les listes en Python."
   ],
   "metadata": {
    "collapsed": false
   }
  },
  {
   "cell_type": "code",
   "execution_count": null,
   "outputs": [],
   "source": [
    "age_chiens = [7, 5 , 10]"
   ],
   "metadata": {
    "collapsed": false,
    "pycharm": {
     "name": "#%%\n"
    }
   }
  },
  {
   "cell_type": "markdown",
   "source": [
    "Donc une Serie est une autre façon de représenter un vecteur avec qu'une seule dimension"
   ],
   "metadata": {
    "collapsed": false,
    "pycharm": {
     "name": "#%% md\n"
    }
   }
  },
  {
   "cell_type": "markdown",
   "source": [
    "Vous allez encore me demander quel est l'intérêt de cette librairie n'est-ce pas ?\n",
    "En fait, l'objet DataFrame ou Series est très similaire à certains concepts que l'on trouve en dehors du cadre du langage Python. Il est similaire :\n",
    "aux tables des bases de données relationnelles (type MySQL, PostgreSQL, etc.) que l'on manipule grâce au langage SQL"
   ],
   "metadata": {
    "collapsed": false
   }
  },
  {
   "cell_type": "markdown",
   "source": [
    "# Pandas exemples\n",
    "\n",
    "L'avantage de utiliser la programmation orientée objet et donc de pouvoir modéliser un domaine tel comme le domaine de la manipulation des données et celui de pouvoir ensuite faire de façon aisée des manipulations sans devoir se compliquer la tâche.\n",
    "\n",
    "## Lire/écrire données\n",
    "Voici quelques petites fonctionnalités des Dataframes.\n",
    "\n",
    "Tout d'abord, accédons à la colonne ventre de notre table. Il y a deux syntaxes possibles, qui renvoient exactement le même résultat :"
   ],
   "metadata": {
    "collapsed": false
   }
  },
  {
   "cell_type": "code",
   "execution_count": null,
   "outputs": [],
   "source": [
    "famille_chiens_df.ventre\n",
    "famille_chiens_df[\"ventre\"]"
   ],
   "metadata": {
    "collapsed": false,
    "pycharm": {
     "name": "#%%\n"
    }
   }
  },
  {
   "cell_type": "markdown",
   "source": [
    "ATTENTION:\n",
    "L'objet que renvoie `famille_chiens_df[\"ventre\"]` est de type `pandas.Series`.\n",
    "Pour obtenir les valeurs de la colonne ventre au format numpy, il faut saisir `famille_chiens_df[\"ventre\"].values`\n",
    "\n",
    "## Manipuler les objets\n",
    "\n",
    "Évidemment, l'objectif de la programmation orientée objet est que tout objet puisse être facilement manipulé afin de modifier sa structure ou de lui faire afficher certaines caractéristiques.\n",
    "\n",
    "### Faire des figures avec vos données\n",
    "\n",
    "Une fois que vous avez bien structuré la modélisation de vos données, ça sera plus facile de pouvoir représenter aussi de façon graphique que vous donnez, comme par exemple :"
   ],
   "metadata": {
    "collapsed": false,
    "pycharm": {
     "name": "#%% md\n"
    }
   }
  },
  {
   "cell_type": "code",
   "execution_count": 4,
   "outputs": [
    {
     "data": {
      "text/plain": "<AxesSubplot:>"
     },
     "execution_count": 4,
     "metadata": {},
     "output_type": "execute_result"
    },
    {
     "data": {
      "text/plain": "<Figure size 432x288 with 1 Axes>",
      "image/png": "[encoded data removed]"
     },
     "metadata": {
      "needs_background": "light"
     },
     "output_type": "display_data"
    }
   ],
   "source": [
    "import matplotlib.pyplot as plt\n",
    "famille_chiens_df.plot(kind='bar',layout=(4,5))"
   ],
   "metadata": {
    "collapsed": false,
    "pycharm": {
     "name": "#%%\n"
    }
   }
  },
  {
   "cell_type": "markdown",
   "source": [
    "# Exercices Pandas (autres fonctions)"
   ],
   "metadata": {
    "collapsed": false
   }
  },
  {
   "cell_type": "markdown",
   "source": [
    "Avec l'aide de la bibliothèque [Faker](https://faker.readthedocs.io/en/master/), nous créons maintenant un contexte fictif dans lequel sont créées les nouvelles données que nous devrons manipuler plus tard"
   ],
   "metadata": {
    "collapsed": false
   }
  },
  {
   "cell_type": "code",
   "execution_count": 16,
   "outputs": [],
   "source": [
    "import csv\n",
    "import pandas as pd\n",
    "from faker import Faker\n",
    "import datetime\n",
    "import random\n",
    "from faker.providers import DynamicProvider\n",
    "\n",
    "skill_provider = DynamicProvider(\n",
    "    provider_name=\"skills\",\n",
    "    elements=[\"Python\", \"Pandas\", \"Linux\", \"SQL\", \"Data Mining\"],\n",
    ")\n",
    "\n",
    "\n",
    "def fake_data_generation(records):\n",
    "    fake = Faker('en_US')\n",
    "\n",
    "    employee = []\n",
    "\n",
    "    fake.add_provider(skill_provider)\n",
    "\n",
    "    for i in range(records):\n",
    "        first_name = fake.first_name()\n",
    "        last_name = fake.last_name()\n",
    "\n",
    "\n",
    "\n",
    "        employee.append({\n",
    "            \"First Name\": first_name,\n",
    "            \"Last Name\": last_name,\n",
    "            \"Birth Date\" : fake.date(pattern=\"%Y-%m-%d\", end_datetime=datetime.date(1995, 1,1)),\n",
    "            \"Email\": str.lower(f\"{first_name}.{last_name}@fake_domain-2.com\"),\n",
    "            \"Hobby\": fake.word(),\n",
    "            \"Experience\" : random.randint(0,15),\n",
    "            \"Start Year\": fake.year(),\n",
    "            \"Salary\": random.randrange(75000,150000, 5000),\n",
    "            \"City\" : fake.city(),\n",
    "            \"Nationality\" : fake.country(),\n",
    "            \"Skill\": fake.skills()\n",
    "        })\n",
    "\n",
    "    return employee\n",
    "\n",
    "\n"
   ],
   "metadata": {
    "collapsed": false,
    "pycharm": {
     "name": "#%%\n"
    }
   }
  },
  {
   "cell_type": "code",
   "execution_count": 17,
   "outputs": [
    {
     "data": {
      "text/plain": "   First Name   Last Name  Birth Date                                  Email  \\\n0     Michael        Leon  1989-04-27         michael.leon@fake_domain-2.com   \n1        Kyle       Ellis  1987-08-16           kyle.ellis@fake_domain-2.com   \n2    Jonathan     Stanley  1994-09-01     jonathan.stanley@fake_domain-2.com   \n3    Brittany     Kennedy  1971-02-06     brittany.kennedy@fake_domain-2.com   \n4       David    Williams  1973-06-14       david.williams@fake_domain-2.com   \n5      Ashley        Dyer  1974-04-19          ashley.dyer@fake_domain-2.com   \n6     Brandon    Crawford  1990-09-04     brandon.crawford@fake_domain-2.com   \n7        Lisa      Powell  1990-09-16          lisa.powell@fake_domain-2.com   \n8     Jessica      Hoover  1986-06-06       jessica.hoover@fake_domain-2.com   \n9     Whitney     Blevins  1986-03-30      whitney.blevins@fake_domain-2.com   \n10        Jay         Fox  1978-05-10              jay.fox@fake_domain-2.com   \n11     Amanda      Garcia  1981-07-04        amanda.garcia@fake_domain-2.com   \n12       Jose     Edwards  1978-11-01         jose.edwards@fake_domain-2.com   \n13     Marcus       Mayer  1989-07-11         marcus.mayer@fake_domain-2.com   \n14  Gabrielle     Sanchez  1993-05-13    gabrielle.sanchez@fake_domain-2.com   \n15   Jennifer       Reyes  1984-01-14       jennifer.reyes@fake_domain-2.com   \n16    Jessica       Solis  1975-09-28        jessica.solis@fake_domain-2.com   \n17     Regina    Anderson  1982-01-16      regina.anderson@fake_domain-2.com   \n18       Jose       Smith  1981-01-02           jose.smith@fake_domain-2.com   \n19     Daniel       James  1986-04-11         daniel.james@fake_domain-2.com   \n20     Victor       Casey  1984-06-22         victor.casey@fake_domain-2.com   \n21     Darryl  Washington  1980-07-18    darryl.washington@fake_domain-2.com   \n22      Julie     Johnson  1984-04-10        julie.johnson@fake_domain-2.com   \n23      Julia        King  1979-01-17           julia.king@fake_domain-2.com   \n24     Nicole      Barnes  1970-10-20        nicole.barnes@fake_domain-2.com   \n25     Sierra       Green  1980-05-29         sierra.green@fake_domain-2.com   \n26      David   Dickerson  1989-08-22      david.dickerson@fake_domain-2.com   \n27     Arthur     Russell  1982-05-11       arthur.russell@fake_domain-2.com   \n28  Stephanie       Stone  1982-07-20      stephanie.stone@fake_domain-2.com   \n29      Heidi      Martin  1972-03-05         heidi.martin@fake_domain-2.com   \n30       Lori        Ford  1986-09-16            lori.ford@fake_domain-2.com   \n31      Tyler        Byrd  1971-08-12           tyler.byrd@fake_domain-2.com   \n32    Heather       Jones  1982-01-20        heather.jones@fake_domain-2.com   \n33      Jesus        Ware  1980-11-28           jesus.ware@fake_domain-2.com   \n34    Patrick     Krueger  1972-05-08      patrick.krueger@fake_domain-2.com   \n35      Becky    Hamilton  1983-04-22       becky.hamilton@fake_domain-2.com   \n36      Tammy        Dyer  1988-05-18           tammy.dyer@fake_domain-2.com   \n37  Charlotte     Whitney  1977-08-16    charlotte.whitney@fake_domain-2.com   \n38       Sean      Prince  1982-07-27          sean.prince@fake_domain-2.com   \n39      Glenn     Cameron  1977-11-04        glenn.cameron@fake_domain-2.com   \n40      Jacob    Campbell  1974-06-23       jacob.campbell@fake_domain-2.com   \n41      Jason       Smith  1973-02-03          jason.smith@fake_domain-2.com   \n42     Andrew      Bishop  1973-03-09        andrew.bishop@fake_domain-2.com   \n43    Kathryn     Hancock  1985-04-16      kathryn.hancock@fake_domain-2.com   \n44    Jessica      Harvey  1970-06-21       jessica.harvey@fake_domain-2.com   \n45      James      Hughes  1970-05-20         james.hughes@fake_domain-2.com   \n46    Garrett     Sanchez  1987-10-23      garrett.sanchez@fake_domain-2.com   \n47     Isaiah     Pearson  1989-03-02       isaiah.pearson@fake_domain-2.com   \n48  Elizabeth   Schneider  1972-01-16  elizabeth.schneider@fake_domain-2.com   \n49       Eric       Lloyd  1979-11-21           eric.lloyd@fake_domain-2.com   \n\n         Hobby  Experience Start Year  Salary                City  \\\n0       family           7       2001  125000          Burchmouth   \n1        exist           0       1993  110000        New Kristina   \n2       anyone          14       1983  130000         Natalieside   \n3         drug          15       2009   75000           Hessville   \n4         down           2       1995  145000      West Jasonberg   \n5       method           2       1983  100000         Heatherfurt   \n6           PM           1       1998  110000          Rachelstad   \n7         past           5       1989  145000          Nolanmouth   \n8      receive          12       1990  115000    Port Michaelfort   \n9      measure          13       1986  105000            Rossfort   \n10        must          14       1989   75000          Davismouth   \n11       stuff          11       2021   90000          Jonesmouth   \n12    election           6       1989   75000        Franklinberg   \n13        name           2       1982  120000         Patriciaton   \n14         Mrs          14       2008   80000        Alvaradoport   \n15          we           9       1970  140000     South Stephanie   \n16    customer           6       2021  105000     Christopherview   \n17    position           9       2007  105000      Kennedychester   \n18      method           7       1995   95000        South Stacey   \n19      become          13       2003  135000      East Jimmyside   \n20       occur           9       2001  140000       North Vanessa   \n21       bring           3       1985  135000     South Katherine   \n22     require          14       1999  110000        Swansonburgh   \n23        week          13       1995   90000        Port Suzanne   \n24      modern           1       2019   85000         Hallchester   \n25         him           9       1974   90000       Reynoldsmouth   \n26          he           5       1977  130000    Lake Gregorystad   \n27       heavy           8       1973  120000      Lake Kevinberg   \n28     teacher           2       2003  145000         New Michael   \n29       since           9       1976   90000          Robinhaven   \n30        talk          14       1989  100000         Randalltown   \n31    consider          15       2010  130000          New George   \n32       sound           6       1973  100000        Hawkinsshire   \n33      future          15       1980  135000        Sanchezburgh   \n34     believe           0       1979  100000      Christineshire   \n35       offer           7       1999   75000     West Robertside   \n36        want          15       2004  125000      North Jennifer   \n37   condition           9       1980  100000          Ashleyside   \n38       first          14       1983  145000             Kington   \n39   president           1       2001  100000            Erinview   \n40         eye          15       2010   95000          Butlerfort   \n41       focus          13       2009   75000        Darleneshire   \n42     hundred           7       2015   80000       Campbellmouth   \n43        thus           8       1995  125000           Carterton   \n44       human           9       2002  135000  East Kimberlyshire   \n45        time           0       2017  120000        South Daniel   \n46          PM          10       2015  135000           Lynchland   \n47      relate           9       2014   95000        Michellestad   \n48         nor          15       1974  100000       East Kevinton   \n49  Republican           5       2009  100000         Romeroburgh   \n\n                    Nationality        Skill  \n0                      Mongolia        Linux  \n1                         Congo       Python  \n2      Northern Mariana Islands       Python  \n3                         Kenya       Pandas  \n4                        Uganda          SQL  \n5                       Bahrain        Linux  \n6                    San Marino          SQL  \n7                    Mozambique  Data Mining  \n8        Bosnia and Herzegovina       Pandas  \n9         Saint Kitts and Nevis        Linux  \n10                       Norway  Data Mining  \n11                         Niue        Linux  \n12                     Suriname          SQL  \n13                   Cape Verde       Python  \n14                        Korea          SQL  \n15                        Sudan        Linux  \n16                        Congo       Pandas  \n17     Turks and Caicos Islands       Python  \n18                      Bolivia       Python  \n19                      Belarus  Data Mining  \n20                     Cambodia       Pandas  \n21                        Haiti  Data Mining  \n22                       Monaco       Python  \n23                       France       Python  \n24          Antigua and Barbuda          SQL  \n25                      Croatia        Linux  \n26                    Mauritius       Python  \n27                        Ghana       Python  \n28              Kyrgyz Republic        Linux  \n29                        Spain  Data Mining  \n30                    Venezuela  Data Mining  \n31                        Congo       Python  \n32            Wallis and Futuna       Pandas  \n33                       Mexico          SQL  \n34                      Liberia          SQL  \n35                         Guam  Data Mining  \n36                   Azerbaijan        Linux  \n37               Cayman Islands       Pandas  \n38  Falkland Islands (Malvinas)       Pandas  \n39                      Romania  Data Mining  \n40                        Samoa       Pandas  \n41                  Switzerland       Pandas  \n42                        Aruba  Data Mining  \n43                      Iceland       Pandas  \n44                         Mali          SQL  \n45                      Grenada       Python  \n46                        Nepal       Pandas  \n47        Sao Tome and Principe       Python  \n48                       Monaco       Python  \n49                    Mauritius          SQL  ",
      "text/html": "<div>\n<style scoped>\n    .dataframe tbody tr th:only-of-type {\n        vertical-align: middle;\n    }\n\n    .dataframe tbody tr th {\n        vertical-align: top;\n    }\n\n    .dataframe thead th {\n        text-align: right;\n    }\n</style>\n<table border=\"1\" class=\"dataframe\">\n  <thead>\n    <tr style=\"text-align: right;\">\n      <th></th>\n      <th>First Name</th>\n      <th>Last Name</th>\n      <th>Birth Date</th>\n      <th>Email</th>\n      <th>Hobby</th>\n      <th>Experience</th>\n      <th>Start Year</th>\n      <th>Salary</th>\n      <th>City</th>\n      <th>Nationality</th>\n      <th>Skill</th>\n    </tr>\n  </thead>\n  <tbody>\n    <tr>\n      <th>0</th>\n      <td>Michael</td>\n      <td>Leon</td>\n      <td>1989-04-27</td>\n      <td>michael.leon@fake_domain-2.com</td>\n      <td>family</td>\n      <td>7</td>\n      <td>2001</td>\n      <td>125000</td>\n      <td>Burchmouth</td>\n      <td>Mongolia</td>\n      <td>Linux</td>\n    </tr>\n    <tr>\n      <th>1</th>\n      <td>Kyle</td>\n      <td>Ellis</td>\n      <td>1987-08-16</td>\n      <td>kyle.ellis@fake_domain-2.com</td>\n      <td>exist</td>\n      <td>0</td>\n      <td>1993</td>\n      <td>110000</td>\n      <td>New Kristina</td>\n      <td>Congo</td>\n      <td>Python</td>\n    </tr>\n    <tr>\n      <th>2</th>\n      <td>Jonathan</td>\n      <td>Stanley</td>\n      <td>1994-09-01</td>\n      <td>jonathan.stanley@fake_domain-2.com</td>\n      <td>anyone</td>\n      <td>14</td>\n      <td>1983</td>\n      <td>130000</td>\n      <td>Natalieside</td>\n      <td>Northern Mariana Islands</td>\n      <td>Python</td>\n    </tr>\n    <tr>\n      <th>3</th>\n      <td>Brittany</td>\n      <td>Kennedy</td>\n      <td>1971-02-06</td>\n      <td>brittany.kennedy@fake_domain-2.com</td>\n      <td>drug</td>\n      <td>15</td>\n      <td>2009</td>\n      <td>75000</td>\n      <td>Hessville</td>\n      <td>Kenya</td>\n      <td>Pandas</td>\n    </tr>\n    <tr>\n      <th>4</th>\n      <td>David</td>\n      <td>Williams</td>\n      <td>1973-06-14</td>\n      <td>david.williams@fake_domain-2.com</td>\n      <td>down</td>\n      <td>2</td>\n      <td>1995</td>\n      <td>145000</td>\n      <td>West Jasonberg</td>\n      <td>Uganda</td>\n      <td>SQL</td>\n    </tr>\n    <tr>\n      <th>5</th>\n      <td>Ashley</td>\n      <td>Dyer</td>\n      <td>1974-04-19</td>\n      <td>ashley.dyer@fake_domain-2.com</td>\n      <td>method</td>\n      <td>2</td>\n      <td>1983</td>\n      <td>100000</td>\n      <td>Heatherfurt</td>\n      <td>Bahrain</td>\n      <td>Linux</td>\n    </tr>\n    <tr>\n      <th>6</th>\n      <td>Brandon</td>\n      <td>Crawford</td>\n      <td>1990-09-04</td>\n      <td>brandon.crawford@fake_domain-2.com</td>\n      <td>PM</td>\n      <td>1</td>\n      <td>1998</td>\n      <td>110000</td>\n      <td>Rachelstad</td>\n      <td>San Marino</td>\n      <td>SQL</td>\n    </tr>\n    <tr>\n      <th>7</th>\n      <td>Lisa</td>\n      <td>Powell</td>\n      <td>1990-09-16</td>\n      <td>lisa.powell@fake_domain-2.com</td>\n      <td>past</td>\n      <td>5</td>\n      <td>1989</td>\n      <td>145000</td>\n      <td>Nolanmouth</td>\n      <td>Mozambique</td>\n      <td>Data Mining</td>\n    </tr>\n    <tr>\n      <th>8</th>\n      <td>Jessica</td>\n      <td>Hoover</td>\n      <td>1986-06-06</td>\n      <td>jessica.hoover@fake_domain-2.com</td>\n      <td>receive</td>\n      <td>12</td>\n      <td>1990</td>\n      <td>115000</td>\n      <td>Port Michaelfort</td>\n      <td>Bosnia and Herzegovina</td>\n      <td>Pandas</td>\n    </tr>\n    <tr>\n      <th>9</th>\n      <td>Whitney</td>\n      <td>Blevins</td>\n      <td>1986-03-30</td>\n      <td>whitney.blevins@fake_domain-2.com</td>\n      <td>measure</td>\n      <td>13</td>\n      <td>1986</td>\n      <td>105000</td>\n      <td>Rossfort</td>\n      <td>Saint Kitts and Nevis</td>\n      <td>Linux</td>\n    </tr>\n    <tr>\n      <th>10</th>\n      <td>Jay</td>\n      <td>Fox</td>\n      <td>1978-05-10</td>\n      <td>jay.fox@fake_domain-2.com</td>\n      <td>must</td>\n      <td>14</td>\n      <td>1989</td>\n      <td>75000</td>\n      <td>Davismouth</td>\n      <td>Norway</td>\n      <td>Data Mining</td>\n    </tr>\n    <tr>\n      <th>11</th>\n      <td>Amanda</td>\n      <td>Garcia</td>\n      <td>1981-07-04</td>\n      <td>amanda.garcia@fake_domain-2.com</td>\n      <td>stuff</td>\n      <td>11</td>\n      <td>2021</td>\n      <td>90000</td>\n      <td>Jonesmouth</td>\n      <td>Niue</td>\n      <td>Linux</td>\n    </tr>\n    <tr>\n      <th>12</th>\n      <td>Jose</td>\n      <td>Edwards</td>\n      <td>1978-11-01</td>\n      <td>jose.edwards@fake_domain-2.com</td>\n      <td>election</td>\n      <td>6</td>\n      <td>1989</td>\n      <td>75000</td>\n      <td>Franklinberg</td>\n      <td>Suriname</td>\n      <td>SQL</td>\n    </tr>\n    <tr>\n      <th>13</th>\n      <td>Marcus</td>\n      <td>Mayer</td>\n      <td>1989-07-11</td>\n      <td>marcus.mayer@fake_domain-2.com</td>\n      <td>name</td>\n      <td>2</td>\n      <td>1982</td>\n      <td>120000</td>\n      <td>Patriciaton</td>\n      <td>Cape Verde</td>\n      <td>Python</td>\n    </tr>\n    <tr>\n      <th>14</th>\n      <td>Gabrielle</td>\n      <td>Sanchez</td>\n      <td>1993-05-13</td>\n      <td>gabrielle.sanchez@fake_domain-2.com</td>\n      <td>Mrs</td>\n      <td>14</td>\n      <td>2008</td>\n      <td>80000</td>\n      <td>Alvaradoport</td>\n      <td>Korea</td>\n      <td>SQL</td>\n    </tr>\n    <tr>\n      <th>15</th>\n      <td>Jennifer</td>\n      <td>Reyes</td>\n      <td>1984-01-14</td>\n      <td>jennifer.reyes@fake_domain-2.com</td>\n      <td>we</td>\n      <td>9</td>\n      <td>1970</td>\n      <td>140000</td>\n      <td>South Stephanie</td>\n      <td>Sudan</td>\n      <td>Linux</td>\n    </tr>\n    <tr>\n      <th>16</th>\n      <td>Jessica</td>\n      <td>Solis</td>\n      <td>1975-09-28</td>\n      <td>jessica.solis@fake_domain-2.com</td>\n      <td>customer</td>\n      <td>6</td>\n      <td>2021</td>\n      <td>105000</td>\n      <td>Christopherview</td>\n      <td>Congo</td>\n      <td>Pandas</td>\n    </tr>\n    <tr>\n      <th>17</th>\n      <td>Regina</td>\n      <td>Anderson</td>\n      <td>1982-01-16</td>\n      <td>regina.anderson@fake_domain-2.com</td>\n      <td>position</td>\n      <td>9</td>\n      <td>2007</td>\n      <td>105000</td>\n      <td>Kennedychester</td>\n      <td>Turks and Caicos Islands</td>\n      <td>Python</td>\n    </tr>\n    <tr>\n      <th>18</th>\n      <td>Jose</td>\n      <td>Smith</td>\n      <td>1981-01-02</td>\n      <td>jose.smith@fake_domain-2.com</td>\n      <td>method</td>\n      <td>7</td>\n      <td>1995</td>\n      <td>95000</td>\n      <td>South Stacey</td>\n      <td>Bolivia</td>\n      <td>Python</td>\n    </tr>\n    <tr>\n      <th>19</th>\n      <td>Daniel</td>\n      <td>James</td>\n      <td>1986-04-11</td>\n      <td>daniel.james@fake_domain-2.com</td>\n      <td>become</td>\n      <td>13</td>\n      <td>2003</td>\n      <td>135000</td>\n      <td>East Jimmyside</td>\n      <td>Belarus</td>\n      <td>Data Mining</td>\n    </tr>\n    <tr>\n      <th>20</th>\n      <td>Victor</td>\n      <td>Casey</td>\n      <td>1984-06-22</td>\n      <td>victor.casey@fake_domain-2.com</td>\n      <td>occur</td>\n      <td>9</td>\n      <td>2001</td>\n      <td>140000</td>\n      <td>North Vanessa</td>\n      <td>Cambodia</td>\n      <td>Pandas</td>\n    </tr>\n    <tr>\n      <th>21</th>\n      <td>Darryl</td>\n      <td>Washington</td>\n      <td>1980-07-18</td>\n      <td>darryl.washington@fake_domain-2.com</td>\n      <td>bring</td>\n      <td>3</td>\n      <td>1985</td>\n      <td>135000</td>\n      <td>South Katherine</td>\n      <td>Haiti</td>\n      <td>Data Mining</td>\n    </tr>\n    <tr>\n      <th>22</th>\n      <td>Julie</td>\n      <td>Johnson</td>\n      <td>1984-04-10</td>\n      <td>julie.johnson@fake_domain-2.com</td>\n      <td>require</td>\n      <td>14</td>\n      <td>1999</td>\n      <td>110000</td>\n      <td>Swansonburgh</td>\n      <td>Monaco</td>\n      <td>Python</td>\n    </tr>\n    <tr>\n      <th>23</th>\n      <td>Julia</td>\n      <td>King</td>\n      <td>1979-01-17</td>\n      <td>julia.king@fake_domain-2.com</td>\n      <td>week</td>\n      <td>13</td>\n      <td>1995</td>\n      <td>90000</td>\n      <td>Port Suzanne</td>\n      <td>France</td>\n      <td>Python</td>\n    </tr>\n    <tr>\n      <th>24</th>\n      <td>Nicole</td>\n      <td>Barnes</td>\n      <td>1970-10-20</td>\n      <td>nicole.barnes@fake_domain-2.com</td>\n      <td>modern</td>\n      <td>1</td>\n      <td>2019</td>\n      <td>85000</td>\n      <td>Hallchester</td>\n      <td>Antigua and Barbuda</td>\n      <td>SQL</td>\n    </tr>\n    <tr>\n      <th>25</th>\n      <td>Sierra</td>\n      <td>Green</td>\n      <td>1980-05-29</td>\n      <td>sierra.green@fake_domain-2.com</td>\n      <td>him</td>\n      <td>9</td>\n      <td>1974</td>\n      <td>90000</td>\n      <td>Reynoldsmouth</td>\n      <td>Croatia</td>\n      <td>Linux</td>\n    </tr>\n    <tr>\n      <th>26</th>\n      <td>David</td>\n      <td>Dickerson</td>\n      <td>1989-08-22</td>\n      <td>david.dickerson@fake_domain-2.com</td>\n      <td>he</td>\n      <td>5</td>\n      <td>1977</td>\n      <td>130000</td>\n      <td>Lake Gregorystad</td>\n      <td>Mauritius</td>\n      <td>Python</td>\n    </tr>\n    <tr>\n      <th>27</th>\n      <td>Arthur</td>\n      <td>Russell</td>\n      <td>1982-05-11</td>\n      <td>arthur.russell@fake_domain-2.com</td>\n      <td>heavy</td>\n      <td>8</td>\n      <td>1973</td>\n      <td>120000</td>\n      <td>Lake Kevinberg</td>\n      <td>Ghana</td>\n      <td>Python</td>\n    </tr>\n    <tr>\n      <th>28</th>\n      <td>Stephanie</td>\n      <td>Stone</td>\n      <td>1982-07-20</td>\n      <td>stephanie.stone@fake_domain-2.com</td>\n      <td>teacher</td>\n      <td>2</td>\n      <td>2003</td>\n      <td>145000</td>\n      <td>New Michael</td>\n      <td>Kyrgyz Republic</td>\n      <td>Linux</td>\n    </tr>\n    <tr>\n      <th>29</th>\n      <td>Heidi</td>\n      <td>Martin</td>\n      <td>1972-03-05</td>\n      <td>heidi.martin@fake_domain-2.com</td>\n      <td>since</td>\n      <td>9</td>\n      <td>1976</td>\n      <td>90000</td>\n      <td>Robinhaven</td>\n      <td>Spain</td>\n      <td>Data Mining</td>\n    </tr>\n    <tr>\n      <th>30</th>\n      <td>Lori</td>\n      <td>Ford</td>\n      <td>1986-09-16</td>\n      <td>lori.ford@fake_domain-2.com</td>\n      <td>talk</td>\n      <td>14</td>\n      <td>1989</td>\n      <td>100000</td>\n      <td>Randalltown</td>\n      <td>Venezuela</td>\n      <td>Data Mining</td>\n    </tr>\n    <tr>\n      <th>31</th>\n      <td>Tyler</td>\n      <td>Byrd</td>\n      <td>1971-08-12</td>\n      <td>tyler.byrd@fake_domain-2.com</td>\n      <td>consider</td>\n      <td>15</td>\n      <td>2010</td>\n      <td>130000</td>\n      <td>New George</td>\n      <td>Congo</td>\n      <td>Python</td>\n    </tr>\n    <tr>\n      <th>32</th>\n      <td>Heather</td>\n      <td>Jones</td>\n      <td>1982-01-20</td>\n      <td>heather.jones@fake_domain-2.com</td>\n      <td>sound</td>\n      <td>6</td>\n      <td>1973</td>\n      <td>100000</td>\n      <td>Hawkinsshire</td>\n      <td>Wallis and Futuna</td>\n      <td>Pandas</td>\n    </tr>\n    <tr>\n      <th>33</th>\n      <td>Jesus</td>\n      <td>Ware</td>\n      <td>1980-11-28</td>\n      <td>jesus.ware@fake_domain-2.com</td>\n      <td>future</td>\n      <td>15</td>\n      <td>1980</td>\n      <td>135000</td>\n      <td>Sanchezburgh</td>\n      <td>Mexico</td>\n      <td>SQL</td>\n    </tr>\n    <tr>\n      <th>34</th>\n      <td>Patrick</td>\n      <td>Krueger</td>\n      <td>1972-05-08</td>\n      <td>patrick.krueger@fake_domain-2.com</td>\n      <td>believe</td>\n      <td>0</td>\n      <td>1979</td>\n      <td>100000</td>\n      <td>Christineshire</td>\n      <td>Liberia</td>\n      <td>SQL</td>\n    </tr>\n    <tr>\n      <th>35</th>\n      <td>Becky</td>\n      <td>Hamilton</td>\n      <td>1983-04-22</td>\n      <td>becky.hamilton@fake_domain-2.com</td>\n      <td>offer</td>\n      <td>7</td>\n      <td>1999</td>\n      <td>75000</td>\n      <td>West Robertside</td>\n      <td>Guam</td>\n      <td>Data Mining</td>\n    </tr>\n    <tr>\n      <th>36</th>\n      <td>Tammy</td>\n      <td>Dyer</td>\n      <td>1988-05-18</td>\n      <td>tammy.dyer@fake_domain-2.com</td>\n      <td>want</td>\n      <td>15</td>\n      <td>2004</td>\n      <td>125000</td>\n      <td>North Jennifer</td>\n      <td>Azerbaijan</td>\n      <td>Linux</td>\n    </tr>\n    <tr>\n      <th>37</th>\n      <td>Charlotte</td>\n      <td>Whitney</td>\n      <td>1977-08-16</td>\n      <td>charlotte.whitney@fake_domain-2.com</td>\n      <td>condition</td>\n      <td>9</td>\n      <td>1980</td>\n      <td>100000</td>\n      <td>Ashleyside</td>\n      <td>Cayman Islands</td>\n      <td>Pandas</td>\n    </tr>\n    <tr>\n      <th>38</th>\n      <td>Sean</td>\n      <td>Prince</td>\n      <td>1982-07-27</td>\n      <td>sean.prince@fake_domain-2.com</td>\n      <td>first</td>\n      <td>14</td>\n      <td>1983</td>\n      <td>145000</td>\n      <td>Kington</td>\n      <td>Falkland Islands (Malvinas)</td>\n      <td>Pandas</td>\n    </tr>\n    <tr>\n      <th>39</th>\n      <td>Glenn</td>\n      <td>Cameron</td>\n      <td>1977-11-04</td>\n      <td>glenn.cameron@fake_domain-2.com</td>\n      <td>president</td>\n      <td>1</td>\n      <td>2001</td>\n      <td>100000</td>\n      <td>Erinview</td>\n      <td>Romania</td>\n      <td>Data Mining</td>\n    </tr>\n    <tr>\n      <th>40</th>\n      <td>Jacob</td>\n      <td>Campbell</td>\n      <td>1974-06-23</td>\n      <td>jacob.campbell@fake_domain-2.com</td>\n      <td>eye</td>\n      <td>15</td>\n      <td>2010</td>\n      <td>95000</td>\n      <td>Butlerfort</td>\n      <td>Samoa</td>\n      <td>Pandas</td>\n    </tr>\n    <tr>\n      <th>41</th>\n      <td>Jason</td>\n      <td>Smith</td>\n      <td>1973-02-03</td>\n      <td>jason.smith@fake_domain-2.com</td>\n      <td>focus</td>\n      <td>13</td>\n      <td>2009</td>\n      <td>75000</td>\n      <td>Darleneshire</td>\n      <td>Switzerland</td>\n      <td>Pandas</td>\n    </tr>\n    <tr>\n      <th>42</th>\n      <td>Andrew</td>\n      <td>Bishop</td>\n      <td>1973-03-09</td>\n      <td>andrew.bishop@fake_domain-2.com</td>\n      <td>hundred</td>\n      <td>7</td>\n      <td>2015</td>\n      <td>80000</td>\n      <td>Campbellmouth</td>\n      <td>Aruba</td>\n      <td>Data Mining</td>\n    </tr>\n    <tr>\n      <th>43</th>\n      <td>Kathryn</td>\n      <td>Hancock</td>\n      <td>1985-04-16</td>\n      <td>kathryn.hancock@fake_domain-2.com</td>\n      <td>thus</td>\n      <td>8</td>\n      <td>1995</td>\n      <td>125000</td>\n      <td>Carterton</td>\n      <td>Iceland</td>\n      <td>Pandas</td>\n    </tr>\n    <tr>\n      <th>44</th>\n      <td>Jessica</td>\n      <td>Harvey</td>\n      <td>1970-06-21</td>\n      <td>jessica.harvey@fake_domain-2.com</td>\n      <td>human</td>\n      <td>9</td>\n      <td>2002</td>\n      <td>135000</td>\n      <td>East Kimberlyshire</td>\n      <td>Mali</td>\n      <td>SQL</td>\n    </tr>\n    <tr>\n      <th>45</th>\n      <td>James</td>\n      <td>Hughes</td>\n      <td>1970-05-20</td>\n      <td>james.hughes@fake_domain-2.com</td>\n      <td>time</td>\n      <td>0</td>\n      <td>2017</td>\n      <td>120000</td>\n      <td>South Daniel</td>\n      <td>Grenada</td>\n      <td>Python</td>\n    </tr>\n    <tr>\n      <th>46</th>\n      <td>Garrett</td>\n      <td>Sanchez</td>\n      <td>1987-10-23</td>\n      <td>garrett.sanchez@fake_domain-2.com</td>\n      <td>PM</td>\n      <td>10</td>\n      <td>2015</td>\n      <td>135000</td>\n      <td>Lynchland</td>\n      <td>Nepal</td>\n      <td>Pandas</td>\n    </tr>\n    <tr>\n      <th>47</th>\n      <td>Isaiah</td>\n      <td>Pearson</td>\n      <td>1989-03-02</td>\n      <td>isaiah.pearson@fake_domain-2.com</td>\n      <td>relate</td>\n      <td>9</td>\n      <td>2014</td>\n      <td>95000</td>\n      <td>Michellestad</td>\n      <td>Sao Tome and Principe</td>\n      <td>Python</td>\n    </tr>\n    <tr>\n      <th>48</th>\n      <td>Elizabeth</td>\n      <td>Schneider</td>\n      <td>1972-01-16</td>\n      <td>elizabeth.schneider@fake_domain-2.com</td>\n      <td>nor</td>\n      <td>15</td>\n      <td>1974</td>\n      <td>100000</td>\n      <td>East Kevinton</td>\n      <td>Monaco</td>\n      <td>Python</td>\n    </tr>\n    <tr>\n      <th>49</th>\n      <td>Eric</td>\n      <td>Lloyd</td>\n      <td>1979-11-21</td>\n      <td>eric.lloyd@fake_domain-2.com</td>\n      <td>Republican</td>\n      <td>5</td>\n      <td>2009</td>\n      <td>100000</td>\n      <td>Romeroburgh</td>\n      <td>Mauritius</td>\n      <td>SQL</td>\n    </tr>\n  </tbody>\n</table>\n</div>"
     },
     "execution_count": 17,
     "metadata": {},
     "output_type": "execute_result"
    }
   ],
   "source": [
    "\n",
    "df = pd.DataFrame(fake_data_generation(50))\n",
    "df"
   ],
   "metadata": {
    "collapsed": false,
    "pycharm": {
     "name": "#%%\n"
    }
   }
  },
  {
   "cell_type": "code",
   "execution_count": 18,
   "outputs": [
    {
     "data": {
      "text/plain": "  First Name Last Name  Birth Date                               Email  \\\n0    Michael      Leon  1989-04-27      michael.leon@fake_domain-2.com   \n1       Kyle     Ellis  1987-08-16        kyle.ellis@fake_domain-2.com   \n2   Jonathan   Stanley  1994-09-01  jonathan.stanley@fake_domain-2.com   \n3   Brittany   Kennedy  1971-02-06  brittany.kennedy@fake_domain-2.com   \n4      David  Williams  1973-06-14    david.williams@fake_domain-2.com   \n\n    Hobby  Experience Start Year  Salary            City  \\\n0  family           7       2001  125000      Burchmouth   \n1   exist           0       1993  110000    New Kristina   \n2  anyone          14       1983  130000     Natalieside   \n3    drug          15       2009   75000       Hessville   \n4    down           2       1995  145000  West Jasonberg   \n\n                Nationality   Skill  \n0                  Mongolia   Linux  \n1                     Congo  Python  \n2  Northern Mariana Islands  Python  \n3                     Kenya  Pandas  \n4                    Uganda     SQL  ",
      "text/html": "<div>\n<style scoped>\n    .dataframe tbody tr th:only-of-type {\n        vertical-align: middle;\n    }\n\n    .dataframe tbody tr th {\n        vertical-align: top;\n    }\n\n    .dataframe thead th {\n        text-align: right;\n    }\n</style>\n<table border=\"1\" class=\"dataframe\">\n  <thead>\n    <tr style=\"text-align: right;\">\n      <th></th>\n      <th>First Name</th>\n      <th>Last Name</th>\n      <th>Birth Date</th>\n      <th>Email</th>\n      <th>Hobby</th>\n      <th>Experience</th>\n      <th>Start Year</th>\n      <th>Salary</th>\n      <th>City</th>\n      <th>Nationality</th>\n      <th>Skill</th>\n    </tr>\n  </thead>\n  <tbody>\n    <tr>\n      <th>0</th>\n      <td>Michael</td>\n      <td>Leon</td>\n      <td>1989-04-27</td>\n      <td>michael.leon@fake_domain-2.com</td>\n      <td>family</td>\n      <td>7</td>\n      <td>2001</td>\n      <td>125000</td>\n      <td>Burchmouth</td>\n      <td>Mongolia</td>\n      <td>Linux</td>\n    </tr>\n    <tr>\n      <th>1</th>\n      <td>Kyle</td>\n      <td>Ellis</td>\n      <td>1987-08-16</td>\n      <td>kyle.ellis@fake_domain-2.com</td>\n      <td>exist</td>\n      <td>0</td>\n      <td>1993</td>\n      <td>110000</td>\n      <td>New Kristina</td>\n      <td>Congo</td>\n      <td>Python</td>\n    </tr>\n    <tr>\n      <th>2</th>\n      <td>Jonathan</td>\n      <td>Stanley</td>\n      <td>1994-09-01</td>\n      <td>jonathan.stanley@fake_domain-2.com</td>\n      <td>anyone</td>\n      <td>14</td>\n      <td>1983</td>\n      <td>130000</td>\n      <td>Natalieside</td>\n      <td>Northern Mariana Islands</td>\n      <td>Python</td>\n    </tr>\n    <tr>\n      <th>3</th>\n      <td>Brittany</td>\n      <td>Kennedy</td>\n      <td>1971-02-06</td>\n      <td>brittany.kennedy@fake_domain-2.com</td>\n      <td>drug</td>\n      <td>15</td>\n      <td>2009</td>\n      <td>75000</td>\n      <td>Hessville</td>\n      <td>Kenya</td>\n      <td>Pandas</td>\n    </tr>\n    <tr>\n      <th>4</th>\n      <td>David</td>\n      <td>Williams</td>\n      <td>1973-06-14</td>\n      <td>david.williams@fake_domain-2.com</td>\n      <td>down</td>\n      <td>2</td>\n      <td>1995</td>\n      <td>145000</td>\n      <td>West Jasonberg</td>\n      <td>Uganda</td>\n      <td>SQL</td>\n    </tr>\n  </tbody>\n</table>\n</div>"
     },
     "execution_count": 18,
     "metadata": {},
     "output_type": "execute_result"
    }
   ],
   "source": [
    "df.head()"
   ],
   "metadata": {
    "collapsed": false,
    "pycharm": {
     "name": "#%%\n"
    }
   }
  },
  {
   "cell_type": "code",
   "execution_count": 19,
   "outputs": [
    {
     "data": {
      "text/plain": "   First Name  Last Name  Birth Date                                  Email  \\\n45      James     Hughes  1970-05-20         james.hughes@fake_domain-2.com   \n46    Garrett    Sanchez  1987-10-23      garrett.sanchez@fake_domain-2.com   \n47     Isaiah    Pearson  1989-03-02       isaiah.pearson@fake_domain-2.com   \n48  Elizabeth  Schneider  1972-01-16  elizabeth.schneider@fake_domain-2.com   \n49       Eric      Lloyd  1979-11-21           eric.lloyd@fake_domain-2.com   \n\n         Hobby  Experience Start Year  Salary           City  \\\n45        time           0       2017  120000   South Daniel   \n46          PM          10       2015  135000      Lynchland   \n47      relate           9       2014   95000   Michellestad   \n48         nor          15       1974  100000  East Kevinton   \n49  Republican           5       2009  100000    Romeroburgh   \n\n              Nationality   Skill  \n45                Grenada  Python  \n46                  Nepal  Pandas  \n47  Sao Tome and Principe  Python  \n48                 Monaco  Python  \n49              Mauritius     SQL  ",
      "text/html": "<div>\n<style scoped>\n    .dataframe tbody tr th:only-of-type {\n        vertical-align: middle;\n    }\n\n    .dataframe tbody tr th {\n        vertical-align: top;\n    }\n\n    .dataframe thead th {\n        text-align: right;\n    }\n</style>\n<table border=\"1\" class=\"dataframe\">\n  <thead>\n    <tr style=\"text-align: right;\">\n      <th></th>\n      <th>First Name</th>\n      <th>Last Name</th>\n      <th>Birth Date</th>\n      <th>Email</th>\n      <th>Hobby</th>\n      <th>Experience</th>\n      <th>Start Year</th>\n      <th>Salary</th>\n      <th>City</th>\n      <th>Nationality</th>\n      <th>Skill</th>\n    </tr>\n  </thead>\n  <tbody>\n    <tr>\n      <th>45</th>\n      <td>James</td>\n      <td>Hughes</td>\n      <td>1970-05-20</td>\n      <td>james.hughes@fake_domain-2.com</td>\n      <td>time</td>\n      <td>0</td>\n      <td>2017</td>\n      <td>120000</td>\n      <td>South Daniel</td>\n      <td>Grenada</td>\n      <td>Python</td>\n    </tr>\n    <tr>\n      <th>46</th>\n      <td>Garrett</td>\n      <td>Sanchez</td>\n      <td>1987-10-23</td>\n      <td>garrett.sanchez@fake_domain-2.com</td>\n      <td>PM</td>\n      <td>10</td>\n      <td>2015</td>\n      <td>135000</td>\n      <td>Lynchland</td>\n      <td>Nepal</td>\n      <td>Pandas</td>\n    </tr>\n    <tr>\n      <th>47</th>\n      <td>Isaiah</td>\n      <td>Pearson</td>\n      <td>1989-03-02</td>\n      <td>isaiah.pearson@fake_domain-2.com</td>\n      <td>relate</td>\n      <td>9</td>\n      <td>2014</td>\n      <td>95000</td>\n      <td>Michellestad</td>\n      <td>Sao Tome and Principe</td>\n      <td>Python</td>\n    </tr>\n    <tr>\n      <th>48</th>\n      <td>Elizabeth</td>\n      <td>Schneider</td>\n      <td>1972-01-16</td>\n      <td>elizabeth.schneider@fake_domain-2.com</td>\n      <td>nor</td>\n      <td>15</td>\n      <td>1974</td>\n      <td>100000</td>\n      <td>East Kevinton</td>\n      <td>Monaco</td>\n      <td>Python</td>\n    </tr>\n    <tr>\n      <th>49</th>\n      <td>Eric</td>\n      <td>Lloyd</td>\n      <td>1979-11-21</td>\n      <td>eric.lloyd@fake_domain-2.com</td>\n      <td>Republican</td>\n      <td>5</td>\n      <td>2009</td>\n      <td>100000</td>\n      <td>Romeroburgh</td>\n      <td>Mauritius</td>\n      <td>SQL</td>\n    </tr>\n  </tbody>\n</table>\n</div>"
     },
     "execution_count": 19,
     "metadata": {},
     "output_type": "execute_result"
    }
   ],
   "source": [
    "df.tail()"
   ],
   "metadata": {
    "collapsed": false,
    "pycharm": {
     "name": "#%%\n"
    }
   }
  },
  {
   "cell_type": "code",
   "execution_count": 20,
   "outputs": [
    {
     "data": {
      "text/plain": "RangeIndex(start=0, stop=50, step=1)"
     },
     "execution_count": 20,
     "metadata": {},
     "output_type": "execute_result"
    }
   ],
   "source": [
    "df.index"
   ],
   "metadata": {
    "collapsed": false,
    "pycharm": {
     "name": "#%%\n"
    }
   }
  },
  {
   "cell_type": "code",
   "execution_count": 21,
   "outputs": [
    {
     "data": {
      "text/plain": "Index(['First Name', 'Last Name', 'Birth Date', 'Email', 'Hobby', 'Experience',\n       'Start Year', 'Salary', 'City', 'Nationality', 'Skill'],\n      dtype='object')"
     },
     "execution_count": 21,
     "metadata": {},
     "output_type": "execute_result"
    }
   ],
   "source": [
    "df.columns"
   ],
   "metadata": {
    "collapsed": false,
    "pycharm": {
     "name": "#%%\n"
    }
   }
  },
  {
   "cell_type": "code",
   "execution_count": 22,
   "outputs": [
    {
     "data": {
      "text/plain": "0             Burchmouth\n1           New Kristina\n2            Natalieside\n3              Hessville\n4         West Jasonberg\n5            Heatherfurt\n6             Rachelstad\n7             Nolanmouth\n8       Port Michaelfort\n9               Rossfort\n10            Davismouth\n11            Jonesmouth\n12          Franklinberg\n13           Patriciaton\n14          Alvaradoport\n15       South Stephanie\n16       Christopherview\n17        Kennedychester\n18          South Stacey\n19        East Jimmyside\n20         North Vanessa\n21       South Katherine\n22          Swansonburgh\n23          Port Suzanne\n24           Hallchester\n25         Reynoldsmouth\n26      Lake Gregorystad\n27        Lake Kevinberg\n28           New Michael\n29            Robinhaven\n30           Randalltown\n31            New George\n32          Hawkinsshire\n33          Sanchezburgh\n34        Christineshire\n35       West Robertside\n36        North Jennifer\n37            Ashleyside\n38               Kington\n39              Erinview\n40            Butlerfort\n41          Darleneshire\n42         Campbellmouth\n43             Carterton\n44    East Kimberlyshire\n45          South Daniel\n46             Lynchland\n47          Michellestad\n48         East Kevinton\n49           Romeroburgh\nName: City, dtype: object"
     },
     "execution_count": 22,
     "metadata": {},
     "output_type": "execute_result"
    }
   ],
   "source": [
    "df[\"City\"]"
   ],
   "metadata": {
    "collapsed": false,
    "pycharm": {
     "name": "#%%\n"
    }
   }
  },
  {
   "cell_type": "code",
   "execution_count": 23,
   "outputs": [
    {
     "data": {
      "text/plain": "  First Name Last Name  Birth Date                               Email  \\\n0    Michael      Leon  1989-04-27      michael.leon@fake_domain-2.com   \n1       Kyle     Ellis  1987-08-16        kyle.ellis@fake_domain-2.com   \n2   Jonathan   Stanley  1994-09-01  jonathan.stanley@fake_domain-2.com   \n\n    Hobby  Experience Start Year  Salary          City  \\\n0  family           7       2001  125000    Burchmouth   \n1   exist           0       1993  110000  New Kristina   \n2  anyone          14       1983  130000   Natalieside   \n\n                Nationality   Skill  \n0                  Mongolia   Linux  \n1                     Congo  Python  \n2  Northern Mariana Islands  Python  ",
      "text/html": "<div>\n<style scoped>\n    .dataframe tbody tr th:only-of-type {\n        vertical-align: middle;\n    }\n\n    .dataframe tbody tr th {\n        vertical-align: top;\n    }\n\n    .dataframe thead th {\n        text-align: right;\n    }\n</style>\n<table border=\"1\" class=\"dataframe\">\n  <thead>\n    <tr style=\"text-align: right;\">\n      <th></th>\n      <th>First Name</th>\n      <th>Last Name</th>\n      <th>Birth Date</th>\n      <th>Email</th>\n      <th>Hobby</th>\n      <th>Experience</th>\n      <th>Start Year</th>\n      <th>Salary</th>\n      <th>City</th>\n      <th>Nationality</th>\n      <th>Skill</th>\n    </tr>\n  </thead>\n  <tbody>\n    <tr>\n      <th>0</th>\n      <td>Michael</td>\n      <td>Leon</td>\n      <td>1989-04-27</td>\n      <td>michael.leon@fake_domain-2.com</td>\n      <td>family</td>\n      <td>7</td>\n      <td>2001</td>\n      <td>125000</td>\n      <td>Burchmouth</td>\n      <td>Mongolia</td>\n      <td>Linux</td>\n    </tr>\n    <tr>\n      <th>1</th>\n      <td>Kyle</td>\n      <td>Ellis</td>\n      <td>1987-08-16</td>\n      <td>kyle.ellis@fake_domain-2.com</td>\n      <td>exist</td>\n      <td>0</td>\n      <td>1993</td>\n      <td>110000</td>\n      <td>New Kristina</td>\n      <td>Congo</td>\n      <td>Python</td>\n    </tr>\n    <tr>\n      <th>2</th>\n      <td>Jonathan</td>\n      <td>Stanley</td>\n      <td>1994-09-01</td>\n      <td>jonathan.stanley@fake_domain-2.com</td>\n      <td>anyone</td>\n      <td>14</td>\n      <td>1983</td>\n      <td>130000</td>\n      <td>Natalieside</td>\n      <td>Northern Mariana Islands</td>\n      <td>Python</td>\n    </tr>\n  </tbody>\n</table>\n</div>"
     },
     "execution_count": 23,
     "metadata": {},
     "output_type": "execute_result"
    }
   ],
   "source": [
    "df[0:3]"
   ],
   "metadata": {
    "collapsed": false,
    "pycharm": {
     "name": "#%%\n"
    }
   }
  },
  {
   "cell_type": "code",
   "execution_count": 29,
   "outputs": [
    {
     "data": {
      "text/plain": "Experience         8.44\nSalary        109700.00\ndtype: float64"
     },
     "execution_count": 29,
     "metadata": {},
     "output_type": "execute_result"
    }
   ],
   "source": [
    "df.mean(numeric_only=True)"
   ],
   "metadata": {
    "collapsed": false,
    "pycharm": {
     "name": "#%%\n"
    }
   }
  },
  {
   "cell_type": "code",
   "execution_count": 34,
   "outputs": [
    {
     "data": {
      "text/plain": "            Salary\nExperience        \n0           330000\n1           295000\n2           510000\n3           135000\n5           375000\n6           280000\n7           375000\n8           245000\n9           895000\n10          135000\n11           90000\n12          115000\n13          405000\n14          640000\n15          660000",
      "text/html": "<div>\n<style scoped>\n    .dataframe tbody tr th:only-of-type {\n        vertical-align: middle;\n    }\n\n    .dataframe tbody tr th {\n        vertical-align: top;\n    }\n\n    .dataframe thead th {\n        text-align: right;\n    }\n</style>\n<table border=\"1\" class=\"dataframe\">\n  <thead>\n    <tr style=\"text-align: right;\">\n      <th></th>\n      <th>Salary</th>\n    </tr>\n    <tr>\n      <th>Experience</th>\n      <th></th>\n    </tr>\n  </thead>\n  <tbody>\n    <tr>\n      <th>0</th>\n      <td>330000</td>\n    </tr>\n    <tr>\n      <th>1</th>\n      <td>295000</td>\n    </tr>\n    <tr>\n      <th>2</th>\n      <td>510000</td>\n    </tr>\n    <tr>\n      <th>3</th>\n      <td>135000</td>\n    </tr>\n    <tr>\n      <th>5</th>\n      <td>375000</td>\n    </tr>\n    <tr>\n      <th>6</th>\n      <td>280000</td>\n    </tr>\n    <tr>\n      <th>7</th>\n      <td>375000</td>\n    </tr>\n    <tr>\n      <th>8</th>\n      <td>245000</td>\n    </tr>\n    <tr>\n      <th>9</th>\n      <td>895000</td>\n    </tr>\n    <tr>\n      <th>10</th>\n      <td>135000</td>\n    </tr>\n    <tr>\n      <th>11</th>\n      <td>90000</td>\n    </tr>\n    <tr>\n      <th>12</th>\n      <td>115000</td>\n    </tr>\n    <tr>\n      <th>13</th>\n      <td>405000</td>\n    </tr>\n    <tr>\n      <th>14</th>\n      <td>640000</td>\n    </tr>\n    <tr>\n      <th>15</th>\n      <td>660000</td>\n    </tr>\n  </tbody>\n</table>\n</div>"
     },
     "execution_count": 34,
     "metadata": {},
     "output_type": "execute_result"
    }
   ],
   "source": [
    "df.groupby(\"Experience\").sum()"
   ],
   "metadata": {
    "collapsed": false,
    "pycharm": {
     "name": "#%%\n"
    }
   }
  },
  {
   "cell_type": "code",
   "execution_count": 31,
   "outputs": [
    {
     "data": {
      "text/plain": "        Experience\nSalary            \n75000           55\n80000           21\n85000            1\n90000           42\n95000           31\n100000          52\n105000          28\n110000          15\n115000          12\n120000          10\n125000          30\n130000          34\n135000          50\n140000          18\n145000          23",
      "text/html": "<div>\n<style scoped>\n    .dataframe tbody tr th:only-of-type {\n        vertical-align: middle;\n    }\n\n    .dataframe tbody tr th {\n        vertical-align: top;\n    }\n\n    .dataframe thead th {\n        text-align: right;\n    }\n</style>\n<table border=\"1\" class=\"dataframe\">\n  <thead>\n    <tr style=\"text-align: right;\">\n      <th></th>\n      <th>Experience</th>\n    </tr>\n    <tr>\n      <th>Salary</th>\n      <th></th>\n    </tr>\n  </thead>\n  <tbody>\n    <tr>\n      <th>75000</th>\n      <td>55</td>\n    </tr>\n    <tr>\n      <th>80000</th>\n      <td>21</td>\n    </tr>\n    <tr>\n      <th>85000</th>\n      <td>1</td>\n    </tr>\n    <tr>\n      <th>90000</th>\n      <td>42</td>\n    </tr>\n    <tr>\n      <th>95000</th>\n      <td>31</td>\n    </tr>\n    <tr>\n      <th>100000</th>\n      <td>52</td>\n    </tr>\n    <tr>\n      <th>105000</th>\n      <td>28</td>\n    </tr>\n    <tr>\n      <th>110000</th>\n      <td>15</td>\n    </tr>\n    <tr>\n      <th>115000</th>\n      <td>12</td>\n    </tr>\n    <tr>\n      <th>120000</th>\n      <td>10</td>\n    </tr>\n    <tr>\n      <th>125000</th>\n      <td>30</td>\n    </tr>\n    <tr>\n      <th>130000</th>\n      <td>34</td>\n    </tr>\n    <tr>\n      <th>135000</th>\n      <td>50</td>\n    </tr>\n    <tr>\n      <th>140000</th>\n      <td>18</td>\n    </tr>\n    <tr>\n      <th>145000</th>\n      <td>23</td>\n    </tr>\n  </tbody>\n</table>\n</div>"
     },
     "execution_count": 31,
     "metadata": {},
     "output_type": "execute_result"
    }
   ],
   "source": [
    "df.groupby(\"Salary\").sum()"
   ],
   "metadata": {
    "collapsed": false,
    "pycharm": {
     "name": "#%%\n"
    }
   }
  },
  {
   "cell_type": "code",
   "execution_count": 41,
   "outputs": [
    {
     "data": {
      "text/plain": "<pandas.io.formats.style.Styler at 0x118e39b80>",
      "text/html": "<style type=\"text/css\">\n</style>\n<table id=\"T_bb53f_\">\n  <thead>\n    <tr>\n      <th class=\"blank level0\" >&nbsp;</th>\n      <th class=\"col_heading level0 col0\" >First Name</th>\n      <th class=\"col_heading level0 col1\" >Last Name</th>\n      <th class=\"col_heading level0 col2\" >Birth Date</th>\n      <th class=\"col_heading level0 col3\" >Email</th>\n      <th class=\"col_heading level0 col4\" >Hobby</th>\n      <th class=\"col_heading level0 col5\" >Experience</th>\n      <th class=\"col_heading level0 col6\" >Start Year</th>\n      <th class=\"col_heading level0 col7\" >Salary</th>\n      <th class=\"col_heading level0 col8\" >City</th>\n      <th class=\"col_heading level0 col9\" >Nationality</th>\n      <th class=\"col_heading level0 col10\" >Skill</th>\n    </tr>\n  </thead>\n  <tbody>\n    <tr>\n      <th id=\"T_bb53f_level0_row0\" class=\"row_heading level0 row0\" >0</th>\n      <td id=\"T_bb53f_row0_col0\" class=\"data row0 col0\" >Michael</td>\n      <td id=\"T_bb53f_row0_col1\" class=\"data row0 col1\" >Leon</td>\n      <td id=\"T_bb53f_row0_col2\" class=\"data row0 col2\" >1989-04-27</td>\n      <td id=\"T_bb53f_row0_col3\" class=\"data row0 col3\" >michael.leon@fake_domain-2.com</td>\n      <td id=\"T_bb53f_row0_col4\" class=\"data row0 col4\" >family</td>\n      <td id=\"T_bb53f_row0_col5\" class=\"data row0 col5\" >7</td>\n      <td id=\"T_bb53f_row0_col6\" class=\"data row0 col6\" >2001</td>\n      <td id=\"T_bb53f_row0_col7\" class=\"data row0 col7\" >125000</td>\n      <td id=\"T_bb53f_row0_col8\" class=\"data row0 col8\" >Burchmouth</td>\n      <td id=\"T_bb53f_row0_col9\" class=\"data row0 col9\" >Mongolia</td>\n      <td id=\"T_bb53f_row0_col10\" class=\"data row0 col10\" >Linux</td>\n    </tr>\n    <tr>\n      <th id=\"T_bb53f_level0_row1\" class=\"row_heading level0 row1\" >1</th>\n      <td id=\"T_bb53f_row1_col0\" class=\"data row1 col0\" >Kyle</td>\n      <td id=\"T_bb53f_row1_col1\" class=\"data row1 col1\" >Ellis</td>\n      <td id=\"T_bb53f_row1_col2\" class=\"data row1 col2\" >1987-08-16</td>\n      <td id=\"T_bb53f_row1_col3\" class=\"data row1 col3\" >kyle.ellis@fake_domain-2.com</td>\n      <td id=\"T_bb53f_row1_col4\" class=\"data row1 col4\" >exist</td>\n      <td id=\"T_bb53f_row1_col5\" class=\"data row1 col5\" >0</td>\n      <td id=\"T_bb53f_row1_col6\" class=\"data row1 col6\" >1993</td>\n      <td id=\"T_bb53f_row1_col7\" class=\"data row1 col7\" >110000</td>\n      <td id=\"T_bb53f_row1_col8\" class=\"data row1 col8\" >New Kristina</td>\n      <td id=\"T_bb53f_row1_col9\" class=\"data row1 col9\" >Congo</td>\n      <td id=\"T_bb53f_row1_col10\" class=\"data row1 col10\" >Python</td>\n    </tr>\n    <tr>\n      <th id=\"T_bb53f_level0_row2\" class=\"row_heading level0 row2\" >2</th>\n      <td id=\"T_bb53f_row2_col0\" class=\"data row2 col0\" >Jonathan</td>\n      <td id=\"T_bb53f_row2_col1\" class=\"data row2 col1\" >Stanley</td>\n      <td id=\"T_bb53f_row2_col2\" class=\"data row2 col2\" >1994-09-01</td>\n      <td id=\"T_bb53f_row2_col3\" class=\"data row2 col3\" >jonathan.stanley@fake_domain-2.com</td>\n      <td id=\"T_bb53f_row2_col4\" class=\"data row2 col4\" >anyone</td>\n      <td id=\"T_bb53f_row2_col5\" class=\"data row2 col5\" >14</td>\n      <td id=\"T_bb53f_row2_col6\" class=\"data row2 col6\" >1983</td>\n      <td id=\"T_bb53f_row2_col7\" class=\"data row2 col7\" >130000</td>\n      <td id=\"T_bb53f_row2_col8\" class=\"data row2 col8\" >Natalieside</td>\n      <td id=\"T_bb53f_row2_col9\" class=\"data row2 col9\" >Northern Mariana Islands</td>\n      <td id=\"T_bb53f_row2_col10\" class=\"data row2 col10\" >Python</td>\n    </tr>\n    <tr>\n      <th id=\"T_bb53f_level0_row3\" class=\"row_heading level0 row3\" >3</th>\n      <td id=\"T_bb53f_row3_col0\" class=\"data row3 col0\" >Brittany</td>\n      <td id=\"T_bb53f_row3_col1\" class=\"data row3 col1\" >Kennedy</td>\n      <td id=\"T_bb53f_row3_col2\" class=\"data row3 col2\" >1971-02-06</td>\n      <td id=\"T_bb53f_row3_col3\" class=\"data row3 col3\" >brittany.kennedy@fake_domain-2.com</td>\n      <td id=\"T_bb53f_row3_col4\" class=\"data row3 col4\" >drug</td>\n      <td id=\"T_bb53f_row3_col5\" class=\"data row3 col5\" >15</td>\n      <td id=\"T_bb53f_row3_col6\" class=\"data row3 col6\" >2009</td>\n      <td id=\"T_bb53f_row3_col7\" class=\"data row3 col7\" >75000</td>\n      <td id=\"T_bb53f_row3_col8\" class=\"data row3 col8\" >Hessville</td>\n      <td id=\"T_bb53f_row3_col9\" class=\"data row3 col9\" >Kenya</td>\n      <td id=\"T_bb53f_row3_col10\" class=\"data row3 col10\" >Pandas</td>\n    </tr>\n    <tr>\n      <th id=\"T_bb53f_level0_row4\" class=\"row_heading level0 row4\" >4</th>\n      <td id=\"T_bb53f_row4_col0\" class=\"data row4 col0\" >David</td>\n      <td id=\"T_bb53f_row4_col1\" class=\"data row4 col1\" >Williams</td>\n      <td id=\"T_bb53f_row4_col2\" class=\"data row4 col2\" >1973-06-14</td>\n      <td id=\"T_bb53f_row4_col3\" class=\"data row4 col3\" >david.williams@fake_domain-2.com</td>\n      <td id=\"T_bb53f_row4_col4\" class=\"data row4 col4\" >down</td>\n      <td id=\"T_bb53f_row4_col5\" class=\"data row4 col5\" >2</td>\n      <td id=\"T_bb53f_row4_col6\" class=\"data row4 col6\" >1995</td>\n      <td id=\"T_bb53f_row4_col7\" class=\"data row4 col7\" >145000</td>\n      <td id=\"T_bb53f_row4_col8\" class=\"data row4 col8\" >West Jasonberg</td>\n      <td id=\"T_bb53f_row4_col9\" class=\"data row4 col9\" >Uganda</td>\n      <td id=\"T_bb53f_row4_col10\" class=\"data row4 col10\" >SQL</td>\n    </tr>\n    <tr>\n      <th id=\"T_bb53f_level0_row5\" class=\"row_heading level0 row5\" >5</th>\n      <td id=\"T_bb53f_row5_col0\" class=\"data row5 col0\" >Ashley</td>\n      <td id=\"T_bb53f_row5_col1\" class=\"data row5 col1\" >Dyer</td>\n      <td id=\"T_bb53f_row5_col2\" class=\"data row5 col2\" >1974-04-19</td>\n      <td id=\"T_bb53f_row5_col3\" class=\"data row5 col3\" >ashley.dyer@fake_domain-2.com</td>\n      <td id=\"T_bb53f_row5_col4\" class=\"data row5 col4\" >method</td>\n      <td id=\"T_bb53f_row5_col5\" class=\"data row5 col5\" >2</td>\n      <td id=\"T_bb53f_row5_col6\" class=\"data row5 col6\" >1983</td>\n      <td id=\"T_bb53f_row5_col7\" class=\"data row5 col7\" >100000</td>\n      <td id=\"T_bb53f_row5_col8\" class=\"data row5 col8\" >Heatherfurt</td>\n      <td id=\"T_bb53f_row5_col9\" class=\"data row5 col9\" >Bahrain</td>\n      <td id=\"T_bb53f_row5_col10\" class=\"data row5 col10\" >Linux</td>\n    </tr>\n    <tr>\n      <th id=\"T_bb53f_level0_row6\" class=\"row_heading level0 row6\" >6</th>\n      <td id=\"T_bb53f_row6_col0\" class=\"data row6 col0\" >Brandon</td>\n      <td id=\"T_bb53f_row6_col1\" class=\"data row6 col1\" >Crawford</td>\n      <td id=\"T_bb53f_row6_col2\" class=\"data row6 col2\" >1990-09-04</td>\n      <td id=\"T_bb53f_row6_col3\" class=\"data row6 col3\" >brandon.crawford@fake_domain-2.com</td>\n      <td id=\"T_bb53f_row6_col4\" class=\"data row6 col4\" >PM</td>\n      <td id=\"T_bb53f_row6_col5\" class=\"data row6 col5\" >1</td>\n      <td id=\"T_bb53f_row6_col6\" class=\"data row6 col6\" >1998</td>\n      <td id=\"T_bb53f_row6_col7\" class=\"data row6 col7\" >110000</td>\n      <td id=\"T_bb53f_row6_col8\" class=\"data row6 col8\" >Rachelstad</td>\n      <td id=\"T_bb53f_row6_col9\" class=\"data row6 col9\" >San Marino</td>\n      <td id=\"T_bb53f_row6_col10\" class=\"data row6 col10\" >SQL</td>\n    </tr>\n    <tr>\n      <th id=\"T_bb53f_level0_row7\" class=\"row_heading level0 row7\" >7</th>\n      <td id=\"T_bb53f_row7_col0\" class=\"data row7 col0\" >Lisa</td>\n      <td id=\"T_bb53f_row7_col1\" class=\"data row7 col1\" >Powell</td>\n      <td id=\"T_bb53f_row7_col2\" class=\"data row7 col2\" >1990-09-16</td>\n      <td id=\"T_bb53f_row7_col3\" class=\"data row7 col3\" >lisa.powell@fake_domain-2.com</td>\n      <td id=\"T_bb53f_row7_col4\" class=\"data row7 col4\" >past</td>\n      <td id=\"T_bb53f_row7_col5\" class=\"data row7 col5\" >5</td>\n      <td id=\"T_bb53f_row7_col6\" class=\"data row7 col6\" >1989</td>\n      <td id=\"T_bb53f_row7_col7\" class=\"data row7 col7\" >145000</td>\n      <td id=\"T_bb53f_row7_col8\" class=\"data row7 col8\" >Nolanmouth</td>\n      <td id=\"T_bb53f_row7_col9\" class=\"data row7 col9\" >Mozambique</td>\n      <td id=\"T_bb53f_row7_col10\" class=\"data row7 col10\" >Data Mining</td>\n    </tr>\n    <tr>\n      <th id=\"T_bb53f_level0_row8\" class=\"row_heading level0 row8\" >8</th>\n      <td id=\"T_bb53f_row8_col0\" class=\"data row8 col0\" >Jessica</td>\n      <td id=\"T_bb53f_row8_col1\" class=\"data row8 col1\" >Hoover</td>\n      <td id=\"T_bb53f_row8_col2\" class=\"data row8 col2\" >1986-06-06</td>\n      <td id=\"T_bb53f_row8_col3\" class=\"data row8 col3\" >jessica.hoover@fake_domain-2.com</td>\n      <td id=\"T_bb53f_row8_col4\" class=\"data row8 col4\" >receive</td>\n      <td id=\"T_bb53f_row8_col5\" class=\"data row8 col5\" >12</td>\n      <td id=\"T_bb53f_row8_col6\" class=\"data row8 col6\" >1990</td>\n      <td id=\"T_bb53f_row8_col7\" class=\"data row8 col7\" >115000</td>\n      <td id=\"T_bb53f_row8_col8\" class=\"data row8 col8\" >Port Michaelfort</td>\n      <td id=\"T_bb53f_row8_col9\" class=\"data row8 col9\" >Bosnia and Herzegovina</td>\n      <td id=\"T_bb53f_row8_col10\" class=\"data row8 col10\" >Pandas</td>\n    </tr>\n    <tr>\n      <th id=\"T_bb53f_level0_row9\" class=\"row_heading level0 row9\" >9</th>\n      <td id=\"T_bb53f_row9_col0\" class=\"data row9 col0\" >Whitney</td>\n      <td id=\"T_bb53f_row9_col1\" class=\"data row9 col1\" >Blevins</td>\n      <td id=\"T_bb53f_row9_col2\" class=\"data row9 col2\" >1986-03-30</td>\n      <td id=\"T_bb53f_row9_col3\" class=\"data row9 col3\" >whitney.blevins@fake_domain-2.com</td>\n      <td id=\"T_bb53f_row9_col4\" class=\"data row9 col4\" >measure</td>\n      <td id=\"T_bb53f_row9_col5\" class=\"data row9 col5\" >13</td>\n      <td id=\"T_bb53f_row9_col6\" class=\"data row9 col6\" >1986</td>\n      <td id=\"T_bb53f_row9_col7\" class=\"data row9 col7\" >105000</td>\n      <td id=\"T_bb53f_row9_col8\" class=\"data row9 col8\" >Rossfort</td>\n      <td id=\"T_bb53f_row9_col9\" class=\"data row9 col9\" >Saint Kitts and Nevis</td>\n      <td id=\"T_bb53f_row9_col10\" class=\"data row9 col10\" >Linux</td>\n    </tr>\n    <tr>\n      <th id=\"T_bb53f_level0_row10\" class=\"row_heading level0 row10\" >10</th>\n      <td id=\"T_bb53f_row10_col0\" class=\"data row10 col0\" >Jay</td>\n      <td id=\"T_bb53f_row10_col1\" class=\"data row10 col1\" >Fox</td>\n      <td id=\"T_bb53f_row10_col2\" class=\"data row10 col2\" >1978-05-10</td>\n      <td id=\"T_bb53f_row10_col3\" class=\"data row10 col3\" >jay.fox@fake_domain-2.com</td>\n      <td id=\"T_bb53f_row10_col4\" class=\"data row10 col4\" >must</td>\n      <td id=\"T_bb53f_row10_col5\" class=\"data row10 col5\" >14</td>\n      <td id=\"T_bb53f_row10_col6\" class=\"data row10 col6\" >1989</td>\n      <td id=\"T_bb53f_row10_col7\" class=\"data row10 col7\" >75000</td>\n      <td id=\"T_bb53f_row10_col8\" class=\"data row10 col8\" >Davismouth</td>\n      <td id=\"T_bb53f_row10_col9\" class=\"data row10 col9\" >Norway</td>\n      <td id=\"T_bb53f_row10_col10\" class=\"data row10 col10\" >Data Mining</td>\n    </tr>\n    <tr>\n      <th id=\"T_bb53f_level0_row11\" class=\"row_heading level0 row11\" >11</th>\n      <td id=\"T_bb53f_row11_col0\" class=\"data row11 col0\" >Amanda</td>\n      <td id=\"T_bb53f_row11_col1\" class=\"data row11 col1\" >Garcia</td>\n      <td id=\"T_bb53f_row11_col2\" class=\"data row11 col2\" >1981-07-04</td>\n      <td id=\"T_bb53f_row11_col3\" class=\"data row11 col3\" >amanda.garcia@fake_domain-2.com</td>\n      <td id=\"T_bb53f_row11_col4\" class=\"data row11 col4\" >stuff</td>\n      <td id=\"T_bb53f_row11_col5\" class=\"data row11 col5\" >11</td>\n      <td id=\"T_bb53f_row11_col6\" class=\"data row11 col6\" >2021</td>\n      <td id=\"T_bb53f_row11_col7\" class=\"data row11 col7\" >90000</td>\n      <td id=\"T_bb53f_row11_col8\" class=\"data row11 col8\" >Jonesmouth</td>\n      <td id=\"T_bb53f_row11_col9\" class=\"data row11 col9\" >Niue</td>\n      <td id=\"T_bb53f_row11_col10\" class=\"data row11 col10\" >Linux</td>\n    </tr>\n    <tr>\n      <th id=\"T_bb53f_level0_row12\" class=\"row_heading level0 row12\" >12</th>\n      <td id=\"T_bb53f_row12_col0\" class=\"data row12 col0\" >Jose</td>\n      <td id=\"T_bb53f_row12_col1\" class=\"data row12 col1\" >Edwards</td>\n      <td id=\"T_bb53f_row12_col2\" class=\"data row12 col2\" >1978-11-01</td>\n      <td id=\"T_bb53f_row12_col3\" class=\"data row12 col3\" >jose.edwards@fake_domain-2.com</td>\n      <td id=\"T_bb53f_row12_col4\" class=\"data row12 col4\" >election</td>\n      <td id=\"T_bb53f_row12_col5\" class=\"data row12 col5\" >6</td>\n      <td id=\"T_bb53f_row12_col6\" class=\"data row12 col6\" >1989</td>\n      <td id=\"T_bb53f_row12_col7\" class=\"data row12 col7\" >75000</td>\n      <td id=\"T_bb53f_row12_col8\" class=\"data row12 col8\" >Franklinberg</td>\n      <td id=\"T_bb53f_row12_col9\" class=\"data row12 col9\" >Suriname</td>\n      <td id=\"T_bb53f_row12_col10\" class=\"data row12 col10\" >SQL</td>\n    </tr>\n    <tr>\n      <th id=\"T_bb53f_level0_row13\" class=\"row_heading level0 row13\" >13</th>\n      <td id=\"T_bb53f_row13_col0\" class=\"data row13 col0\" >Marcus</td>\n      <td id=\"T_bb53f_row13_col1\" class=\"data row13 col1\" >Mayer</td>\n      <td id=\"T_bb53f_row13_col2\" class=\"data row13 col2\" >1989-07-11</td>\n      <td id=\"T_bb53f_row13_col3\" class=\"data row13 col3\" >marcus.mayer@fake_domain-2.com</td>\n      <td id=\"T_bb53f_row13_col4\" class=\"data row13 col4\" >name</td>\n      <td id=\"T_bb53f_row13_col5\" class=\"data row13 col5\" >2</td>\n      <td id=\"T_bb53f_row13_col6\" class=\"data row13 col6\" >1982</td>\n      <td id=\"T_bb53f_row13_col7\" class=\"data row13 col7\" >120000</td>\n      <td id=\"T_bb53f_row13_col8\" class=\"data row13 col8\" >Patriciaton</td>\n      <td id=\"T_bb53f_row13_col9\" class=\"data row13 col9\" >Cape Verde</td>\n      <td id=\"T_bb53f_row13_col10\" class=\"data row13 col10\" >Python</td>\n    </tr>\n    <tr>\n      <th id=\"T_bb53f_level0_row14\" class=\"row_heading level0 row14\" >14</th>\n      <td id=\"T_bb53f_row14_col0\" class=\"data row14 col0\" >Gabrielle</td>\n      <td id=\"T_bb53f_row14_col1\" class=\"data row14 col1\" >Sanchez</td>\n      <td id=\"T_bb53f_row14_col2\" class=\"data row14 col2\" >1993-05-13</td>\n      <td id=\"T_bb53f_row14_col3\" class=\"data row14 col3\" >gabrielle.sanchez@fake_domain-2.com</td>\n      <td id=\"T_bb53f_row14_col4\" class=\"data row14 col4\" >Mrs</td>\n      <td id=\"T_bb53f_row14_col5\" class=\"data row14 col5\" >14</td>\n      <td id=\"T_bb53f_row14_col6\" class=\"data row14 col6\" >2008</td>\n      <td id=\"T_bb53f_row14_col7\" class=\"data row14 col7\" >80000</td>\n      <td id=\"T_bb53f_row14_col8\" class=\"data row14 col8\" >Alvaradoport</td>\n      <td id=\"T_bb53f_row14_col9\" class=\"data row14 col9\" >Korea</td>\n      <td id=\"T_bb53f_row14_col10\" class=\"data row14 col10\" >SQL</td>\n    </tr>\n    <tr>\n      <th id=\"T_bb53f_level0_row15\" class=\"row_heading level0 row15\" >15</th>\n      <td id=\"T_bb53f_row15_col0\" class=\"data row15 col0\" >Jennifer</td>\n      <td id=\"T_bb53f_row15_col1\" class=\"data row15 col1\" >Reyes</td>\n      <td id=\"T_bb53f_row15_col2\" class=\"data row15 col2\" >1984-01-14</td>\n      <td id=\"T_bb53f_row15_col3\" class=\"data row15 col3\" >jennifer.reyes@fake_domain-2.com</td>\n      <td id=\"T_bb53f_row15_col4\" class=\"data row15 col4\" >we</td>\n      <td id=\"T_bb53f_row15_col5\" class=\"data row15 col5\" >9</td>\n      <td id=\"T_bb53f_row15_col6\" class=\"data row15 col6\" >1970</td>\n      <td id=\"T_bb53f_row15_col7\" class=\"data row15 col7\" >140000</td>\n      <td id=\"T_bb53f_row15_col8\" class=\"data row15 col8\" >South Stephanie</td>\n      <td id=\"T_bb53f_row15_col9\" class=\"data row15 col9\" >Sudan</td>\n      <td id=\"T_bb53f_row15_col10\" class=\"data row15 col10\" >Linux</td>\n    </tr>\n    <tr>\n      <th id=\"T_bb53f_level0_row16\" class=\"row_heading level0 row16\" >16</th>\n      <td id=\"T_bb53f_row16_col0\" class=\"data row16 col0\" >Jessica</td>\n      <td id=\"T_bb53f_row16_col1\" class=\"data row16 col1\" >Solis</td>\n      <td id=\"T_bb53f_row16_col2\" class=\"data row16 col2\" >1975-09-28</td>\n      <td id=\"T_bb53f_row16_col3\" class=\"data row16 col3\" >jessica.solis@fake_domain-2.com</td>\n      <td id=\"T_bb53f_row16_col4\" class=\"data row16 col4\" >customer</td>\n      <td id=\"T_bb53f_row16_col5\" class=\"data row16 col5\" >6</td>\n      <td id=\"T_bb53f_row16_col6\" class=\"data row16 col6\" >2021</td>\n      <td id=\"T_bb53f_row16_col7\" class=\"data row16 col7\" >105000</td>\n      <td id=\"T_bb53f_row16_col8\" class=\"data row16 col8\" >Christopherview</td>\n      <td id=\"T_bb53f_row16_col9\" class=\"data row16 col9\" >Congo</td>\n      <td id=\"T_bb53f_row16_col10\" class=\"data row16 col10\" >Pandas</td>\n    </tr>\n    <tr>\n      <th id=\"T_bb53f_level0_row17\" class=\"row_heading level0 row17\" >17</th>\n      <td id=\"T_bb53f_row17_col0\" class=\"data row17 col0\" >Regina</td>\n      <td id=\"T_bb53f_row17_col1\" class=\"data row17 col1\" >Anderson</td>\n      <td id=\"T_bb53f_row17_col2\" class=\"data row17 col2\" >1982-01-16</td>\n      <td id=\"T_bb53f_row17_col3\" class=\"data row17 col3\" >regina.anderson@fake_domain-2.com</td>\n      <td id=\"T_bb53f_row17_col4\" class=\"data row17 col4\" >position</td>\n      <td id=\"T_bb53f_row17_col5\" class=\"data row17 col5\" >9</td>\n      <td id=\"T_bb53f_row17_col6\" class=\"data row17 col6\" >2007</td>\n      <td id=\"T_bb53f_row17_col7\" class=\"data row17 col7\" >105000</td>\n      <td id=\"T_bb53f_row17_col8\" class=\"data row17 col8\" >Kennedychester</td>\n      <td id=\"T_bb53f_row17_col9\" class=\"data row17 col9\" >Turks and Caicos Islands</td>\n      <td id=\"T_bb53f_row17_col10\" class=\"data row17 col10\" >Python</td>\n    </tr>\n    <tr>\n      <th id=\"T_bb53f_level0_row18\" class=\"row_heading level0 row18\" >18</th>\n      <td id=\"T_bb53f_row18_col0\" class=\"data row18 col0\" >Jose</td>\n      <td id=\"T_bb53f_row18_col1\" class=\"data row18 col1\" >Smith</td>\n      <td id=\"T_bb53f_row18_col2\" class=\"data row18 col2\" >1981-01-02</td>\n      <td id=\"T_bb53f_row18_col3\" class=\"data row18 col3\" >jose.smith@fake_domain-2.com</td>\n      <td id=\"T_bb53f_row18_col4\" class=\"data row18 col4\" >method</td>\n      <td id=\"T_bb53f_row18_col5\" class=\"data row18 col5\" >7</td>\n      <td id=\"T_bb53f_row18_col6\" class=\"data row18 col6\" >1995</td>\n      <td id=\"T_bb53f_row18_col7\" class=\"data row18 col7\" >95000</td>\n      <td id=\"T_bb53f_row18_col8\" class=\"data row18 col8\" >South Stacey</td>\n      <td id=\"T_bb53f_row18_col9\" class=\"data row18 col9\" >Bolivia</td>\n      <td id=\"T_bb53f_row18_col10\" class=\"data row18 col10\" >Python</td>\n    </tr>\n    <tr>\n      <th id=\"T_bb53f_level0_row19\" class=\"row_heading level0 row19\" >19</th>\n      <td id=\"T_bb53f_row19_col0\" class=\"data row19 col0\" >Daniel</td>\n      <td id=\"T_bb53f_row19_col1\" class=\"data row19 col1\" >James</td>\n      <td id=\"T_bb53f_row19_col2\" class=\"data row19 col2\" >1986-04-11</td>\n      <td id=\"T_bb53f_row19_col3\" class=\"data row19 col3\" >daniel.james@fake_domain-2.com</td>\n      <td id=\"T_bb53f_row19_col4\" class=\"data row19 col4\" >become</td>\n      <td id=\"T_bb53f_row19_col5\" class=\"data row19 col5\" >13</td>\n      <td id=\"T_bb53f_row19_col6\" class=\"data row19 col6\" >2003</td>\n      <td id=\"T_bb53f_row19_col7\" class=\"data row19 col7\" >135000</td>\n      <td id=\"T_bb53f_row19_col8\" class=\"data row19 col8\" >East Jimmyside</td>\n      <td id=\"T_bb53f_row19_col9\" class=\"data row19 col9\" >Belarus</td>\n      <td id=\"T_bb53f_row19_col10\" class=\"data row19 col10\" >Data Mining</td>\n    </tr>\n    <tr>\n      <th id=\"T_bb53f_level0_row20\" class=\"row_heading level0 row20\" >20</th>\n      <td id=\"T_bb53f_row20_col0\" class=\"data row20 col0\" >Victor</td>\n      <td id=\"T_bb53f_row20_col1\" class=\"data row20 col1\" >Casey</td>\n      <td id=\"T_bb53f_row20_col2\" class=\"data row20 col2\" >1984-06-22</td>\n      <td id=\"T_bb53f_row20_col3\" class=\"data row20 col3\" >victor.casey@fake_domain-2.com</td>\n      <td id=\"T_bb53f_row20_col4\" class=\"data row20 col4\" >occur</td>\n      <td id=\"T_bb53f_row20_col5\" class=\"data row20 col5\" >9</td>\n      <td id=\"T_bb53f_row20_col6\" class=\"data row20 col6\" >2001</td>\n      <td id=\"T_bb53f_row20_col7\" class=\"data row20 col7\" >140000</td>\n      <td id=\"T_bb53f_row20_col8\" class=\"data row20 col8\" >North Vanessa</td>\n      <td id=\"T_bb53f_row20_col9\" class=\"data row20 col9\" >Cambodia</td>\n      <td id=\"T_bb53f_row20_col10\" class=\"data row20 col10\" >Pandas</td>\n    </tr>\n    <tr>\n      <th id=\"T_bb53f_level0_row21\" class=\"row_heading level0 row21\" >21</th>\n      <td id=\"T_bb53f_row21_col0\" class=\"data row21 col0\" >Darryl</td>\n      <td id=\"T_bb53f_row21_col1\" class=\"data row21 col1\" >Washington</td>\n      <td id=\"T_bb53f_row21_col2\" class=\"data row21 col2\" >1980-07-18</td>\n      <td id=\"T_bb53f_row21_col3\" class=\"data row21 col3\" >darryl.washington@fake_domain-2.com</td>\n      <td id=\"T_bb53f_row21_col4\" class=\"data row21 col4\" >bring</td>\n      <td id=\"T_bb53f_row21_col5\" class=\"data row21 col5\" >3</td>\n      <td id=\"T_bb53f_row21_col6\" class=\"data row21 col6\" >1985</td>\n      <td id=\"T_bb53f_row21_col7\" class=\"data row21 col7\" >135000</td>\n      <td id=\"T_bb53f_row21_col8\" class=\"data row21 col8\" >South Katherine</td>\n      <td id=\"T_bb53f_row21_col9\" class=\"data row21 col9\" >Haiti</td>\n      <td id=\"T_bb53f_row21_col10\" class=\"data row21 col10\" >Data Mining</td>\n    </tr>\n    <tr>\n      <th id=\"T_bb53f_level0_row22\" class=\"row_heading level0 row22\" >22</th>\n      <td id=\"T_bb53f_row22_col0\" class=\"data row22 col0\" >Julie</td>\n      <td id=\"T_bb53f_row22_col1\" class=\"data row22 col1\" >Johnson</td>\n      <td id=\"T_bb53f_row22_col2\" class=\"data row22 col2\" >1984-04-10</td>\n      <td id=\"T_bb53f_row22_col3\" class=\"data row22 col3\" >julie.johnson@fake_domain-2.com</td>\n      <td id=\"T_bb53f_row22_col4\" class=\"data row22 col4\" >require</td>\n      <td id=\"T_bb53f_row22_col5\" class=\"data row22 col5\" >14</td>\n      <td id=\"T_bb53f_row22_col6\" class=\"data row22 col6\" >1999</td>\n      <td id=\"T_bb53f_row22_col7\" class=\"data row22 col7\" >110000</td>\n      <td id=\"T_bb53f_row22_col8\" class=\"data row22 col8\" >Swansonburgh</td>\n      <td id=\"T_bb53f_row22_col9\" class=\"data row22 col9\" >Monaco</td>\n      <td id=\"T_bb53f_row22_col10\" class=\"data row22 col10\" >Python</td>\n    </tr>\n    <tr>\n      <th id=\"T_bb53f_level0_row23\" class=\"row_heading level0 row23\" >23</th>\n      <td id=\"T_bb53f_row23_col0\" class=\"data row23 col0\" >Julia</td>\n      <td id=\"T_bb53f_row23_col1\" class=\"data row23 col1\" >King</td>\n      <td id=\"T_bb53f_row23_col2\" class=\"data row23 col2\" >1979-01-17</td>\n      <td id=\"T_bb53f_row23_col3\" class=\"data row23 col3\" >julia.king@fake_domain-2.com</td>\n      <td id=\"T_bb53f_row23_col4\" class=\"data row23 col4\" >week</td>\n      <td id=\"T_bb53f_row23_col5\" class=\"data row23 col5\" >13</td>\n      <td id=\"T_bb53f_row23_col6\" class=\"data row23 col6\" >1995</td>\n      <td id=\"T_bb53f_row23_col7\" class=\"data row23 col7\" >90000</td>\n      <td id=\"T_bb53f_row23_col8\" class=\"data row23 col8\" >Port Suzanne</td>\n      <td id=\"T_bb53f_row23_col9\" class=\"data row23 col9\" >France</td>\n      <td id=\"T_bb53f_row23_col10\" class=\"data row23 col10\" >Python</td>\n    </tr>\n    <tr>\n      <th id=\"T_bb53f_level0_row24\" class=\"row_heading level0 row24\" >24</th>\n      <td id=\"T_bb53f_row24_col0\" class=\"data row24 col0\" >Nicole</td>\n      <td id=\"T_bb53f_row24_col1\" class=\"data row24 col1\" >Barnes</td>\n      <td id=\"T_bb53f_row24_col2\" class=\"data row24 col2\" >1970-10-20</td>\n      <td id=\"T_bb53f_row24_col3\" class=\"data row24 col3\" >nicole.barnes@fake_domain-2.com</td>\n      <td id=\"T_bb53f_row24_col4\" class=\"data row24 col4\" >modern</td>\n      <td id=\"T_bb53f_row24_col5\" class=\"data row24 col5\" >1</td>\n      <td id=\"T_bb53f_row24_col6\" class=\"data row24 col6\" >2019</td>\n      <td id=\"T_bb53f_row24_col7\" class=\"data row24 col7\" >85000</td>\n      <td id=\"T_bb53f_row24_col8\" class=\"data row24 col8\" >Hallchester</td>\n      <td id=\"T_bb53f_row24_col9\" class=\"data row24 col9\" >Antigua and Barbuda</td>\n      <td id=\"T_bb53f_row24_col10\" class=\"data row24 col10\" >SQL</td>\n    </tr>\n    <tr>\n      <th id=\"T_bb53f_level0_row25\" class=\"row_heading level0 row25\" >25</th>\n      <td id=\"T_bb53f_row25_col0\" class=\"data row25 col0\" >Sierra</td>\n      <td id=\"T_bb53f_row25_col1\" class=\"data row25 col1\" >Green</td>\n      <td id=\"T_bb53f_row25_col2\" class=\"data row25 col2\" >1980-05-29</td>\n      <td id=\"T_bb53f_row25_col3\" class=\"data row25 col3\" >sierra.green@fake_domain-2.com</td>\n      <td id=\"T_bb53f_row25_col4\" class=\"data row25 col4\" >him</td>\n      <td id=\"T_bb53f_row25_col5\" class=\"data row25 col5\" >9</td>\n      <td id=\"T_bb53f_row25_col6\" class=\"data row25 col6\" >1974</td>\n      <td id=\"T_bb53f_row25_col7\" class=\"data row25 col7\" >90000</td>\n      <td id=\"T_bb53f_row25_col8\" class=\"data row25 col8\" >Reynoldsmouth</td>\n      <td id=\"T_bb53f_row25_col9\" class=\"data row25 col9\" >Croatia</td>\n      <td id=\"T_bb53f_row25_col10\" class=\"data row25 col10\" >Linux</td>\n    </tr>\n    <tr>\n      <th id=\"T_bb53f_level0_row26\" class=\"row_heading level0 row26\" >26</th>\n      <td id=\"T_bb53f_row26_col0\" class=\"data row26 col0\" >David</td>\n      <td id=\"T_bb53f_row26_col1\" class=\"data row26 col1\" >Dickerson</td>\n      <td id=\"T_bb53f_row26_col2\" class=\"data row26 col2\" >1989-08-22</td>\n      <td id=\"T_bb53f_row26_col3\" class=\"data row26 col3\" >david.dickerson@fake_domain-2.com</td>\n      <td id=\"T_bb53f_row26_col4\" class=\"data row26 col4\" >he</td>\n      <td id=\"T_bb53f_row26_col5\" class=\"data row26 col5\" >5</td>\n      <td id=\"T_bb53f_row26_col6\" class=\"data row26 col6\" >1977</td>\n      <td id=\"T_bb53f_row26_col7\" class=\"data row26 col7\" >130000</td>\n      <td id=\"T_bb53f_row26_col8\" class=\"data row26 col8\" >Lake Gregorystad</td>\n      <td id=\"T_bb53f_row26_col9\" class=\"data row26 col9\" >Mauritius</td>\n      <td id=\"T_bb53f_row26_col10\" class=\"data row26 col10\" >Python</td>\n    </tr>\n    <tr>\n      <th id=\"T_bb53f_level0_row27\" class=\"row_heading level0 row27\" >27</th>\n      <td id=\"T_bb53f_row27_col0\" class=\"data row27 col0\" >Arthur</td>\n      <td id=\"T_bb53f_row27_col1\" class=\"data row27 col1\" >Russell</td>\n      <td id=\"T_bb53f_row27_col2\" class=\"data row27 col2\" >1982-05-11</td>\n      <td id=\"T_bb53f_row27_col3\" class=\"data row27 col3\" >arthur.russell@fake_domain-2.com</td>\n      <td id=\"T_bb53f_row27_col4\" class=\"data row27 col4\" >heavy</td>\n      <td id=\"T_bb53f_row27_col5\" class=\"data row27 col5\" >8</td>\n      <td id=\"T_bb53f_row27_col6\" class=\"data row27 col6\" >1973</td>\n      <td id=\"T_bb53f_row27_col7\" class=\"data row27 col7\" >120000</td>\n      <td id=\"T_bb53f_row27_col8\" class=\"data row27 col8\" >Lake Kevinberg</td>\n      <td id=\"T_bb53f_row27_col9\" class=\"data row27 col9\" >Ghana</td>\n      <td id=\"T_bb53f_row27_col10\" class=\"data row27 col10\" >Python</td>\n    </tr>\n    <tr>\n      <th id=\"T_bb53f_level0_row28\" class=\"row_heading level0 row28\" >28</th>\n      <td id=\"T_bb53f_row28_col0\" class=\"data row28 col0\" >Stephanie</td>\n      <td id=\"T_bb53f_row28_col1\" class=\"data row28 col1\" >Stone</td>\n      <td id=\"T_bb53f_row28_col2\" class=\"data row28 col2\" >1982-07-20</td>\n      <td id=\"T_bb53f_row28_col3\" class=\"data row28 col3\" >stephanie.stone@fake_domain-2.com</td>\n      <td id=\"T_bb53f_row28_col4\" class=\"data row28 col4\" >teacher</td>\n      <td id=\"T_bb53f_row28_col5\" class=\"data row28 col5\" >2</td>\n      <td id=\"T_bb53f_row28_col6\" class=\"data row28 col6\" >2003</td>\n      <td id=\"T_bb53f_row28_col7\" class=\"data row28 col7\" >145000</td>\n      <td id=\"T_bb53f_row28_col8\" class=\"data row28 col8\" >New Michael</td>\n      <td id=\"T_bb53f_row28_col9\" class=\"data row28 col9\" >Kyrgyz Republic</td>\n      <td id=\"T_bb53f_row28_col10\" class=\"data row28 col10\" >Linux</td>\n    </tr>\n    <tr>\n      <th id=\"T_bb53f_level0_row29\" class=\"row_heading level0 row29\" >29</th>\n      <td id=\"T_bb53f_row29_col0\" class=\"data row29 col0\" >Heidi</td>\n      <td id=\"T_bb53f_row29_col1\" class=\"data row29 col1\" >Martin</td>\n      <td id=\"T_bb53f_row29_col2\" class=\"data row29 col2\" >1972-03-05</td>\n      <td id=\"T_bb53f_row29_col3\" class=\"data row29 col3\" >heidi.martin@fake_domain-2.com</td>\n      <td id=\"T_bb53f_row29_col4\" class=\"data row29 col4\" >since</td>\n      <td id=\"T_bb53f_row29_col5\" class=\"data row29 col5\" >9</td>\n      <td id=\"T_bb53f_row29_col6\" class=\"data row29 col6\" >1976</td>\n      <td id=\"T_bb53f_row29_col7\" class=\"data row29 col7\" >90000</td>\n      <td id=\"T_bb53f_row29_col8\" class=\"data row29 col8\" >Robinhaven</td>\n      <td id=\"T_bb53f_row29_col9\" class=\"data row29 col9\" >Spain</td>\n      <td id=\"T_bb53f_row29_col10\" class=\"data row29 col10\" >Data Mining</td>\n    </tr>\n    <tr>\n      <th id=\"T_bb53f_level0_row30\" class=\"row_heading level0 row30\" >30</th>\n      <td id=\"T_bb53f_row30_col0\" class=\"data row30 col0\" >Lori</td>\n      <td id=\"T_bb53f_row30_col1\" class=\"data row30 col1\" >Ford</td>\n      <td id=\"T_bb53f_row30_col2\" class=\"data row30 col2\" >1986-09-16</td>\n      <td id=\"T_bb53f_row30_col3\" class=\"data row30 col3\" >lori.ford@fake_domain-2.com</td>\n      <td id=\"T_bb53f_row30_col4\" class=\"data row30 col4\" >talk</td>\n      <td id=\"T_bb53f_row30_col5\" class=\"data row30 col5\" >14</td>\n      <td id=\"T_bb53f_row30_col6\" class=\"data row30 col6\" >1989</td>\n      <td id=\"T_bb53f_row30_col7\" class=\"data row30 col7\" >100000</td>\n      <td id=\"T_bb53f_row30_col8\" class=\"data row30 col8\" >Randalltown</td>\n      <td id=\"T_bb53f_row30_col9\" class=\"data row30 col9\" >Venezuela</td>\n      <td id=\"T_bb53f_row30_col10\" class=\"data row30 col10\" >Data Mining</td>\n    </tr>\n    <tr>\n      <th id=\"T_bb53f_level0_row31\" class=\"row_heading level0 row31\" >31</th>\n      <td id=\"T_bb53f_row31_col0\" class=\"data row31 col0\" >Tyler</td>\n      <td id=\"T_bb53f_row31_col1\" class=\"data row31 col1\" >Byrd</td>\n      <td id=\"T_bb53f_row31_col2\" class=\"data row31 col2\" >1971-08-12</td>\n      <td id=\"T_bb53f_row31_col3\" class=\"data row31 col3\" >tyler.byrd@fake_domain-2.com</td>\n      <td id=\"T_bb53f_row31_col4\" class=\"data row31 col4\" >consider</td>\n      <td id=\"T_bb53f_row31_col5\" class=\"data row31 col5\" >15</td>\n      <td id=\"T_bb53f_row31_col6\" class=\"data row31 col6\" >2010</td>\n      <td id=\"T_bb53f_row31_col7\" class=\"data row31 col7\" >130000</td>\n      <td id=\"T_bb53f_row31_col8\" class=\"data row31 col8\" >New George</td>\n      <td id=\"T_bb53f_row31_col9\" class=\"data row31 col9\" >Congo</td>\n      <td id=\"T_bb53f_row31_col10\" class=\"data row31 col10\" >Python</td>\n    </tr>\n    <tr>\n      <th id=\"T_bb53f_level0_row32\" class=\"row_heading level0 row32\" >32</th>\n      <td id=\"T_bb53f_row32_col0\" class=\"data row32 col0\" >Heather</td>\n      <td id=\"T_bb53f_row32_col1\" class=\"data row32 col1\" >Jones</td>\n      <td id=\"T_bb53f_row32_col2\" class=\"data row32 col2\" >1982-01-20</td>\n      <td id=\"T_bb53f_row32_col3\" class=\"data row32 col3\" >heather.jones@fake_domain-2.com</td>\n      <td id=\"T_bb53f_row32_col4\" class=\"data row32 col4\" >sound</td>\n      <td id=\"T_bb53f_row32_col5\" class=\"data row32 col5\" >6</td>\n      <td id=\"T_bb53f_row32_col6\" class=\"data row32 col6\" >1973</td>\n      <td id=\"T_bb53f_row32_col7\" class=\"data row32 col7\" >100000</td>\n      <td id=\"T_bb53f_row32_col8\" class=\"data row32 col8\" >Hawkinsshire</td>\n      <td id=\"T_bb53f_row32_col9\" class=\"data row32 col9\" >Wallis and Futuna</td>\n      <td id=\"T_bb53f_row32_col10\" class=\"data row32 col10\" >Pandas</td>\n    </tr>\n    <tr>\n      <th id=\"T_bb53f_level0_row33\" class=\"row_heading level0 row33\" >33</th>\n      <td id=\"T_bb53f_row33_col0\" class=\"data row33 col0\" >Jesus</td>\n      <td id=\"T_bb53f_row33_col1\" class=\"data row33 col1\" >Ware</td>\n      <td id=\"T_bb53f_row33_col2\" class=\"data row33 col2\" >1980-11-28</td>\n      <td id=\"T_bb53f_row33_col3\" class=\"data row33 col3\" >jesus.ware@fake_domain-2.com</td>\n      <td id=\"T_bb53f_row33_col4\" class=\"data row33 col4\" >future</td>\n      <td id=\"T_bb53f_row33_col5\" class=\"data row33 col5\" >15</td>\n      <td id=\"T_bb53f_row33_col6\" class=\"data row33 col6\" >1980</td>\n      <td id=\"T_bb53f_row33_col7\" class=\"data row33 col7\" >135000</td>\n      <td id=\"T_bb53f_row33_col8\" class=\"data row33 col8\" >Sanchezburgh</td>\n      <td id=\"T_bb53f_row33_col9\" class=\"data row33 col9\" >Mexico</td>\n      <td id=\"T_bb53f_row33_col10\" class=\"data row33 col10\" >SQL</td>\n    </tr>\n    <tr>\n      <th id=\"T_bb53f_level0_row34\" class=\"row_heading level0 row34\" >34</th>\n      <td id=\"T_bb53f_row34_col0\" class=\"data row34 col0\" >Patrick</td>\n      <td id=\"T_bb53f_row34_col1\" class=\"data row34 col1\" >Krueger</td>\n      <td id=\"T_bb53f_row34_col2\" class=\"data row34 col2\" >1972-05-08</td>\n      <td id=\"T_bb53f_row34_col3\" class=\"data row34 col3\" >patrick.krueger@fake_domain-2.com</td>\n      <td id=\"T_bb53f_row34_col4\" class=\"data row34 col4\" >believe</td>\n      <td id=\"T_bb53f_row34_col5\" class=\"data row34 col5\" >0</td>\n      <td id=\"T_bb53f_row34_col6\" class=\"data row34 col6\" >1979</td>\n      <td id=\"T_bb53f_row34_col7\" class=\"data row34 col7\" >100000</td>\n      <td id=\"T_bb53f_row34_col8\" class=\"data row34 col8\" >Christineshire</td>\n      <td id=\"T_bb53f_row34_col9\" class=\"data row34 col9\" >Liberia</td>\n      <td id=\"T_bb53f_row34_col10\" class=\"data row34 col10\" >SQL</td>\n    </tr>\n    <tr>\n      <th id=\"T_bb53f_level0_row35\" class=\"row_heading level0 row35\" >35</th>\n      <td id=\"T_bb53f_row35_col0\" class=\"data row35 col0\" >Becky</td>\n      <td id=\"T_bb53f_row35_col1\" class=\"data row35 col1\" >Hamilton</td>\n      <td id=\"T_bb53f_row35_col2\" class=\"data row35 col2\" >1983-04-22</td>\n      <td id=\"T_bb53f_row35_col3\" class=\"data row35 col3\" >becky.hamilton@fake_domain-2.com</td>\n      <td id=\"T_bb53f_row35_col4\" class=\"data row35 col4\" >offer</td>\n      <td id=\"T_bb53f_row35_col5\" class=\"data row35 col5\" >7</td>\n      <td id=\"T_bb53f_row35_col6\" class=\"data row35 col6\" >1999</td>\n      <td id=\"T_bb53f_row35_col7\" class=\"data row35 col7\" >75000</td>\n      <td id=\"T_bb53f_row35_col8\" class=\"data row35 col8\" >West Robertside</td>\n      <td id=\"T_bb53f_row35_col9\" class=\"data row35 col9\" >Guam</td>\n      <td id=\"T_bb53f_row35_col10\" class=\"data row35 col10\" >Data Mining</td>\n    </tr>\n    <tr>\n      <th id=\"T_bb53f_level0_row36\" class=\"row_heading level0 row36\" >36</th>\n      <td id=\"T_bb53f_row36_col0\" class=\"data row36 col0\" >Tammy</td>\n      <td id=\"T_bb53f_row36_col1\" class=\"data row36 col1\" >Dyer</td>\n      <td id=\"T_bb53f_row36_col2\" class=\"data row36 col2\" >1988-05-18</td>\n      <td id=\"T_bb53f_row36_col3\" class=\"data row36 col3\" >tammy.dyer@fake_domain-2.com</td>\n      <td id=\"T_bb53f_row36_col4\" class=\"data row36 col4\" >want</td>\n      <td id=\"T_bb53f_row36_col5\" class=\"data row36 col5\" >15</td>\n      <td id=\"T_bb53f_row36_col6\" class=\"data row36 col6\" >2004</td>\n      <td id=\"T_bb53f_row36_col7\" class=\"data row36 col7\" >125000</td>\n      <td id=\"T_bb53f_row36_col8\" class=\"data row36 col8\" >North Jennifer</td>\n      <td id=\"T_bb53f_row36_col9\" class=\"data row36 col9\" >Azerbaijan</td>\n      <td id=\"T_bb53f_row36_col10\" class=\"data row36 col10\" >Linux</td>\n    </tr>\n    <tr>\n      <th id=\"T_bb53f_level0_row37\" class=\"row_heading level0 row37\" >37</th>\n      <td id=\"T_bb53f_row37_col0\" class=\"data row37 col0\" >Charlotte</td>\n      <td id=\"T_bb53f_row37_col1\" class=\"data row37 col1\" >Whitney</td>\n      <td id=\"T_bb53f_row37_col2\" class=\"data row37 col2\" >1977-08-16</td>\n      <td id=\"T_bb53f_row37_col3\" class=\"data row37 col3\" >charlotte.whitney@fake_domain-2.com</td>\n      <td id=\"T_bb53f_row37_col4\" class=\"data row37 col4\" >condition</td>\n      <td id=\"T_bb53f_row37_col5\" class=\"data row37 col5\" >9</td>\n      <td id=\"T_bb53f_row37_col6\" class=\"data row37 col6\" >1980</td>\n      <td id=\"T_bb53f_row37_col7\" class=\"data row37 col7\" >100000</td>\n      <td id=\"T_bb53f_row37_col8\" class=\"data row37 col8\" >Ashleyside</td>\n      <td id=\"T_bb53f_row37_col9\" class=\"data row37 col9\" >Cayman Islands</td>\n      <td id=\"T_bb53f_row37_col10\" class=\"data row37 col10\" >Pandas</td>\n    </tr>\n    <tr>\n      <th id=\"T_bb53f_level0_row38\" class=\"row_heading level0 row38\" >38</th>\n      <td id=\"T_bb53f_row38_col0\" class=\"data row38 col0\" >Sean</td>\n      <td id=\"T_bb53f_row38_col1\" class=\"data row38 col1\" >Prince</td>\n      <td id=\"T_bb53f_row38_col2\" class=\"data row38 col2\" >1982-07-27</td>\n      <td id=\"T_bb53f_row38_col3\" class=\"data row38 col3\" >sean.prince@fake_domain-2.com</td>\n      <td id=\"T_bb53f_row38_col4\" class=\"data row38 col4\" >first</td>\n      <td id=\"T_bb53f_row38_col5\" class=\"data row38 col5\" >14</td>\n      <td id=\"T_bb53f_row38_col6\" class=\"data row38 col6\" >1983</td>\n      <td id=\"T_bb53f_row38_col7\" class=\"data row38 col7\" >145000</td>\n      <td id=\"T_bb53f_row38_col8\" class=\"data row38 col8\" >Kington</td>\n      <td id=\"T_bb53f_row38_col9\" class=\"data row38 col9\" >Falkland Islands (Malvinas)</td>\n      <td id=\"T_bb53f_row38_col10\" class=\"data row38 col10\" >Pandas</td>\n    </tr>\n    <tr>\n      <th id=\"T_bb53f_level0_row39\" class=\"row_heading level0 row39\" >39</th>\n      <td id=\"T_bb53f_row39_col0\" class=\"data row39 col0\" >Glenn</td>\n      <td id=\"T_bb53f_row39_col1\" class=\"data row39 col1\" >Cameron</td>\n      <td id=\"T_bb53f_row39_col2\" class=\"data row39 col2\" >1977-11-04</td>\n      <td id=\"T_bb53f_row39_col3\" class=\"data row39 col3\" >glenn.cameron@fake_domain-2.com</td>\n      <td id=\"T_bb53f_row39_col4\" class=\"data row39 col4\" >president</td>\n      <td id=\"T_bb53f_row39_col5\" class=\"data row39 col5\" >1</td>\n      <td id=\"T_bb53f_row39_col6\" class=\"data row39 col6\" >2001</td>\n      <td id=\"T_bb53f_row39_col7\" class=\"data row39 col7\" >100000</td>\n      <td id=\"T_bb53f_row39_col8\" class=\"data row39 col8\" >Erinview</td>\n      <td id=\"T_bb53f_row39_col9\" class=\"data row39 col9\" >Romania</td>\n      <td id=\"T_bb53f_row39_col10\" class=\"data row39 col10\" >Data Mining</td>\n    </tr>\n    <tr>\n      <th id=\"T_bb53f_level0_row40\" class=\"row_heading level0 row40\" >40</th>\n      <td id=\"T_bb53f_row40_col0\" class=\"data row40 col0\" >Jacob</td>\n      <td id=\"T_bb53f_row40_col1\" class=\"data row40 col1\" >Campbell</td>\n      <td id=\"T_bb53f_row40_col2\" class=\"data row40 col2\" >1974-06-23</td>\n      <td id=\"T_bb53f_row40_col3\" class=\"data row40 col3\" >jacob.campbell@fake_domain-2.com</td>\n      <td id=\"T_bb53f_row40_col4\" class=\"data row40 col4\" >eye</td>\n      <td id=\"T_bb53f_row40_col5\" class=\"data row40 col5\" >15</td>\n      <td id=\"T_bb53f_row40_col6\" class=\"data row40 col6\" >2010</td>\n      <td id=\"T_bb53f_row40_col7\" class=\"data row40 col7\" >95000</td>\n      <td id=\"T_bb53f_row40_col8\" class=\"data row40 col8\" >Butlerfort</td>\n      <td id=\"T_bb53f_row40_col9\" class=\"data row40 col9\" >Samoa</td>\n      <td id=\"T_bb53f_row40_col10\" class=\"data row40 col10\" >Pandas</td>\n    </tr>\n    <tr>\n      <th id=\"T_bb53f_level0_row41\" class=\"row_heading level0 row41\" >41</th>\n      <td id=\"T_bb53f_row41_col0\" class=\"data row41 col0\" >Jason</td>\n      <td id=\"T_bb53f_row41_col1\" class=\"data row41 col1\" >Smith</td>\n      <td id=\"T_bb53f_row41_col2\" class=\"data row41 col2\" >1973-02-03</td>\n      <td id=\"T_bb53f_row41_col3\" class=\"data row41 col3\" >jason.smith@fake_domain-2.com</td>\n      <td id=\"T_bb53f_row41_col4\" class=\"data row41 col4\" >focus</td>\n      <td id=\"T_bb53f_row41_col5\" class=\"data row41 col5\" >13</td>\n      <td id=\"T_bb53f_row41_col6\" class=\"data row41 col6\" >2009</td>\n      <td id=\"T_bb53f_row41_col7\" class=\"data row41 col7\" >75000</td>\n      <td id=\"T_bb53f_row41_col8\" class=\"data row41 col8\" >Darleneshire</td>\n      <td id=\"T_bb53f_row41_col9\" class=\"data row41 col9\" >Switzerland</td>\n      <td id=\"T_bb53f_row41_col10\" class=\"data row41 col10\" >Pandas</td>\n    </tr>\n    <tr>\n      <th id=\"T_bb53f_level0_row42\" class=\"row_heading level0 row42\" >42</th>\n      <td id=\"T_bb53f_row42_col0\" class=\"data row42 col0\" >Andrew</td>\n      <td id=\"T_bb53f_row42_col1\" class=\"data row42 col1\" >Bishop</td>\n      <td id=\"T_bb53f_row42_col2\" class=\"data row42 col2\" >1973-03-09</td>\n      <td id=\"T_bb53f_row42_col3\" class=\"data row42 col3\" >andrew.bishop@fake_domain-2.com</td>\n      <td id=\"T_bb53f_row42_col4\" class=\"data row42 col4\" >hundred</td>\n      <td id=\"T_bb53f_row42_col5\" class=\"data row42 col5\" >7</td>\n      <td id=\"T_bb53f_row42_col6\" class=\"data row42 col6\" >2015</td>\n      <td id=\"T_bb53f_row42_col7\" class=\"data row42 col7\" >80000</td>\n      <td id=\"T_bb53f_row42_col8\" class=\"data row42 col8\" >Campbellmouth</td>\n      <td id=\"T_bb53f_row42_col9\" class=\"data row42 col9\" >Aruba</td>\n      <td id=\"T_bb53f_row42_col10\" class=\"data row42 col10\" >Data Mining</td>\n    </tr>\n    <tr>\n      <th id=\"T_bb53f_level0_row43\" class=\"row_heading level0 row43\" >43</th>\n      <td id=\"T_bb53f_row43_col0\" class=\"data row43 col0\" >Kathryn</td>\n      <td id=\"T_bb53f_row43_col1\" class=\"data row43 col1\" >Hancock</td>\n      <td id=\"T_bb53f_row43_col2\" class=\"data row43 col2\" >1985-04-16</td>\n      <td id=\"T_bb53f_row43_col3\" class=\"data row43 col3\" >kathryn.hancock@fake_domain-2.com</td>\n      <td id=\"T_bb53f_row43_col4\" class=\"data row43 col4\" >thus</td>\n      <td id=\"T_bb53f_row43_col5\" class=\"data row43 col5\" >8</td>\n      <td id=\"T_bb53f_row43_col6\" class=\"data row43 col6\" >1995</td>\n      <td id=\"T_bb53f_row43_col7\" class=\"data row43 col7\" >125000</td>\n      <td id=\"T_bb53f_row43_col8\" class=\"data row43 col8\" >Carterton</td>\n      <td id=\"T_bb53f_row43_col9\" class=\"data row43 col9\" >Iceland</td>\n      <td id=\"T_bb53f_row43_col10\" class=\"data row43 col10\" >Pandas</td>\n    </tr>\n    <tr>\n      <th id=\"T_bb53f_level0_row44\" class=\"row_heading level0 row44\" >44</th>\n      <td id=\"T_bb53f_row44_col0\" class=\"data row44 col0\" >Jessica</td>\n      <td id=\"T_bb53f_row44_col1\" class=\"data row44 col1\" >Harvey</td>\n      <td id=\"T_bb53f_row44_col2\" class=\"data row44 col2\" >1970-06-21</td>\n      <td id=\"T_bb53f_row44_col3\" class=\"data row44 col3\" >jessica.harvey@fake_domain-2.com</td>\n      <td id=\"T_bb53f_row44_col4\" class=\"data row44 col4\" >human</td>\n      <td id=\"T_bb53f_row44_col5\" class=\"data row44 col5\" >9</td>\n      <td id=\"T_bb53f_row44_col6\" class=\"data row44 col6\" >2002</td>\n      <td id=\"T_bb53f_row44_col7\" class=\"data row44 col7\" >135000</td>\n      <td id=\"T_bb53f_row44_col8\" class=\"data row44 col8\" >East Kimberlyshire</td>\n      <td id=\"T_bb53f_row44_col9\" class=\"data row44 col9\" >Mali</td>\n      <td id=\"T_bb53f_row44_col10\" class=\"data row44 col10\" >SQL</td>\n    </tr>\n    <tr>\n      <th id=\"T_bb53f_level0_row45\" class=\"row_heading level0 row45\" >45</th>\n      <td id=\"T_bb53f_row45_col0\" class=\"data row45 col0\" >James</td>\n      <td id=\"T_bb53f_row45_col1\" class=\"data row45 col1\" >Hughes</td>\n      <td id=\"T_bb53f_row45_col2\" class=\"data row45 col2\" >1970-05-20</td>\n      <td id=\"T_bb53f_row45_col3\" class=\"data row45 col3\" >james.hughes@fake_domain-2.com</td>\n      <td id=\"T_bb53f_row45_col4\" class=\"data row45 col4\" >time</td>\n      <td id=\"T_bb53f_row45_col5\" class=\"data row45 col5\" >0</td>\n      <td id=\"T_bb53f_row45_col6\" class=\"data row45 col6\" >2017</td>\n      <td id=\"T_bb53f_row45_col7\" class=\"data row45 col7\" >120000</td>\n      <td id=\"T_bb53f_row45_col8\" class=\"data row45 col8\" >South Daniel</td>\n      <td id=\"T_bb53f_row45_col9\" class=\"data row45 col9\" >Grenada</td>\n      <td id=\"T_bb53f_row45_col10\" class=\"data row45 col10\" >Python</td>\n    </tr>\n    <tr>\n      <th id=\"T_bb53f_level0_row46\" class=\"row_heading level0 row46\" >46</th>\n      <td id=\"T_bb53f_row46_col0\" class=\"data row46 col0\" >Garrett</td>\n      <td id=\"T_bb53f_row46_col1\" class=\"data row46 col1\" >Sanchez</td>\n      <td id=\"T_bb53f_row46_col2\" class=\"data row46 col2\" >1987-10-23</td>\n      <td id=\"T_bb53f_row46_col3\" class=\"data row46 col3\" >garrett.sanchez@fake_domain-2.com</td>\n      <td id=\"T_bb53f_row46_col4\" class=\"data row46 col4\" >PM</td>\n      <td id=\"T_bb53f_row46_col5\" class=\"data row46 col5\" >10</td>\n      <td id=\"T_bb53f_row46_col6\" class=\"data row46 col6\" >2015</td>\n      <td id=\"T_bb53f_row46_col7\" class=\"data row46 col7\" >135000</td>\n      <td id=\"T_bb53f_row46_col8\" class=\"data row46 col8\" >Lynchland</td>\n      <td id=\"T_bb53f_row46_col9\" class=\"data row46 col9\" >Nepal</td>\n      <td id=\"T_bb53f_row46_col10\" class=\"data row46 col10\" >Pandas</td>\n    </tr>\n    <tr>\n      <th id=\"T_bb53f_level0_row47\" class=\"row_heading level0 row47\" >47</th>\n      <td id=\"T_bb53f_row47_col0\" class=\"data row47 col0\" >Isaiah</td>\n      <td id=\"T_bb53f_row47_col1\" class=\"data row47 col1\" >Pearson</td>\n      <td id=\"T_bb53f_row47_col2\" class=\"data row47 col2\" >1989-03-02</td>\n      <td id=\"T_bb53f_row47_col3\" class=\"data row47 col3\" >isaiah.pearson@fake_domain-2.com</td>\n      <td id=\"T_bb53f_row47_col4\" class=\"data row47 col4\" >relate</td>\n      <td id=\"T_bb53f_row47_col5\" class=\"data row47 col5\" >9</td>\n      <td id=\"T_bb53f_row47_col6\" class=\"data row47 col6\" >2014</td>\n      <td id=\"T_bb53f_row47_col7\" class=\"data row47 col7\" >95000</td>\n      <td id=\"T_bb53f_row47_col8\" class=\"data row47 col8\" >Michellestad</td>\n      <td id=\"T_bb53f_row47_col9\" class=\"data row47 col9\" >Sao Tome and Principe</td>\n      <td id=\"T_bb53f_row47_col10\" class=\"data row47 col10\" >Python</td>\n    </tr>\n    <tr>\n      <th id=\"T_bb53f_level0_row48\" class=\"row_heading level0 row48\" >48</th>\n      <td id=\"T_bb53f_row48_col0\" class=\"data row48 col0\" >Elizabeth</td>\n      <td id=\"T_bb53f_row48_col1\" class=\"data row48 col1\" >Schneider</td>\n      <td id=\"T_bb53f_row48_col2\" class=\"data row48 col2\" >1972-01-16</td>\n      <td id=\"T_bb53f_row48_col3\" class=\"data row48 col3\" >elizabeth.schneider@fake_domain-2.com</td>\n      <td id=\"T_bb53f_row48_col4\" class=\"data row48 col4\" >nor</td>\n      <td id=\"T_bb53f_row48_col5\" class=\"data row48 col5\" >15</td>\n      <td id=\"T_bb53f_row48_col6\" class=\"data row48 col6\" >1974</td>\n      <td id=\"T_bb53f_row48_col7\" class=\"data row48 col7\" >100000</td>\n      <td id=\"T_bb53f_row48_col8\" class=\"data row48 col8\" >East Kevinton</td>\n      <td id=\"T_bb53f_row48_col9\" class=\"data row48 col9\" >Monaco</td>\n      <td id=\"T_bb53f_row48_col10\" class=\"data row48 col10\" >Python</td>\n    </tr>\n    <tr>\n      <th id=\"T_bb53f_level0_row49\" class=\"row_heading level0 row49\" >49</th>\n      <td id=\"T_bb53f_row49_col0\" class=\"data row49 col0\" >Eric</td>\n      <td id=\"T_bb53f_row49_col1\" class=\"data row49 col1\" >Lloyd</td>\n      <td id=\"T_bb53f_row49_col2\" class=\"data row49 col2\" >1979-11-21</td>\n      <td id=\"T_bb53f_row49_col3\" class=\"data row49 col3\" >eric.lloyd@fake_domain-2.com</td>\n      <td id=\"T_bb53f_row49_col4\" class=\"data row49 col4\" >Republican</td>\n      <td id=\"T_bb53f_row49_col5\" class=\"data row49 col5\" >5</td>\n      <td id=\"T_bb53f_row49_col6\" class=\"data row49 col6\" >2009</td>\n      <td id=\"T_bb53f_row49_col7\" class=\"data row49 col7\" >100000</td>\n      <td id=\"T_bb53f_row49_col8\" class=\"data row49 col8\" >Romeroburgh</td>\n      <td id=\"T_bb53f_row49_col9\" class=\"data row49 col9\" >Mauritius</td>\n      <td id=\"T_bb53f_row49_col10\" class=\"data row49 col10\" >SQL</td>\n    </tr>\n  </tbody>\n</table>\n"
     },
     "execution_count": 41,
     "metadata": {},
     "output_type": "execute_result"
    }
   ],
   "source": [
    "df.style"
   ],
   "metadata": {
    "collapsed": false,
    "pycharm": {
     "name": "#%%\n"
    }
   }
  },
  {
   "cell_type": "code",
   "execution_count": 30,
   "outputs": [],
   "source": [
    "df1 = df.iloc[:, :72]\n",
    "df2 = df.iloc[:, 72:]"
   ],
   "metadata": {
    "collapsed": false,
    "pycharm": {
     "name": "#%%\n"
    }
   }
  },
  {
   "cell_type": "markdown",
   "source": [
    "# Continuation de l'exercice\n",
    "Sur la base du tutoriel que nous avons fait jusqu'à présent, essayez d'explorer les nouvelles fonctions et analysez et utilisez celles qui correspondent à vos données, en ignorant celles qui ne peuvent pas être utilisées."
   ],
   "metadata": {
    "collapsed": false,
    "pycharm": {
     "name": "#%% md\n"
    }
   }
  },
  {
   "cell_type": "code",
   "execution_count": null,
   "outputs": [],
   "source": [],
   "metadata": {
    "collapsed": false,
    "pycharm": {
     "name": "#%%\n"
    }
   }
  }
 ],
 "metadata": {
  "kernelspec": {
   "display_name": "Python 3",
   "language": "python",
   "name": "python3"
  },
  "language_info": {
   "codemirror_mode": {
    "name": "ipython",
    "version": 2
   },
   "file_extension": ".py",
   "mimetype": "text/x-python",
   "name": "python",
   "nbconvert_exporter": "python",
   "pygments_lexer": "ipython2",
   "version": "2.7.6"
  }
 },
 "nbformat": 4,
 "nbformat_minor": 0
}