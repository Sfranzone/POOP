{
 "cells": [
  {
   "cell_type": "markdown",
   "metadata": {
    "collapsed": true,
    "pycharm": {
     "name": "#%% md\n"
    }
   },
   "source": [
    "# Pandas\n",
    "Pandas est une librairie Python qui permet de manipuler et de gérer les données. Cette bibliothèque est donc utilisée dans le domaine de l'exploration des données. On cherche ici donc de modéliser et exploiter le domaine  du traitement  des données.\n",
    "Pour faire cela donc nous sommes obligés de définir des entités principales qui sont le fondement du domaine.\n"
   ]
  },
  {
   "cell_type": "markdown",
   "source": [
    "## Pandas: les  concepts principaux\n",
    "Dans le monde de donneés nous avons au moins deux concepts qui sont fondamentaux : les matrices et les vecteurs.\n",
    "Ces deux concepts modélisent une façon d'organiser les données. Nous verrons comment ces 2 concepts sont rendus dans la librairie pandas\n",
    "### Dataframe (ou matrices)\n",
    "\n",
    "Vous connaissez déjà les arrays en Python."
   ],
   "metadata": {
    "collapsed": false,
    "pycharm": {
     "name": "#%% md\n"
    }
   }
  },
  {
   "cell_type": "markdown",
   "source": [
    "# Contexte\n",
    "Essayons d'imaginer un contexte dans lequel vous devez acquérir une famille de chiens, où nous avons une maman, un papa et un chiot."
   ],
   "metadata": {
    "collapsed": false
   }
  },
  {
   "cell_type": "markdown",
   "source": [
    "![Famille](/Users/dpicca/PycharmProjects/POOP/img/famille_chiens.png)"
   ],
   "metadata": {
    "collapsed": false
   }
  },
  {
   "cell_type": "markdown",
   "source": [
    "Maintenant, les chiens peuvent également être décrits en fonction de leurs caractéristiques (vous vous souvenez du cours sur les bases de données ?). Dans ce cas, nous acceptons comme caractéristiques la taille des pattes, la longueur du poil et la taille du ventre."
   ],
   "metadata": {
    "collapsed": false
   }
  },
  {
   "cell_type": "code",
   "execution_count": 1,
   "outputs": [],
   "source": [
    "famille_chiens = [\n",
    "    [100, 5  , 80],\n",
    "    [50 , 2.5, 40],\n",
    "    [110, 6  , 80],\n",
    "]"
   ],
   "metadata": {
    "collapsed": false,
    "pycharm": {
     "name": "#%%\n"
    }
   }
  },
  {
   "cell_type": "markdown",
   "source": [
    "Comme vous voyez, il n’y a pas de modélisation. Et pourtant cela ressemble à un tableau Excel,\n",
    "n'est ce-pas?\n",
    "\n",
    "![Tableau](/Users/dpicca/PycharmProjects/POOP/img/tableau.png)\n",
    "\n",
    "Mais un tableau est déjà un \"modèle\" qui permet de \"modéliser\" des données d'une certaine façon.\n",
    "Par example pensez à devoir modéliser une famille de chiens et de représenter cela dans un tableau.\n",
    "Vous avez donc besoin d'une librairie qui vous permet de faire cela. Cette librairie s'appelle [pandas](https://pandas.pydata.org/)"
   ],
   "metadata": {
    "collapsed": false,
    "pycharm": {
     "name": "#%% md\n"
    }
   }
  },
  {
   "cell_type": "code",
   "execution_count": 2,
   "outputs": [
    {
     "data": {
      "text/plain": "     0    1   2\n0  100  5.0  80\n1   50  2.5  40\n2  110  6.0  80",
      "text/html": "<div>\n<style scoped>\n    .dataframe tbody tr th:only-of-type {\n        vertical-align: middle;\n    }\n\n    .dataframe tbody tr th {\n        vertical-align: top;\n    }\n\n    .dataframe thead th {\n        text-align: right;\n    }\n</style>\n<table border=\"1\" class=\"dataframe\">\n  <thead>\n    <tr style=\"text-align: right;\">\n      <th></th>\n      <th>0</th>\n      <th>1</th>\n      <th>2</th>\n    </tr>\n  </thead>\n  <tbody>\n    <tr>\n      <th>0</th>\n      <td>100</td>\n      <td>5.0</td>\n      <td>80</td>\n    </tr>\n    <tr>\n      <th>1</th>\n      <td>50</td>\n      <td>2.5</td>\n      <td>40</td>\n    </tr>\n    <tr>\n      <th>2</th>\n      <td>110</td>\n      <td>6.0</td>\n      <td>80</td>\n    </tr>\n  </tbody>\n</table>\n</div>"
     },
     "execution_count": 2,
     "metadata": {},
     "output_type": "execute_result"
    }
   ],
   "source": [
    "import pandas as pd\n",
    "famille_chiens_df = pd.DataFrame(famille_chiens)\n",
    "famille_chiens_df"
   ],
   "metadata": {
    "collapsed": false,
    "pycharm": {
     "name": "#%%\n"
    }
   }
  },
  {
   "cell_type": "code",
   "execution_count": 3,
   "outputs": [
    {
     "data": {
      "text/plain": "       pattes  poil  ventre\nmaman     100   5.0      80\nbebe       50   2.5      40\npapa      110   6.0      80",
      "text/html": "<div>\n<style scoped>\n    .dataframe tbody tr th:only-of-type {\n        vertical-align: middle;\n    }\n\n    .dataframe tbody tr th {\n        vertical-align: top;\n    }\n\n    .dataframe thead th {\n        text-align: right;\n    }\n</style>\n<table border=\"1\" class=\"dataframe\">\n  <thead>\n    <tr style=\"text-align: right;\">\n      <th></th>\n      <th>pattes</th>\n      <th>poil</th>\n      <th>ventre</th>\n    </tr>\n  </thead>\n  <tbody>\n    <tr>\n      <th>maman</th>\n      <td>100</td>\n      <td>5.0</td>\n      <td>80</td>\n    </tr>\n    <tr>\n      <th>bebe</th>\n      <td>50</td>\n      <td>2.5</td>\n      <td>40</td>\n    </tr>\n    <tr>\n      <th>papa</th>\n      <td>110</td>\n      <td>6.0</td>\n      <td>80</td>\n    </tr>\n  </tbody>\n</table>\n</div>"
     },
     "execution_count": 3,
     "metadata": {},
     "output_type": "execute_result"
    }
   ],
   "source": [
    "famille_chiens_df = pd.DataFrame(famille_chiens,\n",
    "                                index = ['maman', 'bebe', 'papa'],\n",
    "                                columns = ['pattes', 'poil', 'ventre'])\n",
    "famille_chiens_df"
   ],
   "metadata": {
    "collapsed": false,
    "pycharm": {
     "name": "#%%\n"
    }
   }
  },
  {
   "cell_type": "markdown",
   "source": [
    "## La notion d'objet\n",
    "Comme vous l'aurez remarqué, vous avez modélisé et construit un objet que nous avons appelé la famille des chiens, qui se compose de trois caractéristiques fondamentales : les pattes, la fourrure et le ventre. La programmation permet donc de reconstruire tout type d'objet (concret ou abstrait) à l'aide de modèles afin de reconstruire un certain univers discursif."
   ],
   "metadata": {
    "collapsed": false
   }
  },
  {
   "cell_type": "markdown",
   "source": [
    "Une matrice n'est donc rien d'autre qu'un modèle permettant de représenter un autre modèle, qui dans ce cas est un chien, à travers ses caractéristiques. N'oubliez pas qu'une matrice est donc elle-même un objet et que ce que vous venez d'utiliser est un objet python."
   ],
   "metadata": {
    "collapsed": false
   }
  },
  {
   "cell_type": "markdown",
   "source": [
    "### Series (ou vecteur)\n",
    "\n",
    "Vous connaissez déjà les listes en Python."
   ],
   "metadata": {
    "collapsed": false
   }
  },
  {
   "cell_type": "code",
   "execution_count": null,
   "outputs": [],
   "source": [
    "age_chiens = [7, 5 , 10]"
   ],
   "metadata": {
    "collapsed": false,
    "pycharm": {
     "name": "#%%\n"
    }
   }
  },
  {
   "cell_type": "markdown",
   "source": [
    "Donc une Serie est une autre façon de représenter un vecteur avec qu'une seule dimension"
   ],
   "metadata": {
    "collapsed": false,
    "pycharm": {
     "name": "#%% md\n"
    }
   }
  },
  {
   "cell_type": "markdown",
   "source": [
    "Vous allez encore me demander quel est l'intérêt de cette librairie n'est-ce pas ?\n",
    "En fait, l'objet DataFrame ou Series est très similaire à certains concepts que l'on trouve en dehors du cadre du langage Python. Il est similaire :\n",
    "aux tables des bases de données relationnelles (type MySQL, PostgreSQL, etc.) que l'on manipule grâce au langage SQL"
   ],
   "metadata": {
    "collapsed": false
   }
  },
  {
   "cell_type": "markdown",
   "source": [
    "# Pandas exemples\n",
    "\n",
    "L'avantage de utiliser la programmation orientée objet et donc de pouvoir modéliser un domaine tel comme le domaine de la manipulation des données et celui de pouvoir ensuite faire de façon aisée des manipulations sans devoir se compliquer la tâche.\n",
    "\n",
    "## Lire/écrire données\n",
    "Voici quelques petites fonctionnalités des Dataframes.\n",
    "\n",
    "Tout d'abord, accédons à la colonne ventre de notre table. Il y a deux syntaxes possibles, qui renvoient exactement le même résultat :"
   ],
   "metadata": {
    "collapsed": false
   }
  },
  {
   "cell_type": "code",
   "execution_count": null,
   "outputs": [],
   "source": [
    "famille_chiens_df.ventre\n",
    "famille_chiens_df[\"ventre\"]"
   ],
   "metadata": {
    "collapsed": false,
    "pycharm": {
     "name": "#%%\n"
    }
   }
  },
  {
   "cell_type": "markdown",
   "source": [
    "ATTENTION:\n",
    "L'objet que renvoie `famille_chiens_df[\"ventre\"]` est de type `pandas.Series`.\n",
    "Pour obtenir les valeurs de la colonne ventre au format numpy, il faut saisir `famille_chiens_df[\"ventre\"].values`\n",
    "\n",
    "## Manipuler les objets\n",
    "\n",
    "Évidemment, l'objectif de la programmation orientée objet est que tout objet puisse être facilement manipulé afin de modifier sa structure ou de lui faire afficher certaines caractéristiques.\n",
    "\n",
    "### Faire des figures avec vos données\n",
    "\n",
    "Une fois que vous avez bien structuré la modélisation de vos données, ça sera plus facile de pouvoir représenter aussi de façon graphique que vous donnez, comme par exemple :"
   ],
   "metadata": {
    "collapsed": false,
    "pycharm": {
     "name": "#%% md\n"
    }
   }
  },
  {
   "cell_type": "code",
   "execution_count": 4,
   "outputs": [
    {
     "data": {
      "text/plain": "<AxesSubplot:>"
     },
     "execution_count": 4,
     "metadata": {},
     "output_type": "execute_result"
    },
    {
     "data": {
      "text/plain": "<Figure size 432x288 with 1 Axes>",
      "image/png": "[encoded data removed]"
     },
     "metadata": {
      "needs_background": "light"
     },
     "output_type": "display_data"
    }
   ],
   "source": [
    "import matplotlib.pyplot as plt\n",
    "famille_chiens_df.plot(kind='bar',layout=(4,5))"
   ],
   "metadata": {
    "collapsed": false,
    "pycharm": {
     "name": "#%%\n"
    }
   }
  },
  {
   "cell_type": "markdown",
   "source": [
    "# Exercises Pandas (autres fonctions)\n"
   ],
   "metadata": {
    "collapsed": false
   }
  }
 ],
 "metadata": {
  "kernelspec": {
   "display_name": "Python 3",
   "language": "python",
   "name": "python3"
  },
  "language_info": {
   "codemirror_mode": {
    "name": "ipython",
    "version": 2
   },
   "file_extension": ".py",
   "mimetype": "text/x-python",
   "name": "python",
   "nbconvert_exporter": "python",
   "pygments_lexer": "ipython2",
   "version": "2.7.6"
  }
 },
 "nbformat": 4,
 "nbformat_minor": 0
}