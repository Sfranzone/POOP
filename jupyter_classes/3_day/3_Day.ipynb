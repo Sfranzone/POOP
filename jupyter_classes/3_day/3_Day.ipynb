{
 "cells": [
  {
   "cell_type": "markdown",
   "metadata": {
    "collapsed": true,
    "pycharm": {
     "name": "#%% md\n"
    }
   },
   "source": [
    "# Projet guidé.\n",
    "Or vous avez compris que chaque domaine nécessite sa modélisation.\n",
    "En ce qui concerne la manipulation des données, nous avons exploré la librairie pandas\n",
    "qui a été conçue et modélisée pour répondre à cette fin.\n",
    "\n",
    "Nous allons maintenant aborder un sujet un peu plus ludique;\n",
    "nous allons donc modéliser l'espace dans le monde virtuel occupé\n",
    "par des agents qui habite dans certaines régions et qui ont une certaine personnalité.\n",
    "\n",
    "Nous allons donc cartographer les différentes régions par rapport au caractère des agents qu'y habitent\n",
    "\n",
    "Allons-y!\n",
    "## Création UML d'un monde virtuel\n",
    "\n",
    "Modélisez votre monde :\n",
    "   * un Agent est représenté par un pion rouge. Il a plusieurs attributs, dont une position.\n",
    "   * une Position est représentée par le placement d'un pion sur le plateau.\n",
    "   * une Zone est représentée par une zone minimale de jeu dans ma bataille navale.\n",
    "   * Les Graphiques ne sont pas dans le jeu de bataille navale mais il faut quand même y songer !\n",
    "\n",
    "Nous avons nos objets ! Parlons maintenant des attributs de chacun."
   ]
  },
  {
   "cell_type": "markdown",
   "source": [
    "Chaque objet a une méthode qui lui sert à générer de nouveaux objets sur même modèle.\n",
    "Cela peut paraitre abstrait pour le moment mais nous reviendrons sur cette notion un peu plus tard.\n",
    "Une Zone doit calculer la densité de population.\n",
    "Pour cela, elle doit connaitre la population qui vit sur son périmètre ainsi que la surface en kilomètres carrés qui la compose.\n",
    "Nous pouvons donc déjà y déceler trois méthodes importantes :  `population` ,  `area`  et  `population_density`.\n",
    "\n",
    "Faisons donc notre modèle en utilisant [ce site](https://app.genmymodel.com/personal/)"
   ],
   "metadata": {
    "collapsed": false
   }
  },
  {
   "cell_type": "markdown",
   "source": [
    "# Exercises UML projet guidé (changer de scénario ou autre)\n",
    "\n"
   ],
   "metadata": {
    "collapsed": false
   }
  }
 ],
 "metadata": {
  "kernelspec": {
   "display_name": "Python 3",
   "language": "python",
   "name": "python3"
  },
  "language_info": {
   "codemirror_mode": {
    "name": "ipython",
    "version": 2
   },
   "file_extension": ".py",
   "mimetype": "text/x-python",
   "name": "python",
   "nbconvert_exporter": "python",
   "pygments_lexer": "ipython2",
   "version": "2.7.6"
  }
 },
 "nbformat": 4,
 "nbformat_minor": 0
}