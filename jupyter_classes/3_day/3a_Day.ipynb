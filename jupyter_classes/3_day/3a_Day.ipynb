{
 "cells": [
  {
   "cell_type": "markdown",
   "source": [
    "## Voici un exemple simple d'héritage en Python:\n",
    "\n"
   ],
   "metadata": {
    "collapsed": false
   }
  },
  {
   "cell_type": "code",
   "execution_count": null,
   "outputs": [],
   "source": [
    "class Animal:\n",
    "    def __init__(self, nom, age):\n",
    "        self.nom = nom\n",
    "        self.age = age\n",
    "\n",
    "    def manger(self):\n",
    "        print(f\"{self.nom} est en train de manger.\")\n",
    "\n",
    "    def dormir(self):\n",
    "        print(f\"{self.nom} dort.\")\n",
    "\n",
    "# La classe Chien hérite de la classe Animal\n",
    "class Chien(Animal):\n",
    "    def aboyer(self):\n",
    "        print(f\"{self.nom} aboie.\")\n",
    "\n",
    "# Création d'un objet de la classe Chien\n",
    "mon_chien = Chien(\"Medor\", 5)\n",
    "\n",
    "# Appel des méthodes héritées de la classe Animal\n",
    "mon_chien.manger()\n",
    "mon_chien.dormir()\n",
    "\n",
    "# Appel de la méthode spécifique à la classe Chien\n",
    "mon_chien.aboyer()\n"
   ],
   "metadata": {
    "collapsed": false
   }
  },
  {
   "cell_type": "markdown",
   "source": [
    "Dans cet exemple, la classe Chien hérite de la classe Animal et peut donc utiliser toutes les méthodes et propriétés de cette dernière. La classe Chien peut également définir des méthodes et propriétés spécifiques à cette classe."
   ],
   "metadata": {
    "collapsed": false
   }
  },
  {
   "cell_type": "markdown",
   "source": [
    "## Voici un exemple d'abstraction dans la programmation orientée objet en utilisant le langage Python :"
   ],
   "metadata": {
    "collapsed": false
   }
  },
  {
   "cell_type": "code",
   "execution_count": null,
   "outputs": [],
   "source": [
    "class Animal:\n",
    "  def __init__(self, nom):\n",
    "    self.nom = nom\n",
    "\n",
    "  def dormir(self):\n",
    "    print(self.nom + \" dort.\")\n",
    "\n",
    "class Chien(Animal):\n",
    "  def __init__(self, nom):\n",
    "    super().__init__(nom)\n",
    "\n",
    "  def aboyer(self):\n",
    "    print(self.nom + \" aboie.\")\n",
    "\n",
    "class Chat(Animal):\n",
    "  def __init__(self, nom):\n",
    "    super().__init__(nom)\n",
    "\n",
    "  def miauler(self):\n",
    "    print(self.nom + \" miaule.\")\n",
    "\n",
    "chien = Chien(\"Buddy\")\n",
    "chien.dormir()\n",
    "chien.aboyer()\n",
    "\n",
    "chat = Chat(\"Minou\")\n",
    "chat.dormir()\n",
    "chat.miauler()\n"
   ],
   "metadata": {
    "collapsed": false
   }
  },
  {
   "cell_type": "markdown",
   "source": [
    "Dans cet exemple, la classe Animal définit un comportement commun à tous les animaux (dormir), tandis que les classes Chien et Chat héritent de Animal et définissent des comportements spécifiques (aboyer et miauler). Cela permet d'abstraire les comportements communs et de les réutiliser pour chaque type d'animal, sans avoir à écrire de code redondant."
   ],
   "metadata": {
    "collapsed": false
   }
  },
  {
   "cell_type": "markdown",
   "source": [
    "## Voici un exemple simple d'encapsulation en Python :"
   ],
   "metadata": {
    "collapsed": false
   }
  },
  {
   "cell_type": "code",
   "execution_count": null,
   "outputs": [],
   "source": [
    "class MaClasse:\n",
    "    def __init__(self):\n",
    "        self.attribut_prive = \"attribut privé\"\n",
    "        self._attribut_prive_avec_acces = \"attribut privé avec accès limité\"\n",
    "        self.attribut_public = \"attribut public\"\n",
    "\n",
    "    def __methode_privee(self):\n",
    "        print(\"Méthode privée\")\n",
    "\n",
    "    def methode_publique(self):\n",
    "        print(\"Méthode publique\")\n",
    "        self.__methode_privee()\n",
    "\n",
    "    def __str__(self):\n",
    "        return self.attribut_public\n",
    "\n",
    "    def __repr__(self):\n",
    "        return self.attribut_public\n"
   ],
   "metadata": {
    "collapsed": false
   }
  },
  {
   "cell_type": "markdown",
   "source": [
    "Dans cet exemple, les attributs et méthodes privées sont définis en ajoutant un double underscore devant leur nom (par exemple, __attribut_prive et __methode_privee). Les attributs et méthodes publiques sont définis sans underscore devant leur nom (par exemple, attribut_public et methode_publique).\n",
    "\n",
    "L'encapsulation en Python est une convention, c'est-à-dire que le langage ne vous empêche pas d'accéder directement aux attributs et méthodes privées. Cependant, il est considéré comme une bonne pratique de respecter cette convention pour une meilleure organisation et une meilleure lisibilité du code."
   ],
   "metadata": {
    "collapsed": false
   }
  },
  {
   "cell_type": "markdown",
   "source": [
    "## Voici un exemple de polymorphisme en python :"
   ],
   "metadata": {
    "collapsed": false
   }
  },
  {
   "cell_type": "code",
   "execution_count": null,
   "metadata": {
    "collapsed": true
   },
   "outputs": [],
   "source": [
    "\n",
    "class Animal:\n",
    "    def init(self, nom):\n",
    "    self.nom = nom\n",
    "\n",
    "def parler(self):\n",
    "    pass\n",
    "\n",
    "class Chien(Animal):\n",
    "    def parler(self):\n",
    "    print(f\"{self.nom} : Ouaf ! Ouaf !\")\n",
    "\n",
    "class Chat(Animal):\n",
    "    def parler(self):\n",
    "    print(f\"{self.nom} : Miaou ! Miaou !\")\n",
    "\n",
    "class Oiseau(Animal):\n",
    "    def parler(self):\n",
    "    print(f\"{self.nom} : Cui-cui ! Cui-cui !\")\n",
    "\n",
    "chien = Chien(\"Medor\")\n",
    "chat = Chat(\"Minou\")\n",
    "oiseau = Oiseau(\"Pinson\")\n",
    "\n",
    "chien.parler() # affiche \"Medor : Ouaf ! Ouaf !\"\n",
    "chat.parler() # affiche \"Minou : Miaou ! Miaou !\"\n",
    "oiseau.parler() # affiche \"Pinson : Cui-cui ! Cui-cui !\"\n",
    "\n"
   ]
  },
  {
   "cell_type": "markdown",
   "source": [
    "La méthode \"parler\" a des comportements différents en fonction de l'objet sur lequel elle est appelée, même si elle a le même nom et la même signature pour chaque classe fille."
   ],
   "metadata": {
    "collapsed": false
   }
  }
 ],
 "metadata": {
  "kernelspec": {
   "display_name": "Python 3",
   "language": "python",
   "name": "python3"
  },
  "language_info": {
   "codemirror_mode": {
    "name": "ipython",
    "version": 2
   },
   "file_extension": ".py",
   "mimetype": "text/x-python",
   "name": "python",
   "nbconvert_exporter": "python",
   "pygments_lexer": "ipython2",
   "version": "2.7.6"
  }
 },
 "nbformat": 4,
 "nbformat_minor": 0
}
