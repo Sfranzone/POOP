{
 "cells": [
  {
   "cell_type": "markdown",
   "metadata": {
    "collapsed": true,
    "pycharm": {
     "name": "#%% md\n"
    }
   },
   "source": [
    "# Les exceptions\n",
    "Nous pouvons définir une exception comme une construction linguistique qui génère un message d'erreur lorsqu'une anomalie se produit.\n",
    "Lorsqu'un problème survient pendant le fonctionnement d'un processus, ce dernier est arrêté et, si l'anomalie n'est pas traitée, l'application cessera de fonctionner après avoir été signalée.\n",
    "## Exceptions par défaut\n",
    "\n",
    "Python dispose de dizaines d'exceptions prédéfinies, et chacune d'entre elles est dédiée au signalement d'anomalies spécifiques. Du point de vue d'un nouveau venu dans Python, l'exception la plus intéressante est SyntaxError, qui est utilisée pour signaler les erreurs qui ont pu se produire lors de la saisie du code.\n",
    "\n",
    "Un exemple simple d'erreur syntaxique est l'utilisation d'un format inattendu pour définir une construction :"
   ]
  },
  {
   "cell_type": "code",
   "source": [
    "x = 10\n",
    "if x > 4"
   ],
   "metadata": {
    "collapsed": false,
    "pycharm": {
     "name": "#%%\n"
    }
   },
   "execution_count": null,
   "outputs": []
  },
  {
   "cell_type": "markdown",
   "source": [
    "Comme on peut le voir, la saisie du code ci-dessus produit la notification d'erreur \"SyntaxError : invalid syntax\".\n",
    "Ce dernier consiste en une référence à l'exception qui a envoyé le message (\"SyntaxError\") et en une description du type\n",
    "d'erreur qui s'est produite (\"syntaxe invalide\").\n",
    "\n",
    "En effet, l'interpréteur Python est capable de détecter la présence d'une syntaxe malformée, dans ce cas le deux-points manquant à la fin de la condition,\n",
    "et répond à cet événement en appelant l'exception par défaut appropriée pour signaler l'anomalie détectée."
   ],
   "metadata": {
    "collapsed": false
   }
  },
  {
   "cell_type": "markdown",
   "source": [
    "## Erreurs d'exécution\n",
    "\n",
    "Bien que le terme \"exception\" soit utilisé de manière assez générique pour identifier tout événement anormal susceptible d'empêcher le fonctionnement correct d'un processus, il serait préférable de le distinguer du concept tout aussi générique d'\"erreur\".\n",
    "Les anomalies syntaxiques sont à considérer comme des erreurs (de la part du développeur) à tous égards, puisqu'elles précèdent la phase d'exécution et sont produites pendant l'écriture du code.\n",
    "\n",
    "Le cas des erreurs dites d'exécution est différent, c'est-à-dire celles qui se produisent au moment de l'exécution, pour lesquelles le terme \"exception\" est plus approprié.\n",
    "\n",
    "Un exemple éclairant serait l'ouverture d'un dossier non disponible :"
   ],
   "metadata": {
    "collapsed": false
   }
  },
  {
   "cell_type": "code",
   "source": [
    "open('README2.txt','rt')"
   ],
   "metadata": {
    "collapsed": false,
    "pycharm": {
     "name": "#%%\n"
    }
   },
   "execution_count": null,
   "outputs": []
  },
  {
   "cell_type": "markdown",
   "source": [
    "Dans ce cas, la syntaxe utilisée est correcte et le dysfonctionnement est dû à l'absence de la ressource souhaitée. L'interprète utilise donc l'exception par défaut FileNotFoundError, et non \"SyntaxError\", car elle est plus adaptée au traitement de ce type de cas.\n",
    "\n",
    "Un message d'erreur similaire s'affiche également si l'on tente d'accéder au contenu d'un répertoire inexistant :"
   ],
   "metadata": {
    "collapsed": false
   }
  },
  {
   "cell_type": "code",
   "source": [
    "import os\n",
    "os.listdir('directory_inexistante/')"
   ],
   "metadata": {
    "collapsed": false,
    "pycharm": {
     "name": "#%%\n"
    }
   },
   "execution_count": null,
   "outputs": []
  },
  {
   "cell_type": "markdown",
   "source": [
    "## Gestion des exceptions : try, raise et except\n",
    "\n",
    "La gestion des exceptions est une pratique qui nous permet de gérer les exceptions en Python, basée sur la délimitation du code en blocs dans lesquels lancer des instructions et déterminer le comportement qui suivra si une erreur se produit.\n",
    "\n",
    "Un exemple simple de traitement des exceptions pourrait être celui présenté dans le listing suivant :"
   ],
   "metadata": {
    "collapsed": false
   }
  },
  {
   "cell_type": "code",
   "source": [
    "try:\n",
    "    x = int(input('Tapez un nombre entier égal ou inférieur à 9 : '))\n",
    "    if x > 9 :\n",
    "        raise ValueError(\"Nombre supérieur à 9\")\n",
    "except ValueError as y :\n",
    "    print(y)"
   ],
   "metadata": {
    "collapsed": false,
    "pycharm": {
     "name": "#%%\n"
    }
   },
   "execution_count": null,
   "outputs": []
  },
  {
   "cell_type": "markdown",
   "source": [
    "L'application présentée ici demande à l'utilisateur d'entrer un nombre entier qui est inférieur ou égal à la valeur associée à la variable \"x\", dans ce cas \"9\".\n",
    "Si vous tapez une valeur supérieure à celle de la variable, vous obtiendrez une notification d'erreur \"Nombre supérieur à 9\".\n",
    "\n",
    "Remarquez comment le code est introduit par le mot clé `try`, qui a pour tâche d'initialiser le bloc de contrôle des exceptions.\n",
    "Le message d'erreur attendu est affiché si l'exception `ValueError` st rencontrée, que l'interprète invoque lorsqu'une valeur est du type correct, mais est différente de la valeur attendue (supérieure à 9 dans l'exemple).\n",
    "\n",
    "Le mot clé ``raise`` permet à l'utilisateur de définir la manière de traiter l'exception, tandis que la clause ``except`` permet à l'utilisateur d'identifier l'exception à traiter.\n",
    "Cette clause devient particulièrement utile dans le cas d'exceptions multiples, puisqu'un seul bloc ``try`` peut avoir à en gérer plusieurs.\n",
    "\n",
    "## Gestion des exceptions : try et finally\n",
    "\n",
    "Un bloc try peut comporter une clause finally définissant une instruction qui sera exécutée de toute façon, que l'erreur que vous souhaitez traiter se produise ou non.\n",
    "Regardez le code suivant :"
   ],
   "metadata": {
    "collapsed": false
   }
  },
  {
   "cell_type": "code",
   "execution_count": null,
   "outputs": [],
   "source": [
    "try:\n",
    "    f = open(\"nom_file.txt\",encoding = 'utf-8')\n",
    "finally:\n",
    "    f.close()"
   ],
   "metadata": {
    "collapsed": false,
    "pycharm": {
     "name": "#%%\n"
    }
   }
  },
  {
   "cell_type": "markdown",
   "source": [
    "Dans ce cas, il est nécessaire d'ouvrir un fichier,\n",
    " et les opérations ultérieures sur celui-ci peuvent lever des exceptions et bloquer l'application,\n",
    " mais l'instruction introduite par la clause fermera de toute façon la ressource ouverte, sans tenir compte des problèmes\n",
    " qui peuvent survenir."
   ],
   "metadata": {
    "collapsed": false,
    "pycharm": {
     "name": "#%% md\n"
    }
   }
  },
  {
   "cell_type": "markdown",
   "source": [
    "# Exercises"
   ],
   "metadata": {
    "collapsed": false
   }
  }
 ],
 "metadata": {
  "kernelspec": {
   "display_name": "Python 3",
   "language": "python",
   "name": "python3"
  },
  "language_info": {
   "codemirror_mode": {
    "name": "ipython",
    "version": 2
   },
   "file_extension": ".py",
   "mimetype": "text/x-python",
   "name": "python",
   "nbconvert_exporter": "python",
   "pygments_lexer": "ipython2",
   "version": "2.7.6"
  }
 },
 "nbformat": 4,
 "nbformat_minor": 0
}