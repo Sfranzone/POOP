{
 "cells": [
  {
   "cell_type": "markdown",
   "source": [
    "# La classe abstraite\n",
    "\n",
    "Les classes abstraites sont des classes qui ne peuvent pas être instanciées, elles contiennent une ou plusieurs méthodes abstraites. C’est un modèle pour d’autres classes qui héritent un ensemble de méthodes et de propriétés.\n",
    "\n",
    "L’abstraction est très utile lors de la conception de systèmes complexes pour limiter la répétition et assurer la cohérence.\n",
    "De plus, les classes abstraites nous donnent est une manière standard de développer\n",
    "le code même si vous avez plusieurs développeurs travaillant sur un projet.\n",
    "Les classes abstraites peuvent fonctionnent comme maquette d'une architecture informatique."
   ],
   "metadata": {
    "collapsed": false
   }
  },
  {
   "cell_type": "code",
   "execution_count": 2,
   "outputs": [],
   "source": [
    "from abc import ABC, abstractmethod\n",
    "\n",
    "class AbcGraph(ABC):\n",
    "\n",
    "    @abstractmethod\n",
    "    def show(self, zones):\n",
    "        pass\n",
    "\n",
    "    def xy_values(self, zones):\n",
    "        raise NotImplementedError\n"
   ],
   "metadata": {
    "collapsed": false,
    "pycharm": {
     "name": "#%%\n"
    }
   }
  },
  {
   "cell_type": "markdown",
   "source": [
    "# Héritage\n",
    "\n",
    "Maintenant que nous avons défini un modèle général, nous pouvons générer toute une série de classes à partir de cette matrice comme, par exemple, la classe `BaseGraph`\n",
    "qui a son tour peut être la classe mère d'une notre classe (`AgreeablenessGraph` dans notre exemple).\n"
   ],
   "metadata": {
    "collapsed": false
   }
  },
  {
   "cell_type": "code",
   "execution_count": null,
   "outputs": [],
   "source": [
    "#si cela bugge, décommentez ces lignes\n",
    "#import matplotlib as mil\n",
    "#mil.use('TkAgg')\n",
    "import matplotlib.pyplot as plt\n",
    "class BaseGraph(AbcGraph):\n",
    "\n",
    "    def __init__(self):\n",
    "        self.title = \"Your graph title\"\n",
    "        self.x_label = \"X-axis label\"\n",
    "        self.y_label = \"X-axis label\"\n",
    "        self.show_grid = True\n",
    "\n",
    "    def xy_values(self, zones):\n",
    "        self.x_values = [zone.population_density() for zone in zones]\n",
    "        self.y_values = [zone.average_agreeableness() for zone in zones]\n",
    "        return self.x_values, self.y_values\n",
    "\n",
    "    def show(self, zones):\n",
    "        # x_values = gather only x_values from our zones\n",
    "        # y_values = gather only y_values from our zones\n",
    "        plt.plot(self.x_values, self.y_values, '.')\n",
    "        plt.xlabel(self.x_label)\n",
    "        plt.ylabel(self.y_label)\n",
    "        plt.title(self.title)\n",
    "        plt.grid(self.show_grid)\n",
    "        plt.show()\n",
    "\n",
    "\n",
    "class AgreeablenessGraph(BaseGraph):\n",
    "\n",
    "    def __init__(self):\n",
    "        super().__init__()\n",
    "        self.title = \"Nice people live in the countryside\"\n",
    "        self.x_label = \"population density\"\n",
    "        self.y_label = \"agreeableness\"\n",
    "\n"
   ],
   "metadata": {
    "collapsed": false,
    "pycharm": {
     "name": "#%%\n"
    }
   }
  },
  {
   "cell_type": "markdown",
   "source": [
    "# Exercises"
   ],
   "metadata": {
    "collapsed": false
   }
  }
 ],
 "metadata": {
  "kernelspec": {
   "display_name": "Python 3",
   "language": "python",
   "name": "python3"
  },
  "language_info": {
   "codemirror_mode": {
    "name": "ipython",
    "version": 2
   },
   "file_extension": ".py",
   "mimetype": "text/x-python",
   "name": "python",
   "nbconvert_exporter": "python",
   "pygments_lexer": "ipython2",
   "version": "2.7.6"
  }
 },
 "nbformat": 4,
 "nbformat_minor": 0
}