{
 "cells": [
  {
   "cell_type": "markdown",
   "metadata": {
    "collapsed": true,
    "pycharm": {
     "name": "#%% md\n"
    }
   },
   "source": [
    "# Préparation de l'environment de travail\n",
    "* Python 3.9\n",
    "* Pycharm\n",
    "* Jupyter Notebook\n",
    "* git & gitlab"
   ]
  },
  {
   "cell_type": "markdown",
   "source": [
    "# Domain-Driven Design\n",
    "Vous vous rappelez de BD?\n",
    "Qu'est-ce que c'est un modèle?\n",
    "* Un modèle est une représentation conceptuelle des éléments discrimants d'un certain domaine\n",
    "* Vous essayez de comprendre le *quoi* et le *pourquoi* de la solution que vous devez créer, au lieu de vous focaliser sur comment la créer"
   ],
   "metadata": {
    "collapsed": false
   }
  },
  {
   "cell_type": "markdown",
   "source": [
    "# UML"
   ],
   "metadata": {
    "collapsed": false
   }
  },
  {
   "cell_type": "markdown",
   "source": [
    "* Le traitement des données est bel et bien un domaine\n",
    "* Il faut le modéliser (dataframe, Series, etc)\n",
    "* Pandas UML (simple)"
   ],
   "metadata": {
    "collapsed": false
   }
  },
  {
   "cell_type": "markdown",
   "source": [
    "# Exercises UML et Python fonctionnel\n"
   ],
   "metadata": {
    "collapsed": false
   }
  }
 ],
 "metadata": {
  "kernelspec": {
   "display_name": "Python 3",
   "language": "python",
   "name": "python3"
  },
  "language_info": {
   "codemirror_mode": {
    "name": "ipython",
    "version": 2
   },
   "file_extension": ".py",
   "mimetype": "text/x-python",
   "name": "python",
   "nbconvert_exporter": "python",
   "pygments_lexer": "ipython2",
   "version": "2.7.6"
  }
 },
 "nbformat": 4,
 "nbformat_minor": 0
}