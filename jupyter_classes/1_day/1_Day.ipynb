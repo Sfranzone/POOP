{
 "cells": [
  {
   "cell_type": "markdown",
   "metadata": {
    "collapsed": true,
    "pycharm": {
     "name": "#%% md\n"
    }
   },
   "source": [
    "# Préparation de l'environment de travail\n",
    "* Python 3.9\n",
    "* Pycharm\n",
    "* Jupyter Notebook\n",
    "* git & gitlab"
   ]
  },
  {
   "cell_type": "markdown",
   "source": [
    "# Domain-Driven Design\n",
    "Vous vous rappelez de BD?\n",
    "Qu'est-ce que c'est un modèle?\n",
    "* Un modèle est une représentation conceptuelle des éléments discrimants d'un certain domaine\n",
    "* Vous essayez de comprendre le *quoi* et le *pourquoi* de la solution que vous devez créer, au lieu de vous focaliser sur comment la créer"
   ],
   "metadata": {
    "collapsed": false
   }
  },
  {
   "cell_type": "markdown",
   "source": [
    "# Et en programmation oriénté objets (POO)?\n",
    "La programmation orientée objet (POO) est une façon différente de penser la programmation,\n",
    "par rapport à la programmation procédurale que vous avez connue précédemment.\n",
    "Elle permet de structurer son code autrement, tout en ajoutant une couche d’abstraction supplémentaire :\n",
    "en définissant un monde d’objets proche de notre monde à nous."
   ],
   "metadata": {
    "collapsed": false
   }
  },
  {
   "cell_type": "markdown",
   "source": [
    "# UML Exercises\n",
    "* Le traitement des données est bel et bien un domaine\n",
    "* Il faut le modéliser (dataframe, Series, etc)\n",
    "* Pandas UML (simple)\n",
    "* Exercises UML et Python fonctionnel\n"
   ],
   "metadata": {
    "collapsed": false,
    "pycharm": {
     "name": "#%% md\n"
    }
   }
  }
 ],
 "metadata": {
  "kernelspec": {
   "display_name": "Python 3",
   "language": "python",
   "name": "python3"
  },
  "language_info": {
   "codemirror_mode": {
    "name": "ipython",
    "version": 2
   },
   "file_extension": ".py",
   "mimetype": "text/x-python",
   "name": "python",
   "nbconvert_exporter": "python",
   "pygments_lexer": "ipython2",
   "version": "2.7.6"
  }
 },
 "nbformat": 4,
 "nbformat_minor": 0
}