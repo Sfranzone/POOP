{
 "cells": [
  {
   "cell_type": "markdown",
   "source": [
    "# Paquets\n",
    "Les Paquets peuvent être considérés à la fois comme des conteneurs (de définitions, d'instructions, de méthodes...) et comme des contenus pouvant être rassemblés dans des ensembles plus structurés appelés paquets.\n",
    "Ces derniers répondent à la nécessité d'organiser les modules de\n",
    "manière rationnelle : un développeur travaillera probablement plus facilement et de manière plus productive s'il peut consacrer différents espaces à des modules ayant des fonctionnalités différentes, c'est pourquoi les packages permettent de cataloguer et de subdiviser les modules en fonction de leur objectif.\n",
    "\n",
    "## Structure du paquet\n",
    "\n",
    "Comme nous l'avons déjà mentionné, les paquets sont des ensembles de modules, qui fonctionnent comme des répertoires.\n",
    "Lorsque, par exemple, nous voulons organiser au mieux nos e-mails, nous utilisons des dossiers, en consacrant l'un d'eux aux e-mails professionnels, un autre à la correspondance personnelle, un autre aux spams, etc. Si nous devons ensuite gérer les messages de manière encore plus articulée, nous pouvons créer des sous-dossiers, par exemple en divisant les e-mails professionnels en fonction des clients ou des projets en cours de développement.\n",
    "De la même manière, les paquets peuvent également contenir des sous-paquets permettant de spécialiser davantage la division des modules.\n",
    "\n",
    "Pour qu'un répertoire soit reconnu par Python comme un paquet, il doit dans certains cas contenir un fichier nommé comme ceci : `__init__.py`, dont le contenu n'est pas obligatoire et qui est devenu moins important avec les versions plus récentes de Python (il a été introduit dans la version 2.x), mais qui peut être utilisé pour héberger le code d'initialisation d'un module.\n",
    "\n",
    "# Modules  Python\n",
    "En Python, un module est essentiellement un fichier contenant du code écrit dans ce langage. Les modules sont caractérisés par l'extension \".py\", ainsi le fichier \"instruction.py\" aura le nom de module \"instruction\".\n",
    "L'objectif des modules est double : ils contiennent des instructions et des définitions qui peuvent être réutilisées autant de fois que l'on veut sans\n",
    "avoir besoin de les réécrire, simplement en \"important\" des modules là où c'est nécessaire ;\n",
    "de plus, ils sont particulièrement pratiques pour gérer facilement de grandes quantités de code.\n",
    "\n",
    "## Créer un module\n",
    "\n",
    "La procédure de création d'un module peut se résumer\n",
    "à écrire le code qu'il est censé contenir et à enregistrer le fichier\n",
    "avec l'extension \".py\". En ce qui concerne la syntaxe à utiliser,\n",
    "les règles sont les mêmes que celles que nous avons vues jusqu'à présent, ainsi un module pourrait contenir, par exemple, du code comme celui-ci, destiné à effectuer une simple multiplication via une fonction (\"mul()\") à laquelle on passe 2 facteurs comme paramètres :"
   ],
   "metadata": {
    "collapsed": false,
    "pycharm": {
     "name": "#%% md\n"
    }
   }
  },
  {
   "cell_type": "code",
   "execution_count": null,
   "outputs": [],
   "source": [
    "# Définir le code d'un module\n",
    "def mul(x, y) :\n",
    "    \"\"\"Une application simple qui multiplie\n",
    "    2 valeurs et renvoie le résultat\"\"\"\n",
    "\n",
    "    produit = x * y\n",
    "    return produit"
   ],
   "metadata": {
    "collapsed": false,
    "pycharm": {
     "name": "#%%\n"
    }
   }
  },
  {
   "cell_type": "markdown",
   "source": [
    "Une fois le code enregistré dans un fichier, que nous appellerons par exemple \"app.py\", nous aurons un module qui pourra être importé dans n'importe quel programme.\n",
    "## Importation d'un module\n",
    "\n",
    "Pour importer un module, il faut utiliser le mot-clé import, suivi du nom du module et non du nom du fichier qui le représente, en omettant donc l'extension \".py\" ; une fois cette opération effectuée, les instructions du module seront disponibles pour l'application dans laquelle il a été importé.\n",
    "Ainsi, dans le cas du module créé précédemment, nous devrons utiliser une syntaxe telle que la suivante :"
   ],
   "metadata": {
    "collapsed": false,
    "pycharm": {
     "name": "#%% md\n"
    }
   }
  },
  {
   "cell_type": "code",
   "source": [
    "import app\n",
    "app.mul(6,5)"
   ],
   "metadata": {
    "collapsed": false,
    "pycharm": {
     "name": "#%%\n"
    }
   },
   "execution_count": null,
   "outputs": []
  },
  {
   "cell_type": "markdown",
   "source": [
    "Une manière efficace de gérer les modules est de les renommer afin de gagner du temps lors de la saisie du code. \"App\" pourrait par exemple être renommé en \"a\" de cette manière grâce à la clause as :"
   ],
   "metadata": {
    "collapsed": false
   }
  },
  {
   "cell_type": "code",
   "source": [
    "import app as a"
   ],
   "metadata": {
    "collapsed": false,
    "pycharm": {
     "name": "#%%\n"
    }
   },
   "execution_count": null,
   "outputs": []
  },
  {
   "cell_type": "markdown",
   "source": [
    "Attention toutefois, car lorsqu'un module a été renommé, le nouveau nom doit également être utilisé dans l'appel de fonction, sinon Python produira une erreur car il ne reconnaît plus le nom de module initial :\n",
    "Ainsi:\n",
    "> app.mult(6,5) devient a.mul(6,5)\n",
    "\n",
    "\n",
    "## Gestion des appels aux instructions\n",
    "\n",
    "Un formulaire peut contenir un grand nombre d'instructions et de définitions, il n'est donc pas forcément nécessaire d'importer l'ensemble du formulaire, mais seulement certains de ses éléments. Pour ce faire, nous utiliserons le mot clé from suivi du nom du formulaire et \"import\" suivi du nom de la construction que nous souhaitons importer.\n",
    "Si notre module contient plusieurs instructions et que nous voulons uniquement importer la fonction \"mul()\", nous devons procéder comme suit :"
   ],
   "metadata": {
    "collapsed": false
   }
  },
  {
   "cell_type": "code",
   "source": [
    "from app import mul\n",
    "mul(3,5)"
   ],
   "metadata": {
    "collapsed": false,
    "pycharm": {
     "name": "#%%\n"
    }
   },
   "execution_count": null,
   "outputs": []
  },
  {
   "cell_type": "markdown",
   "source": [],
   "metadata": {
    "collapsed": false
   }
  },
  {
   "cell_type": "markdown",
   "source": [],
   "metadata": {
    "collapsed": false
   }
  },
  {
   "cell_type": "markdown",
   "source": [],
   "metadata": {
    "collapsed": false
   }
  },
  {
   "cell_type": "markdown",
   "source": [],
   "metadata": {
    "collapsed": false
   }
  },
  {
   "cell_type": "markdown",
   "metadata": {
    "collapsed": true,
    "pycharm": {
     "name": "#%% md\n"
    }
   },
   "source": [
    "# Exercises\n",
    "* Gutenberg"
   ]
  }
 ],
 "metadata": {
  "kernelspec": {
   "display_name": "Python 3",
   "language": "python",
   "name": "python3"
  },
  "language_info": {
   "codemirror_mode": {
    "name": "ipython",
    "version": 2
   },
   "file_extension": ".py",
   "mimetype": "text/x-python",
   "name": "python",
   "nbconvert_exporter": "python",
   "pygments_lexer": "ipython2",
   "version": "2.7.6"
  }
 },
 "nbformat": 4,
 "nbformat_minor": 0
}